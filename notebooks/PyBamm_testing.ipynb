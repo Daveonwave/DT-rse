{
 "cells": [
  {
   "cell_type": "markdown",
   "id": "golden-monte",
   "metadata": {},
   "source": [
    "# PyBamm library"
   ]
  },
  {
   "cell_type": "code",
   "execution_count": 50,
   "id": "rubber-consultancy",
   "metadata": {},
   "outputs": [],
   "source": [
    "import pybamm"
   ]
  },
  {
   "cell_type": "code",
   "execution_count": 62,
   "id": "stopped-fight",
   "metadata": {
    "scrolled": true
   },
   "outputs": [
    {
     "name": "stdout",
     "output_type": "stream",
     "text": [
      "Cell-jig heat transfer coefficient [W/K] (Parameter)\n",
      "Upper voltage cut-off [V] (Parameter)\n",
      "Initial SoC (Parameter)\n",
      "Jig-air heat transfer coefficient [W/K] (Parameter)\n",
      "Initial cell temperature [degC] (Parameter)\n",
      "Cell thermal mass [J/K] (Parameter)\n",
      "Cell capacity [A.h] (Parameter)\n",
      "Initial jig temperature [degC] (Parameter)\n",
      "Jig thermal mass [J/K] (Parameter)\n",
      "Lower voltage cut-off [V] (Parameter)\n",
      "Element-1 initial overpotential [V] (Parameter)\n",
      "R0 [Ohm] (FunctionParameter with input(s) 'Cell temperature [degC]', 'Current [A]', 'SoC')\n",
      "Entropic change [V/K] (FunctionParameter with input(s) 'Open circuit voltage [V]', 'Cell temperature [degC]')\n",
      "R1 [Ohm] (FunctionParameter with input(s) 'Cell temperature [degC]', 'Current [A]', 'SoC')\n",
      "Current function [A] (FunctionParameter with input(s) 'Time [s]')\n",
      "Ambient temperature [degC] (FunctionParameter with input(s) 'Time [s]')\n",
      "C1 [F] (FunctionParameter with input(s) 'Cell temperature [degC]', 'Current [A]', 'SoC')\n",
      "\n"
     ]
    }
   ],
   "source": [
    "options = {'operating mode': 'CCCV'}\n",
    "model = pybamm.equivalent_circuit.Thevenin(name='Thevenin')#, options=options)\n",
    "model.print_parameter_info()"
   ]
  },
  {
   "cell_type": "code",
   "execution_count": 63,
   "id": "indoor-toddler",
   "metadata": {
    "scrolled": true
   },
   "outputs": [
    {
     "data": {
      "text/plain": [
       "{'Ambient temperature [degC]': 25,\n",
       " 'C1 [F]': <function c1 at 0x00000221F47A0790>,\n",
       " 'Cell capacity [A.h]': 100,\n",
       " 'Cell thermal mass [J/K]': 1000,\n",
       " 'Cell-jig heat transfer coefficient [W/K]': 10,\n",
       " 'Current function [A]': 100,\n",
       " 'Element-1 initial overpotential [V]': 0,\n",
       " 'Entropic change [V/K]': <function dUdT at 0x00000221F47A0A60>,\n",
       " 'Initial SoC': 0.5,\n",
       " 'Initial cell temperature [degC]': 25,\n",
       " 'Initial jig temperature [degC]': 25,\n",
       " 'Jig thermal mass [J/K]': 500,\n",
       " 'Jig-air heat transfer coefficient [W/K]': 10,\n",
       " 'Lower voltage cut-off [V]': 3.2,\n",
       " 'Nominal cell capacity [A.h]': 100,\n",
       " 'Open circuit voltage [V]': <function ocv at 0x00000221F47A0670>,\n",
       " 'R0 [Ohm]': <function r0 at 0x00000221F47A0D30>,\n",
       " 'R1 [Ohm]': <function r1 at 0x00000221F47A0DC0>,\n",
       " 'RCR lookup limit [A]': 340,\n",
       " 'Upper voltage cut-off [V]': 4.2}"
      ]
     },
     "execution_count": 63,
     "metadata": {},
     "output_type": "execute_result"
    }
   ],
   "source": [
    "model.default_parameter_values"
   ]
  },
  {
   "cell_type": "code",
   "execution_count": 64,
   "id": "technical-registrar",
   "metadata": {},
   "outputs": [],
   "source": [
    "ecm_params = {\n",
    "    'Cell-jig heat transfer coefficient [W/K]': 0,\n",
    "    'Upper voltage cut-off [V]': 0,\n",
    "    'Initial SoC': 0,\n",
    "    'Jig-air heat transfer coefficient [W/K]': 0,\n",
    "    'Voltage function [V]': 0,\n",
    "    'Initial cell temperature [degC]': 0,\n",
    "    'Cell thermal mass [J/K]': 0,\n",
    "    'Cell capacity [A.h]': 0,\n",
    "    'Initial jig temperature [degC]': 0,\n",
    "    'Jig thermal mass [J/K]': 0,\n",
    "    'Upper voltage cut-off [V]': 0,\n",
    "    'Lower voltage cut-off [V]': 0,\n",
    "    'Element-1 initial overpotential [V]': 0,\n",
    "    'R0 [Ohm]': 0,\n",
    "    'Entropic change [V/K]': 0,\n",
    "    'R1 [Ohm]': 0,\n",
    "    'Ambient temperature [degC]': 0,\n",
    "    'C1 [F]': 0,\n",
    "    'CCCV current function [A]': 0 \n",
    "}\n",
    "\n",
    "ecm_parameters = pybamm.ParameterValues(ecm_params)"
   ]
  },
  {
   "cell_type": "markdown",
   "id": "homeless-white",
   "metadata": {},
   "source": [
    "Test to compute Vocv:\n",
    "- 1–2. Soak cell at test temperature; discharge from 100% SOC to Vmin (note: this is not the same thing as 0% SOC) \n",
    "- 3–4. Soak cell at 25 C; dis/charge cell to 0% SOC (now equivalent to Vmin)\n",
    "- 5–6. Soak cell at test temperature; charge from 0% SOC to max (not 100% SOC)\n",
    "- 7–8. Soak cell at 25 C; dis/charge cell to 100% SOC (now equivalent to Vmax)"
   ]
  },
  {
   "cell_type": "code",
   "execution_count": 103,
   "id": "automotive-bracket",
   "metadata": {},
   "outputs": [
    {
     "ename": "ValueError",
     "evalue": "could not convert string to float: 'SoC'",
     "output_type": "error",
     "traceback": [
      "\u001B[1;31m---------------------------------------------------------------------------\u001B[0m",
      "\u001B[1;31mValueError\u001B[0m                                Traceback (most recent call last)",
      "\u001B[1;32m~\\AppData\\Local\\Temp/ipykernel_13352/1751126966.py\u001B[0m in \u001B[0;36m<module>\u001B[1;34m\u001B[0m\n\u001B[1;32m----> 1\u001B[1;33m experiment = pybamm.Experiment(\n\u001B[0m\u001B[0;32m      2\u001B[0m     [\n\u001B[0;32m      3\u001B[0m         (\"Discharge at C/10 until SoC 0\",\n\u001B[0;32m      4\u001B[0m         \u001B[1;34m\"Rest for 1 hour\"\u001B[0m\u001B[1;33m,\u001B[0m\u001B[1;33m\u001B[0m\u001B[1;33m\u001B[0m\u001B[0m\n\u001B[0;32m      5\u001B[0m         \u001B[1;34m\"Charge at 1 A for 0.5 hours or until 4.1 V\"\u001B[0m\u001B[1;33m,\u001B[0m\u001B[1;33m\u001B[0m\u001B[1;33m\u001B[0m\u001B[0m\n",
      "\u001B[1;32m~\\AppData\\Local\\Programs\\Python\\Python38\\lib\\site-packages\\pybamm\\experiments\\experiment.py\u001B[0m in \u001B[0;36m__init__\u001B[1;34m(self, operating_conditions, period, termination, drive_cycles, cccv_handling)\u001B[0m\n\u001B[0;32m    128\u001B[0m         \u001B[0mself\u001B[0m\u001B[1;33m.\u001B[0m\u001B[0moperating_conditions_cycles\u001B[0m \u001B[1;33m=\u001B[0m \u001B[0moperating_conditions_cycles\u001B[0m\u001B[1;33m\u001B[0m\u001B[1;33m\u001B[0m\u001B[0m\n\u001B[0;32m    129\u001B[0m         \u001B[0mself\u001B[0m\u001B[1;33m.\u001B[0m\u001B[0moperating_conditions_strings\u001B[0m \u001B[1;33m=\u001B[0m \u001B[0moperating_conditions\u001B[0m\u001B[1;33m\u001B[0m\u001B[1;33m\u001B[0m\u001B[0m\n\u001B[1;32m--> 130\u001B[1;33m         self.operating_conditions = [\n\u001B[0m\u001B[0;32m    131\u001B[0m             \u001B[0mself\u001B[0m\u001B[1;33m.\u001B[0m\u001B[0mread_string\u001B[0m\u001B[1;33m(\u001B[0m\u001B[0mcond\u001B[0m\u001B[1;33m,\u001B[0m \u001B[0mdrive_cycles\u001B[0m\u001B[1;33m)\u001B[0m \u001B[1;32mfor\u001B[0m \u001B[0mcond\u001B[0m \u001B[1;32min\u001B[0m \u001B[0moperating_conditions\u001B[0m\u001B[1;33m\u001B[0m\u001B[1;33m\u001B[0m\u001B[0m\n\u001B[0;32m    132\u001B[0m         ]\n",
      "\u001B[1;32m~\\AppData\\Local\\Programs\\Python\\Python38\\lib\\site-packages\\pybamm\\experiments\\experiment.py\u001B[0m in \u001B[0;36m<listcomp>\u001B[1;34m(.0)\u001B[0m\n\u001B[0;32m    129\u001B[0m         \u001B[0mself\u001B[0m\u001B[1;33m.\u001B[0m\u001B[0moperating_conditions_strings\u001B[0m \u001B[1;33m=\u001B[0m \u001B[0moperating_conditions\u001B[0m\u001B[1;33m\u001B[0m\u001B[1;33m\u001B[0m\u001B[0m\n\u001B[0;32m    130\u001B[0m         self.operating_conditions = [\n\u001B[1;32m--> 131\u001B[1;33m             \u001B[0mself\u001B[0m\u001B[1;33m.\u001B[0m\u001B[0mread_string\u001B[0m\u001B[1;33m(\u001B[0m\u001B[0mcond\u001B[0m\u001B[1;33m,\u001B[0m \u001B[0mdrive_cycles\u001B[0m\u001B[1;33m)\u001B[0m \u001B[1;32mfor\u001B[0m \u001B[0mcond\u001B[0m \u001B[1;32min\u001B[0m \u001B[0moperating_conditions\u001B[0m\u001B[1;33m\u001B[0m\u001B[1;33m\u001B[0m\u001B[0m\n\u001B[0m\u001B[0;32m    132\u001B[0m         ]\n\u001B[0;32m    133\u001B[0m \u001B[1;33m\u001B[0m\u001B[0m\n",
      "\u001B[1;32m~\\AppData\\Local\\Programs\\Python\\Python38\\lib\\site-packages\\pybamm\\experiments\\experiment.py\u001B[0m in \u001B[0;36mread_string\u001B[1;34m(self, cond, drive_cycles)\u001B[0m\n\u001B[0;32m    238\u001B[0m                 \u001B[0melectric\u001B[0m \u001B[1;33m=\u001B[0m \u001B[0mself\u001B[0m\u001B[1;33m.\u001B[0m\u001B[0mconvert_electric\u001B[0m\u001B[1;33m(\u001B[0m\u001B[0mcond_list\u001B[0m\u001B[1;33m[\u001B[0m\u001B[1;33m:\u001B[0m\u001B[0midx\u001B[0m\u001B[1;33m]\u001B[0m\u001B[1;33m)\u001B[0m\u001B[1;33m\u001B[0m\u001B[1;33m\u001B[0m\u001B[0m\n\u001B[0;32m    239\u001B[0m                 \u001B[0mtime\u001B[0m \u001B[1;33m=\u001B[0m \u001B[1;32mNone\u001B[0m\u001B[1;33m\u001B[0m\u001B[1;33m\u001B[0m\u001B[0m\n\u001B[1;32m--> 240\u001B[1;33m                 \u001B[0mevents\u001B[0m \u001B[1;33m=\u001B[0m \u001B[0mself\u001B[0m\u001B[1;33m.\u001B[0m\u001B[0mconvert_electric\u001B[0m\u001B[1;33m(\u001B[0m\u001B[0mcond_list\u001B[0m\u001B[1;33m[\u001B[0m\u001B[0midx\u001B[0m \u001B[1;33m+\u001B[0m \u001B[1;36m1\u001B[0m \u001B[1;33m:\u001B[0m\u001B[1;33m]\u001B[0m\u001B[1;33m)\u001B[0m\u001B[1;33m\u001B[0m\u001B[1;33m\u001B[0m\u001B[0m\n\u001B[0m\u001B[0;32m    241\u001B[0m             \u001B[1;32melse\u001B[0m\u001B[1;33m:\u001B[0m\u001B[1;33m\u001B[0m\u001B[1;33m\u001B[0m\u001B[0m\n\u001B[0;32m    242\u001B[0m                 raise ValueError(\n",
      "\u001B[1;32m~\\AppData\\Local\\Programs\\Python\\Python38\\lib\\site-packages\\pybamm\\experiments\\experiment.py\u001B[0m in \u001B[0;36mconvert_electric\u001B[1;34m(self, electric)\u001B[0m\n\u001B[0;32m    345\u001B[0m                 \u001B[1;32melse\u001B[0m\u001B[1;33m:\u001B[0m\u001B[1;33m\u001B[0m\u001B[1;33m\u001B[0m\u001B[0m\n\u001B[0;32m    346\u001B[0m                     \u001B[1;31m# e.g. 1A\u001B[0m\u001B[1;33m\u001B[0m\u001B[1;33m\u001B[0m\u001B[1;33m\u001B[0m\u001B[0m\n\u001B[1;32m--> 347\u001B[1;33m                     \u001B[0mvalue\u001B[0m \u001B[1;33m=\u001B[0m \u001B[0mfloat\u001B[0m\u001B[1;33m(\u001B[0m\u001B[0mvalue_unit\u001B[0m\u001B[1;33m[\u001B[0m\u001B[1;33m:\u001B[0m\u001B[1;33m-\u001B[0m\u001B[1;36m1\u001B[0m\u001B[1;33m]\u001B[0m\u001B[1;33m)\u001B[0m\u001B[1;33m\u001B[0m\u001B[1;33m\u001B[0m\u001B[0m\n\u001B[0m\u001B[0;32m    348\u001B[0m             \u001B[1;31m# Read value and units\u001B[0m\u001B[1;33m\u001B[0m\u001B[1;33m\u001B[0m\u001B[1;33m\u001B[0m\u001B[0m\n\u001B[0;32m    349\u001B[0m             \u001B[1;32mif\u001B[0m \u001B[0munit\u001B[0m \u001B[1;33m==\u001B[0m \u001B[1;34m\"C\"\u001B[0m\u001B[1;33m:\u001B[0m\u001B[1;33m\u001B[0m\u001B[1;33m\u001B[0m\u001B[0m\n",
      "\u001B[1;31mValueError\u001B[0m: could not convert string to float: 'SoC'"
     ]
    }
   ],
   "source": [
    "experiment = pybamm.Experiment(\n",
    "    [\n",
    "        (\"Discharge at C/10 for 0.5 hours or until 3.3 V\",\n",
    "        \"Rest for 1 hour\",\n",
    "        \"Charge at 1 A for 0.5 hours or until 4.1 V\",\n",
    "        \"Hold at 4.1 V until 50 mA\",\n",
    "        \"Rest for 1 hour\"),\n",
    "    ] * 3\n",
    ")"
   ]
  },
  {
   "cell_type": "code",
   "execution_count": 92,
   "id": "finnish-dependence",
   "metadata": {},
   "outputs": [],
   "source": [
    "sim = pybamm.Simulation(model, experiment=experiment, output_variables=['Open circuit voltage [V]'])"
   ]
  },
  {
   "cell_type": "code",
   "execution_count": 93,
   "id": "supposed-depth",
   "metadata": {},
   "outputs": [
    {
     "name": "stderr",
     "output_type": "stream",
     "text": [
      "2023-02-09 11:28:43.689 - [ERROR] callbacks.on_experiment_error(226): Simulation error: Solver failed because the following interpolation bounds were exceeded: [\"Interpolant 'ecm_example_c1' lower bound\", \"Interpolant 'ecm_example_r0' lower bound\", \"Interpolant 'ecm_example_r1' lower bound\"]. You may need to provide additional interpolation points outside these bounds.\n"
     ]
    },
    {
     "data": {
      "text/plain": [
       "<pybamm.solvers.solution.Solution at 0x222558c3970>"
      ]
     },
     "execution_count": 93,
     "metadata": {},
     "output_type": "execute_result"
    }
   ],
   "source": [
    "sim.solve()"
   ]
  },
  {
   "cell_type": "code",
   "execution_count": 94,
   "id": "classical-latter",
   "metadata": {},
   "outputs": [
    {
     "data": {
      "text/plain": [
       "array([3.69651408, 3.69553889, 3.69456371, 3.69358852, 3.69261333,\n",
       "       3.69163814, 3.69066296, 3.68970901, 3.68875506, 3.68780111,\n",
       "       3.68684715, 3.6858932 , 3.68493925, 3.68401988, 3.6831005 ,\n",
       "       3.68218112, 3.68126174, 3.68034236, 3.67942298, 3.6785626 ,\n",
       "       3.67770222, 3.67684184, 3.67598147, 3.67512109, 3.67426071,\n",
       "       3.67348871, 3.67271672, 3.67194473, 3.67117274, 3.67040074,\n",
       "       3.66962875, 3.66962875, 3.66962875, 3.66962875, 3.66962875,\n",
       "       3.66962875, 3.66962875, 3.66962875, 3.66962875, 3.66962875,\n",
       "       3.66962875, 3.66962875, 3.66962875, 3.66962875, 3.66962875,\n",
       "       3.66962875, 3.66962875, 3.66962875, 3.66962875, 3.66962875,\n",
       "       3.66962875, 3.66962875, 3.66962875, 3.66962875, 3.66962875,\n",
       "       3.66962875, 3.66962875, 3.66962875, 3.66962875, 3.66962875,\n",
       "       3.66962875, 3.66962875, 3.66962875, 3.66962875, 3.66962875,\n",
       "       3.66962875, 3.66962875, 3.66962875, 3.66962875, 3.66962875,\n",
       "       3.66962875, 3.66962875, 3.66962875, 3.66962875, 3.66962875,\n",
       "       3.66962875, 3.66962875, 3.66962875, 3.66962875, 3.66962875,\n",
       "       3.66962875, 3.66962875, 3.66962875, 3.66962875, 3.66962875,\n",
       "       3.66962875, 3.66962875, 3.66962875, 3.66962875, 3.66962875,\n",
       "       3.66962875, 3.66970595, 3.66978315, 3.66986035, 3.66993755,\n",
       "       3.67001475, 3.67009195, 3.67016915, 3.67024634, 3.67032354,\n",
       "       3.67040074, 3.67047794, 3.67055514, 3.67063234, 3.67070954,\n",
       "       3.67078674, 3.67086394, 3.67094114, 3.67101834, 3.67109554,\n",
       "       3.67117274, 3.67124994, 3.67132713, 3.67140433, 3.67148153,\n",
       "       3.67155873, 3.67163593, 3.67171313, 3.67179033, 3.67186753,\n",
       "       3.67194473])"
      ]
     },
     "execution_count": 94,
     "metadata": {},
     "output_type": "execute_result"
    }
   ],
   "source": [
    "sim.solution['Open circuit voltage [V]'].entries"
   ]
  },
  {
   "cell_type": "code",
   "execution_count": 101,
   "id": "proper-harris",
   "metadata": {},
   "outputs": [
    {
     "data": {
      "text/plain": [
       "array([0.5       , 0.49833333, 0.49666667, 0.495     , 0.49333333,\n",
       "       0.49166667, 0.49      , 0.48833333, 0.48666667, 0.485     ,\n",
       "       0.48333333, 0.48166667, 0.48      , 0.47833333, 0.47666667,\n",
       "       0.475     , 0.47333333, 0.47166667, 0.47      , 0.46833333,\n",
       "       0.46666667, 0.465     , 0.46333333, 0.46166667, 0.46      ,\n",
       "       0.45833333, 0.45666667, 0.455     , 0.45333333, 0.45166667,\n",
       "       0.45      , 0.45      , 0.45      , 0.45      , 0.45      ,\n",
       "       0.45      , 0.45      , 0.45      , 0.45      , 0.45      ,\n",
       "       0.45      , 0.45      , 0.45      , 0.45      , 0.45      ,\n",
       "       0.45      , 0.45      , 0.45      , 0.45      , 0.45      ,\n",
       "       0.45      , 0.45      , 0.45      , 0.45      , 0.45      ,\n",
       "       0.45      , 0.45      , 0.45      , 0.45      , 0.45      ,\n",
       "       0.45      , 0.45      , 0.45      , 0.45      , 0.45      ,\n",
       "       0.45      , 0.45      , 0.45      , 0.45      , 0.45      ,\n",
       "       0.45      , 0.45      , 0.45      , 0.45      , 0.45      ,\n",
       "       0.45      , 0.45      , 0.45      , 0.45      , 0.45      ,\n",
       "       0.45      , 0.45      , 0.45      , 0.45      , 0.45      ,\n",
       "       0.45      , 0.45      , 0.45      , 0.45      , 0.45      ,\n",
       "       0.45      , 0.45016667, 0.45033333, 0.4505    , 0.45066667,\n",
       "       0.45083333, 0.451     , 0.45116667, 0.45133333, 0.4515    ,\n",
       "       0.45166667, 0.45183333, 0.452     , 0.45216667, 0.45233333,\n",
       "       0.4525    , 0.45266667, 0.45283333, 0.453     , 0.45316667,\n",
       "       0.45333333, 0.4535    , 0.45366667, 0.45383333, 0.454     ,\n",
       "       0.45416667, 0.45433333, 0.4545    , 0.45466667, 0.45483333,\n",
       "       0.455     ])"
      ]
     },
     "execution_count": 101,
     "metadata": {},
     "output_type": "execute_result"
    }
   ],
   "source": [
    "sim.solution['SoC'].entries"
   ]
  },
  {
   "cell_type": "code",
   "execution_count": null,
   "id": "national-modem",
   "metadata": {},
   "outputs": [],
   "source": []
  }
 ],
 "metadata": {
  "kernelspec": {
   "display_name": "Python 3 (ipykernel)",
   "language": "python",
   "name": "python3"
  },
  "language_info": {
   "codemirror_mode": {
    "name": "ipython",
    "version": 3
   },
   "file_extension": ".py",
   "mimetype": "text/x-python",
   "name": "python",
   "nbconvert_exporter": "python",
   "pygments_lexer": "ipython3",
   "version": "3.8.10"
  }
 },
 "nbformat": 4,
 "nbformat_minor": 5
}
