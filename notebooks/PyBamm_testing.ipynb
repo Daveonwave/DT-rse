{
 "cells": [
  {
   "cell_type": "markdown",
   "id": "golden-monte",
   "metadata": {},
   "source": [
    "# PyBamm library"
   ]
  },
  {
   "cell_type": "code",
   "execution_count": 8,
   "id": "rubber-consultancy",
   "metadata": {},
   "outputs": [],
   "source": [
    "import pybamm\n",
    "import matplotlib.pyplot as plt"
   ]
  },
  {
   "cell_type": "code",
   "execution_count": 11,
   "id": "national-modem",
   "metadata": {
    "scrolled": true
   },
   "outputs": [
    {
     "name": "stdout",
     "output_type": "stream",
     "text": [
      "{'external circuit': <pybamm.models.submodels.external_circuit.explicit_control_external_circuit.ExplicitCurrentControl object at 0x177b56bb0>, 'Open-circuit voltage': <pybamm.models.submodels.equivalent_circuit_elements.ocv_element.OCVElement object at 0x177b56370>, 'Element-0 (Resistor)': <pybamm.models.submodels.equivalent_circuit_elements.resistor_element.ResistorElement object at 0x177be4940>, 'Element-1 (RC)': <pybamm.models.submodels.equivalent_circuit_elements.rc_element.RCElement object at 0x177b56040>, 'Thermal': <pybamm.models.submodels.equivalent_circuit_elements.thermal.ThermalSubModel object at 0x177c2cbe0>, 'Voltage': <pybamm.models.submodels.equivalent_circuit_elements.voltage_model.VoltageModel object at 0x177c2c490>}\n"
     ]
    }
   ],
   "source": [
    "options = {\"operating mode\": \"current\", \"number of rc elements\": 1}\n",
    "model = pybamm.equivalent_circuit.Thevenin(options=options)\n",
    "print(model.submodels)"
   ]
  },
  {
   "cell_type": "code",
   "execution_count": 26,
   "id": "06c8f5c9",
   "metadata": {},
   "outputs": [
    {
     "data": {
      "text/plain": [
       "{'calculate discharge energy': 'false',\n",
       " 'calculate heat source for isothermal models': 'false',\n",
       " 'cell geometry': 'arbitrary',\n",
       " 'contact resistance': 'false',\n",
       " 'convection': 'none',\n",
       " 'current collector': 'uniform',\n",
       " 'diffusivity': 'single',\n",
       " 'dimensionality': 0,\n",
       " 'electrolyte conductivity': 'default',\n",
       " 'exchange-current density': 'single',\n",
       " 'hydrolysis': 'false',\n",
       " 'intercalation kinetics': 'symmetric Butler-Volmer',\n",
       " 'interface utilisation': 'full',\n",
       " 'lithium plating': 'none',\n",
       " 'lithium plating porosity change': 'false',\n",
       " 'loss of active material': 'none',\n",
       " 'number of MSMR reactions': 'none',\n",
       " 'open-circuit potential': 'single',\n",
       " 'operating mode': 'current',\n",
       " 'particle': 'Fickian diffusion',\n",
       " 'particle mechanics': 'none',\n",
       " 'particle phases': '1',\n",
       " 'particle shape': 'spherical',\n",
       " 'particle size': 'single',\n",
       " 'SEI': 'none',\n",
       " 'SEI film resistance': 'none',\n",
       " 'SEI on cracks': 'false',\n",
       " 'SEI porosity change': 'false',\n",
       " 'stress-induced diffusion': 'false',\n",
       " 'surface form': 'false',\n",
       " 'thermal': 'isothermal',\n",
       " 'total interfacial current density as a state': 'false',\n",
       " 'working electrode': 'both',\n",
       " 'x-average side reactions': 'false'}"
      ]
     },
     "execution_count": 26,
     "metadata": {},
     "output_type": "execute_result"
    }
   ],
   "source": [
    "model.submodels['Element-0 (Resistor)']."
   ]
  },
  {
   "cell_type": "code",
   "execution_count": 13,
   "id": "55cabe76",
   "metadata": {},
   "outputs": [
    {
     "ename": "ModelError",
     "evalue": "\n                    No key set for variable 'SoC'. Make sure it is included in either\n                    model.rhs or model.algebraic in an unmodified form\n                    (e.g. not Broadcasted)\n                    ",
     "output_type": "error",
     "traceback": [
      "\u001b[0;31m---------------------------------------------------------------------------\u001b[0m",
      "\u001b[0;31mKeyError\u001b[0m                                  Traceback (most recent call last)",
      "File \u001b[0;32m~/.pyenv/versions/3.8.10/lib/python3.8/site-packages/pybamm/discretisations/discretisation.py:728\u001b[0m, in \u001b[0;36mDiscretisation.process_symbol\u001b[0;34m(self, symbol)\u001b[0m\n\u001b[1;32m    727\u001b[0m \u001b[38;5;28;01mtry\u001b[39;00m:\n\u001b[0;32m--> 728\u001b[0m     \u001b[38;5;28;01mreturn\u001b[39;00m \u001b[38;5;28;43mself\u001b[39;49m\u001b[38;5;241;43m.\u001b[39;49m\u001b[43m_discretised_symbols\u001b[49m\u001b[43m[\u001b[49m\u001b[43msymbol\u001b[49m\u001b[43m]\u001b[49m\n\u001b[1;32m    729\u001b[0m \u001b[38;5;28;01mexcept\u001b[39;00m \u001b[38;5;167;01mKeyError\u001b[39;00m:\n",
      "\u001b[0;31mKeyError\u001b[0m: Variable(0x2d64b71703ec5b41, SoC, children=[], domains={})",
      "\nDuring handling of the above exception, another exception occurred:\n",
      "\u001b[0;31mKeyError\u001b[0m                                  Traceback (most recent call last)",
      "File \u001b[0;32m~/.pyenv/versions/3.8.10/lib/python3.8/site-packages/pybamm/discretisations/discretisation.py:896\u001b[0m, in \u001b[0;36mDiscretisation._process_symbol\u001b[0;34m(self, symbol)\u001b[0m\n\u001b[1;32m    895\u001b[0m \u001b[38;5;28;01mtry\u001b[39;00m:\n\u001b[0;32m--> 896\u001b[0m     y_slices \u001b[38;5;241m=\u001b[39m \u001b[38;5;28;43mself\u001b[39;49m\u001b[38;5;241;43m.\u001b[39;49m\u001b[43my_slices\u001b[49m\u001b[43m[\u001b[49m\u001b[43msymbol\u001b[49m\u001b[43m]\u001b[49m\n\u001b[1;32m    897\u001b[0m \u001b[38;5;28;01mexcept\u001b[39;00m \u001b[38;5;167;01mKeyError\u001b[39;00m:\n",
      "\u001b[0;31mKeyError\u001b[0m: Variable(0x2d64b71703ec5b41, SoC, children=[], domains={})",
      "\nDuring handling of the above exception, another exception occurred:\n",
      "\u001b[0;31mModelError\u001b[0m                                Traceback (most recent call last)",
      "Cell \u001b[0;32mIn[13], line 22\u001b[0m\n\u001b[1;32m     20\u001b[0m params \u001b[38;5;241m=\u001b[39m pybamm\u001b[38;5;241m.\u001b[39mParameterValues(params)\n\u001b[1;32m     21\u001b[0m sim \u001b[38;5;241m=\u001b[39m pybamm\u001b[38;5;241m.\u001b[39mSimulation(model, parameter_values \u001b[38;5;241m=\u001b[39m params)\n\u001b[0;32m---> 22\u001b[0m \u001b[43msim\u001b[49m\u001b[38;5;241;43m.\u001b[39;49m\u001b[43msolve\u001b[49m\u001b[43m(\u001b[49m\u001b[43m[\u001b[49m\u001b[38;5;241;43m0\u001b[39;49m\u001b[43m,\u001b[49m\u001b[43m \u001b[49m\u001b[38;5;241;43m3600\u001b[39;49m\u001b[43m]\u001b[49m\u001b[43m)\u001b[49m\n",
      "File \u001b[0;32m~/.pyenv/versions/3.8.10/lib/python3.8/site-packages/pybamm/simulation.py:543\u001b[0m, in \u001b[0;36mSimulation.solve\u001b[0;34m(self, t_eval, solver, check_model, save_at_cycles, calc_esoh, starting_solution, initial_soc, callbacks, showprogress, **kwargs)\u001b[0m\n\u001b[1;32m    540\u001b[0m logs \u001b[38;5;241m=\u001b[39m {}\n\u001b[1;32m    542\u001b[0m \u001b[38;5;28;01mif\u001b[39;00m \u001b[38;5;28mself\u001b[39m\u001b[38;5;241m.\u001b[39moperating_mode \u001b[38;5;129;01min\u001b[39;00m [\u001b[38;5;124m\"\u001b[39m\u001b[38;5;124mwithout experiment\u001b[39m\u001b[38;5;124m\"\u001b[39m, \u001b[38;5;124m\"\u001b[39m\u001b[38;5;124mdrive cycle\u001b[39m\u001b[38;5;124m\"\u001b[39m]:\n\u001b[0;32m--> 543\u001b[0m     \u001b[38;5;28;43mself\u001b[39;49m\u001b[38;5;241;43m.\u001b[39;49m\u001b[43mbuild\u001b[49m\u001b[43m(\u001b[49m\u001b[43mcheck_model\u001b[49m\u001b[38;5;241;43m=\u001b[39;49m\u001b[43mcheck_model\u001b[49m\u001b[43m,\u001b[49m\u001b[43m \u001b[49m\u001b[43minitial_soc\u001b[49m\u001b[38;5;241;43m=\u001b[39;49m\u001b[43minitial_soc\u001b[49m\u001b[43m)\u001b[49m\n\u001b[1;32m    544\u001b[0m     \u001b[38;5;28;01mif\u001b[39;00m save_at_cycles \u001b[38;5;129;01mis\u001b[39;00m \u001b[38;5;129;01mnot\u001b[39;00m \u001b[38;5;28;01mNone\u001b[39;00m:\n\u001b[1;32m    545\u001b[0m         \u001b[38;5;28;01mraise\u001b[39;00m \u001b[38;5;167;01mValueError\u001b[39;00m(\n\u001b[1;32m    546\u001b[0m             \u001b[38;5;124m\"\u001b[39m\u001b[38;5;124m'\u001b[39m\u001b[38;5;124msave_at_cycles\u001b[39m\u001b[38;5;124m'\u001b[39m\u001b[38;5;124m option can only be used if simulating an \u001b[39m\u001b[38;5;124m\"\u001b[39m\n\u001b[1;32m    547\u001b[0m             \u001b[38;5;124m\"\u001b[39m\u001b[38;5;124mExperiment \u001b[39m\u001b[38;5;124m\"\u001b[39m\n\u001b[1;32m    548\u001b[0m         )\n",
      "File \u001b[0;32m~/.pyenv/versions/3.8.10/lib/python3.8/site-packages/pybamm/simulation.py:428\u001b[0m, in \u001b[0;36mSimulation.build\u001b[0;34m(self, check_model, initial_soc)\u001b[0m\n\u001b[1;32m    426\u001b[0m \u001b[38;5;28mself\u001b[39m\u001b[38;5;241m.\u001b[39m_mesh \u001b[38;5;241m=\u001b[39m pybamm\u001b[38;5;241m.\u001b[39mMesh(\u001b[38;5;28mself\u001b[39m\u001b[38;5;241m.\u001b[39m_geometry, \u001b[38;5;28mself\u001b[39m\u001b[38;5;241m.\u001b[39m_submesh_types, \u001b[38;5;28mself\u001b[39m\u001b[38;5;241m.\u001b[39m_var_pts)\n\u001b[1;32m    427\u001b[0m \u001b[38;5;28mself\u001b[39m\u001b[38;5;241m.\u001b[39m_disc \u001b[38;5;241m=\u001b[39m pybamm\u001b[38;5;241m.\u001b[39mDiscretisation(\u001b[38;5;28mself\u001b[39m\u001b[38;5;241m.\u001b[39m_mesh, \u001b[38;5;28mself\u001b[39m\u001b[38;5;241m.\u001b[39m_spatial_methods)\n\u001b[0;32m--> 428\u001b[0m \u001b[38;5;28mself\u001b[39m\u001b[38;5;241m.\u001b[39m_built_model \u001b[38;5;241m=\u001b[39m \u001b[38;5;28;43mself\u001b[39;49m\u001b[38;5;241;43m.\u001b[39;49m\u001b[43m_disc\u001b[49m\u001b[38;5;241;43m.\u001b[39;49m\u001b[43mprocess_model\u001b[49m\u001b[43m(\u001b[49m\n\u001b[1;32m    429\u001b[0m \u001b[43m    \u001b[49m\u001b[38;5;28;43mself\u001b[39;49m\u001b[38;5;241;43m.\u001b[39;49m\u001b[43m_model_with_set_params\u001b[49m\u001b[43m,\u001b[49m\u001b[43m \u001b[49m\u001b[43minplace\u001b[49m\u001b[38;5;241;43m=\u001b[39;49m\u001b[38;5;28;43;01mFalse\u001b[39;49;00m\u001b[43m,\u001b[49m\u001b[43m \u001b[49m\u001b[43mcheck_model\u001b[49m\u001b[38;5;241;43m=\u001b[39;49m\u001b[43mcheck_model\u001b[49m\n\u001b[1;32m    430\u001b[0m \u001b[43m\u001b[49m\u001b[43m)\u001b[49m\n\u001b[1;32m    431\u001b[0m \u001b[38;5;66;03m# rebuilt model so clear solver setup\u001b[39;00m\n\u001b[1;32m    432\u001b[0m \u001b[38;5;28mself\u001b[39m\u001b[38;5;241m.\u001b[39m_solver\u001b[38;5;241m.\u001b[39m_model_set_up \u001b[38;5;241m=\u001b[39m {}\n",
      "File \u001b[0;32m~/.pyenv/versions/3.8.10/lib/python3.8/site-packages/pybamm/discretisations/discretisation.py:233\u001b[0m, in \u001b[0;36mDiscretisation.process_model\u001b[0;34m(self, model, inplace, check_model, remove_independent_variables_from_rhs)\u001b[0m\n\u001b[1;32m    230\u001b[0m \u001b[38;5;28;01mfor\u001b[39;00m event \u001b[38;5;129;01min\u001b[39;00m model\u001b[38;5;241m.\u001b[39mevents:\n\u001b[1;32m    231\u001b[0m     pybamm\u001b[38;5;241m.\u001b[39mlogger\u001b[38;5;241m.\u001b[39mdebug(\u001b[38;5;124m\"\u001b[39m\u001b[38;5;124mDiscretise event \u001b[39m\u001b[38;5;124m'\u001b[39m\u001b[38;5;132;01m{}\u001b[39;00m\u001b[38;5;124m'\u001b[39m\u001b[38;5;124m\"\u001b[39m\u001b[38;5;241m.\u001b[39mformat(event\u001b[38;5;241m.\u001b[39mname))\n\u001b[1;32m    232\u001b[0m     processed_event \u001b[38;5;241m=\u001b[39m pybamm\u001b[38;5;241m.\u001b[39mEvent(\n\u001b[0;32m--> 233\u001b[0m         event\u001b[38;5;241m.\u001b[39mname, \u001b[38;5;28;43mself\u001b[39;49m\u001b[38;5;241;43m.\u001b[39;49m\u001b[43mprocess_symbol\u001b[49m\u001b[43m(\u001b[49m\u001b[43mevent\u001b[49m\u001b[38;5;241;43m.\u001b[39;49m\u001b[43mexpression\u001b[49m\u001b[43m)\u001b[49m, event\u001b[38;5;241m.\u001b[39mevent_type\n\u001b[1;32m    234\u001b[0m     )\n\u001b[1;32m    235\u001b[0m     processed_events\u001b[38;5;241m.\u001b[39mappend(processed_event)\n\u001b[1;32m    236\u001b[0m model_disc\u001b[38;5;241m.\u001b[39mevents \u001b[38;5;241m=\u001b[39m processed_events\n",
      "File \u001b[0;32m~/.pyenv/versions/3.8.10/lib/python3.8/site-packages/pybamm/discretisations/discretisation.py:730\u001b[0m, in \u001b[0;36mDiscretisation.process_symbol\u001b[0;34m(self, symbol)\u001b[0m\n\u001b[1;32m    728\u001b[0m     \u001b[38;5;28;01mreturn\u001b[39;00m \u001b[38;5;28mself\u001b[39m\u001b[38;5;241m.\u001b[39m_discretised_symbols[symbol]\n\u001b[1;32m    729\u001b[0m \u001b[38;5;28;01mexcept\u001b[39;00m \u001b[38;5;167;01mKeyError\u001b[39;00m:\n\u001b[0;32m--> 730\u001b[0m     discretised_symbol \u001b[38;5;241m=\u001b[39m \u001b[38;5;28;43mself\u001b[39;49m\u001b[38;5;241;43m.\u001b[39;49m\u001b[43m_process_symbol\u001b[49m\u001b[43m(\u001b[49m\u001b[43msymbol\u001b[49m\u001b[43m)\u001b[49m\n\u001b[1;32m    731\u001b[0m     \u001b[38;5;28mself\u001b[39m\u001b[38;5;241m.\u001b[39m_discretised_symbols[symbol] \u001b[38;5;241m=\u001b[39m discretised_symbol\n\u001b[1;32m    732\u001b[0m     discretised_symbol\u001b[38;5;241m.\u001b[39mtest_shape()\n",
      "File \u001b[0;32m~/.pyenv/versions/3.8.10/lib/python3.8/site-packages/pybamm/discretisations/discretisation.py:898\u001b[0m, in \u001b[0;36mDiscretisation._process_symbol\u001b[0;34m(self, symbol)\u001b[0m\n\u001b[1;32m    896\u001b[0m     y_slices \u001b[38;5;241m=\u001b[39m \u001b[38;5;28mself\u001b[39m\u001b[38;5;241m.\u001b[39my_slices[symbol]\n\u001b[1;32m    897\u001b[0m \u001b[38;5;28;01mexcept\u001b[39;00m \u001b[38;5;167;01mKeyError\u001b[39;00m:\n\u001b[0;32m--> 898\u001b[0m     \u001b[38;5;28;01mraise\u001b[39;00m pybamm\u001b[38;5;241m.\u001b[39mModelError(\n\u001b[1;32m    899\u001b[0m \u001b[38;5;250m        \u001b[39m\u001b[38;5;124;03m\"\"\"\u001b[39;00m\n\u001b[1;32m    900\u001b[0m \u001b[38;5;124;03m        No key set for variable '{}'. Make sure it is included in either\u001b[39;00m\n\u001b[1;32m    901\u001b[0m \u001b[38;5;124;03m        model.rhs or model.algebraic in an unmodified form\u001b[39;00m\n\u001b[1;32m    902\u001b[0m \u001b[38;5;124;03m        (e.g. not Broadcasted)\u001b[39;00m\n\u001b[1;32m    903\u001b[0m \u001b[38;5;124;03m        \"\"\"\u001b[39;00m\u001b[38;5;241m.\u001b[39mformat(\n\u001b[1;32m    904\u001b[0m             symbol\u001b[38;5;241m.\u001b[39mname\n\u001b[1;32m    905\u001b[0m         )\n\u001b[1;32m    906\u001b[0m     )\n\u001b[1;32m    907\u001b[0m \u001b[38;5;66;03m# Add symbol's reference and multiply by the symbol's scale\u001b[39;00m\n\u001b[1;32m    908\u001b[0m \u001b[38;5;66;03m# so that the state vector is of order 1\u001b[39;00m\n\u001b[1;32m    909\u001b[0m \u001b[38;5;28;01mreturn\u001b[39;00m symbol\u001b[38;5;241m.\u001b[39mreference \u001b[38;5;241m+\u001b[39m symbol\u001b[38;5;241m.\u001b[39mscale \u001b[38;5;241m*\u001b[39m pybamm\u001b[38;5;241m.\u001b[39mStateVector(\n\u001b[1;32m    910\u001b[0m     \u001b[38;5;241m*\u001b[39my_slices, domains\u001b[38;5;241m=\u001b[39msymbol\u001b[38;5;241m.\u001b[39mdomains\n\u001b[1;32m    911\u001b[0m )\n",
      "\u001b[0;31mModelError\u001b[0m: \n                    No key set for variable 'SoC'. Make sure it is included in either\n                    model.rhs or model.algebraic in an unmodified form\n                    (e.g. not Broadcasted)\n                    "
     ]
    }
   ],
   "source": [
    "R_p = (4.29841228e-02)/30\n",
    "C_p = 5.39174860e+01 / R_p\n",
    "params = {'R1 [Ohm]' : R_p ,\n",
    "         'R0 [Ohm]' : 0.0003,\n",
    "         'Cell capacity [A.h]' : 231.0,\n",
    "         'Lower voltage cut-off [V]' : 2.5,\n",
    "         'Upper voltage cut-off [V]' : 3.35,\n",
    "         'Initial SoC' : 1.0,\n",
    "         'Current function [A]' : 30.0,\n",
    "         'C1 [F]' : C_p, \n",
    "         'Open-circuit voltage [V]' : 3.3,\n",
    "         'Entropic change [V/K]' : 0,\n",
    "         'Cell-jig heat transfer coefficient [W/K]' : 0,\n",
    "         'Cell thermal mass [J/K]' : 4.1*1050,\n",
    "         'Jig-air heat transfer coefficient [W/K]' : 5,\n",
    "         'Ambient temperature [K]' : 298,\n",
    "         \"Jig thermal mass [J/K]\": 500,\n",
    "         \"Element-1 initial overpotential [V]\": 0,\n",
    "         'Initial temperature [K]' : 298}\n",
    "params = pybamm.ParameterValues(params)\n",
    "sim = pybamm.Simulation(model, parameter_values = params)\n",
    "sim.solve([0, 3600])"
   ]
  },
  {
   "cell_type": "code",
   "execution_count": null,
   "id": "ad8ab2f0",
   "metadata": {},
   "outputs": [],
   "source": []
  }
 ],
 "metadata": {
  "kernelspec": {
   "display_name": "Python 3 (ipykernel)",
   "language": "python",
   "name": "python3"
  },
  "language_info": {
   "codemirror_mode": {
    "name": "ipython",
    "version": 3
   },
   "file_extension": ".py",
   "mimetype": "text/x-python",
   "name": "python",
   "nbconvert_exporter": "python",
   "pygments_lexer": "ipython3",
   "version": "3.8.10"
  }
 },
 "nbformat": 4,
 "nbformat_minor": 5
}
