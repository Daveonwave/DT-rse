{
 "cells": [
  {
   "cell_type": "markdown",
   "id": "golden-monte",
   "metadata": {},
   "source": [
    "# PyBamm library"
   ]
  },
  {
   "cell_type": "code",
   "execution_count": 12,
   "id": "rubber-consultancy",
   "metadata": {},
   "outputs": [],
   "source": [
    "import pybamm\n",
    "import matplotlib.pyplot as plt"
   ]
  },
  {
   "cell_type": "code",
   "execution_count": 13,
   "id": "national-modem",
   "metadata": {
    "scrolled": true
   },
   "outputs": [
    {
     "name": "stdout",
     "output_type": "stream",
     "text": [
      "{'calculate discharge energy': 'false', 'operating mode': 'current', 'number of rc elements': 1}\n"
     ]
    }
   ],
   "source": [
    "options = {\"operating mode\": \"current\", \"number of rc elements\": 1}\n",
    "model = pybamm.equivalent_circuit.Thevenin(options=options)\n",
    "print(model.options)"
   ]
  },
  {
   "cell_type": "code",
   "execution_count": 14,
   "id": "d6a4c334",
   "metadata": {},
   "outputs": [
    {
     "name": "stdout",
     "output_type": "stream",
     "text": [
      "Initial SoC\n"
     ]
    }
   ],
   "source": [
    "model.param.initial_soc.render()"
   ]
  },
  {
   "cell_type": "code",
   "execution_count": 21,
   "id": "ced87208",
   "metadata": {},
   "outputs": [
    {
     "data": {
      "text/plain": [
       "array([3.65605543, 3.65393848])"
      ]
     },
     "execution_count": 21,
     "metadata": {},
     "output_type": "execute_result"
    }
   ],
   "source": [
    "R_p = (4.29841228e-02)/30\n",
    "C_p = 5.39174860e+01 / R_p\n",
    "params = {'R1 [Ohm]' : R_p,\n",
    "         'R0 [Ohm]' : 0.0003,\n",
    "         }\n",
    "#params = pybamm.ParameterValues(params)\n",
    "sim = pybamm.Simulation(model)\n",
    "step_res = sim.step(dt=1)\n",
    "step_res['Voltage [V]'].entries"
   ]
  },
  {
   "cell_type": "code",
   "execution_count": null,
   "id": "de356d29",
   "metadata": {},
   "outputs": [],
   "source": []
  }
 ],
 "metadata": {
  "kernelspec": {
   "display_name": "Python 3 (ipykernel)",
   "language": "python",
   "name": "python3"
  },
  "language_info": {
   "codemirror_mode": {
    "name": "ipython",
    "version": 3
   },
   "file_extension": ".py",
   "mimetype": "text/x-python",
   "name": "python",
   "nbconvert_exporter": "python",
   "pygments_lexer": "ipython3",
   "version": "3.8.10"
  }
 },
 "nbformat": 4,
 "nbformat_minor": 5
}
