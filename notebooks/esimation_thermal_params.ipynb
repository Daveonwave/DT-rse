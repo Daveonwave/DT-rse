{
 "cells": [
  {
   "cell_type": "code",
   "execution_count": 216,
   "id": "joined-catalog",
   "metadata": {},
   "outputs": [],
   "source": [
    "import pandas as pd\n",
    "import numpy as np\n",
    "import os\n",
    "from pathlib import Path\n",
    "import matplotlib.pyplot as plt"
   ]
  },
  {
   "cell_type": "code",
   "execution_count": 217,
   "id": "surprised-alexander",
   "metadata": {},
   "outputs": [
    {
     "data": {
      "text/html": [
       "<div>\n",
       "<style scoped>\n",
       "    .dataframe tbody tr th:only-of-type {\n",
       "        vertical-align: middle;\n",
       "    }\n",
       "\n",
       "    .dataframe tbody tr th {\n",
       "        vertical-align: top;\n",
       "    }\n",
       "\n",
       "    .dataframe thead th {\n",
       "        text-align: right;\n",
       "    }\n",
       "</style>\n",
       "<table border=\"1\" class=\"dataframe\">\n",
       "  <thead>\n",
       "    <tr style=\"text-align: right;\">\n",
       "      <th></th>\n",
       "      <th>Time</th>\n",
       "      <th>Voltage [V]</th>\n",
       "      <th>Current [A]</th>\n",
       "      <th>Power [W]</th>\n",
       "      <th>Temperature [C]</th>\n",
       "      <th>Timestamp</th>\n",
       "    </tr>\n",
       "  </thead>\n",
       "  <tbody>\n",
       "    <tr>\n",
       "      <th>0</th>\n",
       "      <td>2020/07/21 10:06:59</td>\n",
       "      <td>4.068</td>\n",
       "      <td>-20.011</td>\n",
       "      <td>-81.397232</td>\n",
       "      <td>23.289</td>\n",
       "      <td>0.0</td>\n",
       "    </tr>\n",
       "    <tr>\n",
       "      <th>1</th>\n",
       "      <td>2020/07/21 10:07:00</td>\n",
       "      <td>4.057</td>\n",
       "      <td>-19.998</td>\n",
       "      <td>-81.134929</td>\n",
       "      <td>23.193</td>\n",
       "      <td>1.0</td>\n",
       "    </tr>\n",
       "    <tr>\n",
       "      <th>2</th>\n",
       "      <td>2020/07/21 10:07:01</td>\n",
       "      <td>4.055</td>\n",
       "      <td>-19.998</td>\n",
       "      <td>-81.085404</td>\n",
       "      <td>23.221</td>\n",
       "      <td>2.0</td>\n",
       "    </tr>\n",
       "    <tr>\n",
       "      <th>3</th>\n",
       "      <td>2020/07/21 10:07:02</td>\n",
       "      <td>4.053</td>\n",
       "      <td>-19.999</td>\n",
       "      <td>-81.050204</td>\n",
       "      <td>23.233</td>\n",
       "      <td>3.0</td>\n",
       "    </tr>\n",
       "    <tr>\n",
       "      <th>4</th>\n",
       "      <td>2020/07/21 10:07:03</td>\n",
       "      <td>4.051</td>\n",
       "      <td>-19.999</td>\n",
       "      <td>-81.014614</td>\n",
       "      <td>23.312</td>\n",
       "      <td>4.0</td>\n",
       "    </tr>\n",
       "    <tr>\n",
       "      <th>...</th>\n",
       "      <td>...</td>\n",
       "      <td>...</td>\n",
       "      <td>...</td>\n",
       "      <td>...</td>\n",
       "      <td>...</td>\n",
       "      <td>...</td>\n",
       "    </tr>\n",
       "    <tr>\n",
       "      <th>30599</th>\n",
       "      <td>2020/07/21 18:36:39</td>\n",
       "      <td>4.150</td>\n",
       "      <td>0.239</td>\n",
       "      <td>0.991035</td>\n",
       "      <td>23.496</td>\n",
       "      <td>30580.0</td>\n",
       "    </tr>\n",
       "    <tr>\n",
       "      <th>30600</th>\n",
       "      <td>2020/07/21 18:36:40</td>\n",
       "      <td>4.150</td>\n",
       "      <td>0.247</td>\n",
       "      <td>1.024197</td>\n",
       "      <td>23.427</td>\n",
       "      <td>30581.0</td>\n",
       "    </tr>\n",
       "    <tr>\n",
       "      <th>30601</th>\n",
       "      <td>2020/07/21 18:36:41</td>\n",
       "      <td>4.150</td>\n",
       "      <td>0.242</td>\n",
       "      <td>1.004299</td>\n",
       "      <td>23.467</td>\n",
       "      <td>30582.0</td>\n",
       "    </tr>\n",
       "    <tr>\n",
       "      <th>30602</th>\n",
       "      <td>2020/07/21 18:36:42</td>\n",
       "      <td>4.150</td>\n",
       "      <td>0.231</td>\n",
       "      <td>0.957864</td>\n",
       "      <td>23.442</td>\n",
       "      <td>30583.0</td>\n",
       "    </tr>\n",
       "    <tr>\n",
       "      <th>30603</th>\n",
       "      <td>2020/07/21 18:36:42</td>\n",
       "      <td>4.150</td>\n",
       "      <td>0.229</td>\n",
       "      <td>0.948411</td>\n",
       "      <td>23.442</td>\n",
       "      <td>30583.0</td>\n",
       "    </tr>\n",
       "  </tbody>\n",
       "</table>\n",
       "<p>30604 rows × 6 columns</p>\n",
       "</div>"
      ],
      "text/plain": [
       "                      Time  Voltage [V]  Current [A]  Power [W]  \\\n",
       "0      2020/07/21 10:06:59        4.068      -20.011 -81.397232   \n",
       "1      2020/07/21 10:07:00        4.057      -19.998 -81.134929   \n",
       "2      2020/07/21 10:07:01        4.055      -19.998 -81.085404   \n",
       "3      2020/07/21 10:07:02        4.053      -19.999 -81.050204   \n",
       "4      2020/07/21 10:07:03        4.051      -19.999 -81.014614   \n",
       "...                    ...          ...          ...        ...   \n",
       "30599  2020/07/21 18:36:39        4.150        0.239   0.991035   \n",
       "30600  2020/07/21 18:36:40        4.150        0.247   1.024197   \n",
       "30601  2020/07/21 18:36:41        4.150        0.242   1.004299   \n",
       "30602  2020/07/21 18:36:42        4.150        0.231   0.957864   \n",
       "30603  2020/07/21 18:36:42        4.150        0.229   0.948411   \n",
       "\n",
       "       Temperature [C]  Timestamp  \n",
       "0               23.289        0.0  \n",
       "1               23.193        1.0  \n",
       "2               23.221        2.0  \n",
       "3               23.233        3.0  \n",
       "4               23.312        4.0  \n",
       "...                ...        ...  \n",
       "30599           23.496    30580.0  \n",
       "30600           23.427    30581.0  \n",
       "30601           23.467    30582.0  \n",
       "30602           23.442    30583.0  \n",
       "30603           23.442    30583.0  \n",
       "\n",
       "[30604 rows x 6 columns]"
      ]
     },
     "execution_count": 217,
     "metadata": {},
     "output_type": "execute_result"
    }
   ],
   "source": [
    "ground_folder = \"../data/ground/ground_data.csv\"\n",
    "ground_path = Path(ground_folder)\n",
    "df_ground = pd.read_csv(ground_path, encoding= 'unicode_escape')\n",
    "\n",
    "df_ground['Timestamp'] = pd.to_datetime(df_ground['Time'], format=\"%Y/%m/%d %H:%M:%S\").values.astype(float) // 10 ** 9\n",
    "df_ground['Timestamp'] = df_ground['Timestamp'] - df_ground['Timestamp'][0]\n",
    "\n",
    "df_ground"
   ]
  },
  {
   "cell_type": "code",
   "execution_count": 218,
   "id": "tired-syntax",
   "metadata": {},
   "outputs": [],
   "source": [
    "df_ground_dropped = df_ground.drop_duplicates(subset=['Timestamp'], keep='first')"
   ]
  },
  {
   "cell_type": "code",
   "execution_count": 197,
   "id": "conventional-center",
   "metadata": {},
   "outputs": [],
   "source": [
    "output_folder = \"../data/output/enrica_current_load/\"\n",
    "experiment_folder = \"2023-04-27_11-46/dataset.csv\"\n",
    "experiment_path = Path(output_folder) / Path(experiment_folder)\n",
    "\n",
    "df = pd.read_csv(experiment_path)"
   ]
  },
  {
   "cell_type": "code",
   "execution_count": 117,
   "id": "suburban-virgin",
   "metadata": {},
   "outputs": [
    {
     "data": {
      "text/html": [
       "<div>\n",
       "<style scoped>\n",
       "    .dataframe tbody tr th:only-of-type {\n",
       "        vertical-align: middle;\n",
       "    }\n",
       "\n",
       "    .dataframe tbody tr th {\n",
       "        vertical-align: top;\n",
       "    }\n",
       "\n",
       "    .dataframe thead th {\n",
       "        text-align: right;\n",
       "    }\n",
       "</style>\n",
       "<table border=\"1\" class=\"dataframe\">\n",
       "  <thead>\n",
       "    <tr style=\"text-align: right;\">\n",
       "      <th></th>\n",
       "      <th>Time</th>\n",
       "      <th>soc</th>\n",
       "      <th>soh</th>\n",
       "      <th>Voltage [V]</th>\n",
       "      <th>Current [A]</th>\n",
       "      <th>Power [W]</th>\n",
       "      <th>Vocv</th>\n",
       "      <th>R0</th>\n",
       "      <th>R1</th>\n",
       "      <th>C</th>\n",
       "      <th>Temperature [C]</th>\n",
       "      <th>Dissipated Heat [W]</th>\n",
       "    </tr>\n",
       "  </thead>\n",
       "  <tbody>\n",
       "    <tr>\n",
       "      <th>0</th>\n",
       "      <td>-1.0</td>\n",
       "      <td>1.000000</td>\n",
       "      <td>1.0</td>\n",
       "      <td>0.000000</td>\n",
       "      <td>0.000</td>\n",
       "      <td>0.000000</td>\n",
       "      <td>0.000000</td>\n",
       "      <td>0.00000</td>\n",
       "      <td>0.000000</td>\n",
       "      <td>0.00000</td>\n",
       "      <td>23.000000</td>\n",
       "      <td>0.000000</td>\n",
       "    </tr>\n",
       "    <tr>\n",
       "      <th>1</th>\n",
       "      <td>0.0</td>\n",
       "      <td>0.999722</td>\n",
       "      <td>NaN</td>\n",
       "      <td>4.051673</td>\n",
       "      <td>20.011</td>\n",
       "      <td>-81.078037</td>\n",
       "      <td>4.128000</td>\n",
       "      <td>0.00375</td>\n",
       "      <td>0.002905</td>\n",
       "      <td>15316.22569</td>\n",
       "      <td>22.996120</td>\n",
       "      <td>1.501801</td>\n",
       "    </tr>\n",
       "    <tr>\n",
       "      <th>2</th>\n",
       "      <td>1.0</td>\n",
       "      <td>0.999444</td>\n",
       "      <td>NaN</td>\n",
       "      <td>4.050209</td>\n",
       "      <td>19.998</td>\n",
       "      <td>-80.996085</td>\n",
       "      <td>4.127736</td>\n",
       "      <td>0.00375</td>\n",
       "      <td>0.002905</td>\n",
       "      <td>15316.22569</td>\n",
       "      <td>22.992245</td>\n",
       "      <td>1.499850</td>\n",
       "    </tr>\n",
       "    <tr>\n",
       "      <th>3</th>\n",
       "      <td>2.0</td>\n",
       "      <td>0.999167</td>\n",
       "      <td>NaN</td>\n",
       "      <td>4.048724</td>\n",
       "      <td>19.998</td>\n",
       "      <td>-80.966382</td>\n",
       "      <td>4.127472</td>\n",
       "      <td>0.00375</td>\n",
       "      <td>0.002905</td>\n",
       "      <td>15316.22569</td>\n",
       "      <td>22.988376</td>\n",
       "      <td>1.499850</td>\n",
       "    </tr>\n",
       "    <tr>\n",
       "      <th>4</th>\n",
       "      <td>3.0</td>\n",
       "      <td>0.998889</td>\n",
       "      <td>NaN</td>\n",
       "      <td>4.047262</td>\n",
       "      <td>19.999</td>\n",
       "      <td>-80.941187</td>\n",
       "      <td>4.127208</td>\n",
       "      <td>0.00375</td>\n",
       "      <td>0.002905</td>\n",
       "      <td>15316.22569</td>\n",
       "      <td>22.984514</td>\n",
       "      <td>1.500000</td>\n",
       "    </tr>\n",
       "    <tr>\n",
       "      <th>...</th>\n",
       "      <td>...</td>\n",
       "      <td>...</td>\n",
       "      <td>...</td>\n",
       "      <td>...</td>\n",
       "      <td>...</td>\n",
       "      <td>...</td>\n",
       "      <td>...</td>\n",
       "      <td>...</td>\n",
       "      <td>...</td>\n",
       "      <td>...</td>\n",
       "      <td>...</td>\n",
       "      <td>...</td>\n",
       "    </tr>\n",
       "    <tr>\n",
       "      <th>30578</th>\n",
       "      <td>30577.0</td>\n",
       "      <td>1.000000</td>\n",
       "      <td>NaN</td>\n",
       "      <td>4.129638</td>\n",
       "      <td>-0.245</td>\n",
       "      <td>1.011761</td>\n",
       "      <td>4.128000</td>\n",
       "      <td>0.00375</td>\n",
       "      <td>0.002905</td>\n",
       "      <td>15316.22569</td>\n",
       "      <td>20.003915</td>\n",
       "      <td>0.000225</td>\n",
       "    </tr>\n",
       "    <tr>\n",
       "      <th>30579</th>\n",
       "      <td>30578.0</td>\n",
       "      <td>1.000000</td>\n",
       "      <td>NaN</td>\n",
       "      <td>4.129630</td>\n",
       "      <td>-0.243</td>\n",
       "      <td>1.003500</td>\n",
       "      <td>4.128000</td>\n",
       "      <td>0.00375</td>\n",
       "      <td>0.002905</td>\n",
       "      <td>15316.22569</td>\n",
       "      <td>20.003909</td>\n",
       "      <td>0.000221</td>\n",
       "    </tr>\n",
       "    <tr>\n",
       "      <th>30580</th>\n",
       "      <td>30579.0</td>\n",
       "      <td>1.000000</td>\n",
       "      <td>NaN</td>\n",
       "      <td>4.129615</td>\n",
       "      <td>-0.239</td>\n",
       "      <td>0.986978</td>\n",
       "      <td>4.128000</td>\n",
       "      <td>0.00375</td>\n",
       "      <td>0.002905</td>\n",
       "      <td>15316.22569</td>\n",
       "      <td>20.003903</td>\n",
       "      <td>0.000214</td>\n",
       "    </tr>\n",
       "    <tr>\n",
       "      <th>30581</th>\n",
       "      <td>30580.0</td>\n",
       "      <td>1.000000</td>\n",
       "      <td>NaN</td>\n",
       "      <td>4.129645</td>\n",
       "      <td>-0.247</td>\n",
       "      <td>1.020022</td>\n",
       "      <td>4.128000</td>\n",
       "      <td>0.00375</td>\n",
       "      <td>0.002905</td>\n",
       "      <td>15316.22569</td>\n",
       "      <td>20.003897</td>\n",
       "      <td>0.000229</td>\n",
       "    </tr>\n",
       "    <tr>\n",
       "      <th>30582</th>\n",
       "      <td>30581.0</td>\n",
       "      <td>1.000000</td>\n",
       "      <td>NaN</td>\n",
       "      <td>4.129626</td>\n",
       "      <td>-0.242</td>\n",
       "      <td>0.999369</td>\n",
       "      <td>4.128000</td>\n",
       "      <td>0.00375</td>\n",
       "      <td>0.002905</td>\n",
       "      <td>15316.22569</td>\n",
       "      <td>20.003891</td>\n",
       "      <td>0.000220</td>\n",
       "    </tr>\n",
       "  </tbody>\n",
       "</table>\n",
       "<p>30583 rows × 12 columns</p>\n",
       "</div>"
      ],
      "text/plain": [
       "          Time       soc  soh  Voltage [V]  Current [A]  Power [W]      Vocv  \\\n",
       "0         -1.0  1.000000  1.0     0.000000        0.000   0.000000  0.000000   \n",
       "1          0.0  0.999722  NaN     4.051673       20.011 -81.078037  4.128000   \n",
       "2          1.0  0.999444  NaN     4.050209       19.998 -80.996085  4.127736   \n",
       "3          2.0  0.999167  NaN     4.048724       19.998 -80.966382  4.127472   \n",
       "4          3.0  0.998889  NaN     4.047262       19.999 -80.941187  4.127208   \n",
       "...        ...       ...  ...          ...          ...        ...       ...   \n",
       "30578  30577.0  1.000000  NaN     4.129638       -0.245   1.011761  4.128000   \n",
       "30579  30578.0  1.000000  NaN     4.129630       -0.243   1.003500  4.128000   \n",
       "30580  30579.0  1.000000  NaN     4.129615       -0.239   0.986978  4.128000   \n",
       "30581  30580.0  1.000000  NaN     4.129645       -0.247   1.020022  4.128000   \n",
       "30582  30581.0  1.000000  NaN     4.129626       -0.242   0.999369  4.128000   \n",
       "\n",
       "            R0        R1            C  Temperature [C]  Dissipated Heat [W]  \n",
       "0      0.00000  0.000000      0.00000        23.000000             0.000000  \n",
       "1      0.00375  0.002905  15316.22569        22.996120             1.501801  \n",
       "2      0.00375  0.002905  15316.22569        22.992245             1.499850  \n",
       "3      0.00375  0.002905  15316.22569        22.988376             1.499850  \n",
       "4      0.00375  0.002905  15316.22569        22.984514             1.500000  \n",
       "...        ...       ...          ...              ...                  ...  \n",
       "30578  0.00375  0.002905  15316.22569        20.003915             0.000225  \n",
       "30579  0.00375  0.002905  15316.22569        20.003909             0.000221  \n",
       "30580  0.00375  0.002905  15316.22569        20.003903             0.000214  \n",
       "30581  0.00375  0.002905  15316.22569        20.003897             0.000229  \n",
       "30582  0.00375  0.002905  15316.22569        20.003891             0.000220  \n",
       "\n",
       "[30583 rows x 12 columns]"
      ]
     },
     "execution_count": 117,
     "metadata": {},
     "output_type": "execute_result"
    }
   ],
   "source": [
    "df"
   ]
  },
  {
   "cell_type": "markdown",
   "id": "talented-transaction",
   "metadata": {},
   "source": [
    "## Estimation of R_term and C_term"
   ]
  },
  {
   "cell_type": "code",
   "execution_count": 182,
   "id": "short-boundary",
   "metadata": {},
   "outputs": [],
   "source": [
    "from scipy.optimize import minimize, curve_fit"
   ]
  },
  {
   "cell_type": "code",
   "execution_count": 198,
   "id": "laden-visit",
   "metadata": {},
   "outputs": [],
   "source": [
    "def compute_temp(params):\n",
    "    r_term, c_term = params\n",
    "    \n",
    "    q = df['Dissipated Heat [W]'][1:]\n",
    "    dt = 1\n",
    "    temp_ = df['Temperature [C]']\n",
    "    env_temp = 20\n",
    "    \n",
    "    term_1 = q * r_term * dt\n",
    "    term_2 = temp_ * r_term * c_term\n",
    "    term_3 = env_temp * dt\n",
    "    esitmated_temp = (term_1 + term_2 + term_3) / (r_term * c_term + dt)\n",
    "    \n",
    "    return esitmated_temp"
   ]
  },
  {
   "cell_type": "code",
   "execution_count": 202,
   "id": "neither-planet",
   "metadata": {},
   "outputs": [],
   "source": [
    "def objective(params):\n",
    "    y = np.array(compute_temp(params))\n",
    "    y_true = np.array(df_ground_dropped['Temperature [C]'][:-1])\n",
    "    \n",
    "    print(len(y), len(y_true))\n",
    "\n",
    "    obj = 0.0\n",
    "    for i in range(len(y)):\n",
    "        obj = obj + ((y[i]-y_true[i]) / y_true[i])**2    \n",
    "    return obj"
   ]
  },
  {
   "cell_type": "code",
   "execution_count": 203,
   "id": "unknown-rough",
   "metadata": {},
   "outputs": [],
   "source": [
    "# initial guesses\n",
    "x0 = np.zeros(2)\n",
    "x0[0] = 0.37 # a\n",
    "x0[1] = 1700 # b"
   ]
  },
  {
   "cell_type": "code",
   "execution_count": 204,
   "id": "therapeutic-commodity",
   "metadata": {},
   "outputs": [
    {
     "name": "stdout",
     "output_type": "stream",
     "text": [
      "30583 30583\n",
      "30583 30583\n",
      "30583 30583\n"
     ]
    },
    {
     "ename": "ValueError",
     "evalue": "Inequality constraints incompatible",
     "output_type": "error",
     "traceback": [
      "\u001b[1;31m---------------------------------------------------------------------------\u001b[0m",
      "\u001b[1;31mValueError\u001b[0m                                Traceback (most recent call last)",
      "\u001b[1;32m~\\AppData\\Local\\Temp/ipykernel_15088/1004885860.py\u001b[0m in \u001b[0;36m<module>\u001b[1;34m\u001b[0m\n\u001b[0;32m      9\u001b[0m     \u001b[0mprint\u001b[0m\u001b[1;33m(\u001b[0m\u001b[0mfitted_params\u001b[0m\u001b[1;33m)\u001b[0m\u001b[1;33m\u001b[0m\u001b[1;33m\u001b[0m\u001b[0m\n\u001b[0;32m     10\u001b[0m \u001b[1;32melse\u001b[0m\u001b[1;33m:\u001b[0m\u001b[1;33m\u001b[0m\u001b[1;33m\u001b[0m\u001b[0m\n\u001b[1;32m---> 11\u001b[1;33m     \u001b[1;32mraise\u001b[0m \u001b[0mValueError\u001b[0m\u001b[1;33m(\u001b[0m\u001b[0msolution\u001b[0m\u001b[1;33m.\u001b[0m\u001b[0mmessage\u001b[0m\u001b[1;33m)\u001b[0m\u001b[1;33m\u001b[0m\u001b[1;33m\u001b[0m\u001b[0m\n\u001b[0m\u001b[0;32m     12\u001b[0m \u001b[1;33m\u001b[0m\u001b[0m\n\u001b[0;32m     13\u001b[0m \u001b[1;33m\u001b[0m\u001b[0m\n",
      "\u001b[1;31mValueError\u001b[0m: Inequality constraints incompatible"
     ]
    }
   ],
   "source": [
    "x0_bounds = (0, 20.0)\n",
    "x1_bounds = (0, 10000.0)\n",
    "\n",
    "bounds = (x0_bounds, x1_bounds)\n",
    "solution = minimize(objective, x0, method='SLSQP', bounds=bounds)\n",
    "\n",
    "if solution.success:\n",
    "    fitted_params = solution.x\n",
    "    print(fitted_params)\n",
    "else:\n",
    "    raise ValueError(solution.message)\n",
    "\n",
    "# show final objective\n",
    "cObjective = 'Final Objective: ' + str(objective(x))\n",
    "print(cObjective)"
   ]
  },
  {
   "cell_type": "code",
   "execution_count": 187,
   "id": "advance-dover",
   "metadata": {},
   "outputs": [
    {
     "data": {
      "image/png": "[encoded data removed]",
      "text/plain": [
       "<Figure size 1080x360 with 1 Axes>"
      ]
     },
     "metadata": {
      "needs_background": "light"
     },
     "output_type": "display_data"
    }
   ],
   "source": [
    "plt.figure(figsize=(15,5))\n",
    "    \n",
    "# Command for the grid\n",
    "plt.grid(b=True, which='major', color='gray', alpha=0.25, linestyle='dashdot', lw=1.5)\n",
    "plt.minorticks_on()\n",
    "plt.grid(b=True, which='minor', color='beige', alpha=0.5, ls='-', lw=1)\n",
    "\n",
    "# Plot iteratively all the variables\n",
    "plt.plot(df['Time'], y, label='Simulated_Temp', color='magenta')\n",
    "plt.plot(df_ground['Timestamp'], df_ground['Temperature [C]'], label='Ground_Temp', color='cyan')\n",
    "\n",
    "plt.title(\"Temperature\")\n",
    "plt.legend()\n",
    "plt.show()"
   ]
  },
  {
   "cell_type": "code",
   "execution_count": null,
   "id": "corporate-feeding",
   "metadata": {},
   "outputs": [],
   "source": []
  },
  {
   "cell_type": "code",
   "execution_count": 250,
   "id": "polar-literacy",
   "metadata": {},
   "outputs": [],
   "source": [
    "x = list(df['Dissipated Heat [W]'])\n",
    "t_ = list(df['Temperature [C]'])\n",
    "y = list(df_ground_dropped['Temperature [C]'][1:])\n",
    "y_err = [a-b for a, b in zip(df_ground_dropped['Temperature [C]'][1:], df['Temperature [C]'])]"
   ]
  },
  {
   "cell_type": "code",
   "execution_count": 251,
   "id": "incorrect-senegal",
   "metadata": {},
   "outputs": [
    {
     "data": {
      "text/plain": [
       "(30583, 30583, 30583, 30583)"
      ]
     },
     "execution_count": 251,
     "metadata": {},
     "output_type": "execute_result"
    }
   ],
   "source": [
    "len(x), len(t_), len(y), len(y_err)"
   ]
  },
  {
   "cell_type": "code",
   "execution_count": 277,
   "id": "central-brief",
   "metadata": {},
   "outputs": [
    {
     "name": "stdout",
     "output_type": "stream",
     "text": [
      "r_term =      4.605 +- 8682156.707\n",
      "c_term =      0.899 +- 2026246.086\n"
     ]
    }
   ],
   "source": [
    "from scipy.optimize import curve_fit\n",
    "\n",
    "def my_func(x, r_term, c_term):\n",
    "    dt = 1\n",
    "    env_temp = 20\n",
    "    q, temp_ = x\n",
    "        \n",
    "    term_1 = q * r_term * dt\n",
    "    term_2 = temp_ * r_term * c_term\n",
    "    term_3 = env_temp * dt\n",
    "    estimated_temp = (term_1 + term_2 + term_3) / (r_term * c_term + dt)        \n",
    "    return estimated_temp\n",
    "\n",
    "p0 = [0, 0]\n",
    "popt, pcov = curve_fit(my_func, [x_, t_], y, p0, y_err, absolute_sigma=True)\n",
    "perr = np.sqrt(np.diag(pcov))\n",
    "print(\"r_term = {0:10.3f} +- {1:10.3f}\".format(popt[0], perr[0]))\n",
    "print(\"c_term = {0:10.3f} +- {1:10.3f}\".format(popt[1], perr[1]))"
   ]
  },
  {
   "cell_type": "code",
   "execution_count": 268,
   "id": "classified-bibliography",
   "metadata": {},
   "outputs": [
    {
     "ename": "TypeError",
     "evalue": "can't multiply sequence by non-int of type 'numpy.float64'",
     "output_type": "error",
     "traceback": [
      "\u001b[1;31m---------------------------------------------------------------------------\u001b[0m",
      "\u001b[1;31mTypeError\u001b[0m                                 Traceback (most recent call last)",
      "\u001b[1;32m~\\AppData\\Local\\Temp/ipykernel_15088/1416631178.py\u001b[0m in \u001b[0;36m<module>\u001b[1;34m\u001b[0m\n\u001b[0;32m      7\u001b[0m \u001b[1;33m\u001b[0m\u001b[0m\n\u001b[0;32m      8\u001b[0m \u001b[1;31m# Plot iteratively all the variables\u001b[0m\u001b[1;33m\u001b[0m\u001b[1;33m\u001b[0m\u001b[1;33m\u001b[0m\u001b[0m\n\u001b[1;32m----> 9\u001b[1;33m \u001b[0mplt\u001b[0m\u001b[1;33m.\u001b[0m\u001b[0mplot\u001b[0m\u001b[1;33m(\u001b[0m\u001b[0mmy_func\u001b[0m\u001b[1;33m(\u001b[0m\u001b[1;33m[\u001b[0m\u001b[0mx\u001b[0m\u001b[1;33m,\u001b[0m \u001b[0mt_\u001b[0m\u001b[1;33m]\u001b[0m\u001b[1;33m,\u001b[0m \u001b[0mpopt\u001b[0m\u001b[1;33m[\u001b[0m\u001b[1;36m0\u001b[0m\u001b[1;33m]\u001b[0m\u001b[1;33m,\u001b[0m \u001b[0mpopt\u001b[0m\u001b[1;33m[\u001b[0m\u001b[1;36m1\u001b[0m\u001b[1;33m]\u001b[0m\u001b[1;33m)\u001b[0m\u001b[1;33m,\u001b[0m \u001b[0mlabel\u001b[0m\u001b[1;33m=\u001b[0m\u001b[1;34m'Simulated_Temp'\u001b[0m\u001b[1;33m,\u001b[0m \u001b[0mcolor\u001b[0m\u001b[1;33m=\u001b[0m\u001b[1;34m'magenta'\u001b[0m\u001b[1;33m)\u001b[0m\u001b[1;33m\u001b[0m\u001b[1;33m\u001b[0m\u001b[0m\n\u001b[0m\u001b[0;32m     10\u001b[0m \u001b[0mplt\u001b[0m\u001b[1;33m.\u001b[0m\u001b[0mplot\u001b[0m\u001b[1;33m(\u001b[0m\u001b[0mdf_ground_dropped\u001b[0m\u001b[1;33m[\u001b[0m\u001b[1;34m'Temperature [C]'\u001b[0m\u001b[1;33m]\u001b[0m\u001b[1;33m,\u001b[0m \u001b[0mlabel\u001b[0m\u001b[1;33m=\u001b[0m\u001b[1;34m'Ground_Temp'\u001b[0m\u001b[1;33m,\u001b[0m \u001b[0mcolor\u001b[0m\u001b[1;33m=\u001b[0m\u001b[1;34m'cyan'\u001b[0m\u001b[1;33m)\u001b[0m\u001b[1;33m\u001b[0m\u001b[1;33m\u001b[0m\u001b[0m\n\u001b[0;32m     11\u001b[0m \u001b[1;33m\u001b[0m\u001b[0m\n",
      "\u001b[1;32m~\\AppData\\Local\\Temp/ipykernel_15088/2347016655.py\u001b[0m in \u001b[0;36mmy_func\u001b[1;34m(x, r_term, c_term)\u001b[0m\n\u001b[0;32m      6\u001b[0m     \u001b[0mq\u001b[0m\u001b[1;33m,\u001b[0m \u001b[0mtemp_\u001b[0m \u001b[1;33m=\u001b[0m \u001b[0mx\u001b[0m\u001b[1;33m\u001b[0m\u001b[1;33m\u001b[0m\u001b[0m\n\u001b[0;32m      7\u001b[0m \u001b[1;33m\u001b[0m\u001b[0m\n\u001b[1;32m----> 8\u001b[1;33m     \u001b[0mterm_1\u001b[0m \u001b[1;33m=\u001b[0m \u001b[0mq\u001b[0m \u001b[1;33m*\u001b[0m \u001b[0mr_term\u001b[0m \u001b[1;33m*\u001b[0m \u001b[0mdt\u001b[0m\u001b[1;33m\u001b[0m\u001b[1;33m\u001b[0m\u001b[0m\n\u001b[0m\u001b[0;32m      9\u001b[0m     \u001b[0mterm_2\u001b[0m \u001b[1;33m=\u001b[0m \u001b[0mtemp_\u001b[0m \u001b[1;33m*\u001b[0m \u001b[0mr_term\u001b[0m \u001b[1;33m*\u001b[0m \u001b[0mc_term\u001b[0m\u001b[1;33m\u001b[0m\u001b[1;33m\u001b[0m\u001b[0m\n\u001b[0;32m     10\u001b[0m     \u001b[0mterm_3\u001b[0m \u001b[1;33m=\u001b[0m \u001b[0menv_temp\u001b[0m \u001b[1;33m*\u001b[0m \u001b[0mdt\u001b[0m\u001b[1;33m\u001b[0m\u001b[1;33m\u001b[0m\u001b[0m\n",
      "\u001b[1;31mTypeError\u001b[0m: can't multiply sequence by non-int of type 'numpy.float64'"
     ]
    },
    {
     "data": {
      "image/png": "[encoded data removed]",
      "text/plain": [
       "<Figure size 1080x360 with 1 Axes>"
      ]
     },
     "metadata": {
      "needs_background": "light"
     },
     "output_type": "display_data"
    }
   ],
   "source": [
    "plt.figure(figsize=(15,5))\n",
    "    \n",
    "# Command for the grid\n",
    "plt.grid(b=True, which='major', color='gray', alpha=0.25, linestyle='dashdot', lw=1.5)\n",
    "plt.minorticks_on()\n",
    "plt.grid(b=True, which='minor', color='beige', alpha=0.5, ls='-', lw=1)\n",
    "\n",
    "# Plot iteratively all the variables\n",
    "plt.plot(my_func([x, t_], popt[0], popt[1]), label='Simulated_Temp', color='magenta')\n",
    "plt.plot(df_ground_dropped['Temperature [C]'], label='Ground_Temp', color='cyan')\n",
    "\n",
    "plt.title(\"Temperature\")\n",
    "plt.legend()\n",
    "plt.show()"
   ]
  },
  {
   "cell_type": "code",
   "execution_count": null,
   "id": "senior-enterprise",
   "metadata": {},
   "outputs": [],
   "source": []
  },
  {
   "cell_type": "code",
   "execution_count": null,
   "id": "neutral-rocket",
   "metadata": {},
   "outputs": [],
   "source": []
  },
  {
   "cell_type": "code",
   "execution_count": 279,
   "id": "rational-martin",
   "metadata": {},
   "outputs": [],
   "source": [
    "from statsmodels.formula.api import ols"
   ]
  },
  {
   "cell_type": "code",
   "execution_count": 280,
   "id": "surprising-screening",
   "metadata": {},
   "outputs": [],
   "source": [
    "x1 = list(df['Dissipated Heat [W]'])\n",
    "x2 = list(df['Temperature [C]'])\n",
    "y = list(df_ground_dropped['Temperature [C]'])\n",
    "data = {\"x1\": x1, \"x2\":x2, \"y\": y}"
   ]
  },
  {
   "cell_type": "code",
   "execution_count": 282,
   "id": "danish-extension",
   "metadata": {},
   "outputs": [
    {
     "ename": "PatsyError",
     "evalue": "numbers besides '0' and '1' are only allowed with **\n    y ~ (a*x1 + a*b*x2 + 20) / (a*b + 1)\n                         ^^",
     "output_type": "error",
     "traceback": [
      "\u001b[1;31m---------------------------------------------------------------------------\u001b[0m",
      "\u001b[1;31mPatsyError\u001b[0m                                Traceback (most recent call last)",
      "\u001b[1;32m~\\AppData\\Local\\Temp/ipykernel_15088/696022987.py\u001b[0m in \u001b[0;36m<module>\u001b[1;34m\u001b[0m\n\u001b[1;32m----> 1\u001b[1;33m \u001b[0mres\u001b[0m \u001b[1;33m=\u001b[0m \u001b[0mols\u001b[0m\u001b[1;33m(\u001b[0m\u001b[1;34m\"y ~ (a*x1 + a*b*x2 + 20) / (a*b + 1)\"\u001b[0m\u001b[1;33m,\u001b[0m \u001b[0mdata\u001b[0m\u001b[1;33m=\u001b[0m\u001b[0mdata\u001b[0m\u001b[1;33m)\u001b[0m\u001b[1;33m.\u001b[0m\u001b[0mfit\u001b[0m\u001b[1;33m(\u001b[0m\u001b[1;33m)\u001b[0m\u001b[1;33m\u001b[0m\u001b[1;33m\u001b[0m\u001b[0m\n\u001b[0m",
      "\u001b[1;32m~\\AppData\\Local\\Programs\\Python\\Python38\\lib\\site-packages\\statsmodels\\base\\model.py\u001b[0m in \u001b[0;36mfrom_formula\u001b[1;34m(cls, formula, data, subset, drop_cols, *args, **kwargs)\u001b[0m\n\u001b[0;32m    198\u001b[0m             \u001b[0mmissing\u001b[0m \u001b[1;33m=\u001b[0m \u001b[1;34m'raise'\u001b[0m\u001b[1;33m\u001b[0m\u001b[1;33m\u001b[0m\u001b[0m\n\u001b[0;32m    199\u001b[0m \u001b[1;33m\u001b[0m\u001b[0m\n\u001b[1;32m--> 200\u001b[1;33m         tmp = handle_formula_data(data, None, formula, depth=eval_env,\n\u001b[0m\u001b[0;32m    201\u001b[0m                                   missing=missing)\n\u001b[0;32m    202\u001b[0m         \u001b[1;33m(\u001b[0m\u001b[1;33m(\u001b[0m\u001b[0mendog\u001b[0m\u001b[1;33m,\u001b[0m \u001b[0mexog\u001b[0m\u001b[1;33m)\u001b[0m\u001b[1;33m,\u001b[0m \u001b[0mmissing_idx\u001b[0m\u001b[1;33m,\u001b[0m \u001b[0mdesign_info\u001b[0m\u001b[1;33m)\u001b[0m \u001b[1;33m=\u001b[0m \u001b[0mtmp\u001b[0m\u001b[1;33m\u001b[0m\u001b[1;33m\u001b[0m\u001b[0m\n",
      "\u001b[1;32m~\\AppData\\Local\\Programs\\Python\\Python38\\lib\\site-packages\\statsmodels\\formula\\formulatools.py\u001b[0m in \u001b[0;36mhandle_formula_data\u001b[1;34m(Y, X, formula, depth, missing)\u001b[0m\n\u001b[0;32m     64\u001b[0m                                NA_action=na_action)\n\u001b[0;32m     65\u001b[0m         \u001b[1;32melse\u001b[0m\u001b[1;33m:\u001b[0m\u001b[1;33m\u001b[0m\u001b[1;33m\u001b[0m\u001b[0m\n\u001b[1;32m---> 66\u001b[1;33m             result = dmatrices(formula, Y, depth, return_type='dataframe',\n\u001b[0m\u001b[0;32m     67\u001b[0m                                NA_action=na_action)\n\u001b[0;32m     68\u001b[0m \u001b[1;33m\u001b[0m\u001b[0m\n",
      "\u001b[1;32m~\\AppData\\Local\\Programs\\Python\\Python38\\lib\\site-packages\\patsy\\highlevel.py\u001b[0m in \u001b[0;36mdmatrices\u001b[1;34m(formula_like, data, eval_env, NA_action, return_type)\u001b[0m\n\u001b[0;32m    307\u001b[0m     \"\"\"\n\u001b[0;32m    308\u001b[0m     \u001b[0meval_env\u001b[0m \u001b[1;33m=\u001b[0m \u001b[0mEvalEnvironment\u001b[0m\u001b[1;33m.\u001b[0m\u001b[0mcapture\u001b[0m\u001b[1;33m(\u001b[0m\u001b[0meval_env\u001b[0m\u001b[1;33m,\u001b[0m \u001b[0mreference\u001b[0m\u001b[1;33m=\u001b[0m\u001b[1;36m1\u001b[0m\u001b[1;33m)\u001b[0m\u001b[1;33m\u001b[0m\u001b[1;33m\u001b[0m\u001b[0m\n\u001b[1;32m--> 309\u001b[1;33m     (lhs, rhs) = _do_highlevel_design(formula_like, data, eval_env,\n\u001b[0m\u001b[0;32m    310\u001b[0m                                       NA_action, return_type)\n\u001b[0;32m    311\u001b[0m     \u001b[1;32mif\u001b[0m \u001b[0mlhs\u001b[0m\u001b[1;33m.\u001b[0m\u001b[0mshape\u001b[0m\u001b[1;33m[\u001b[0m\u001b[1;36m1\u001b[0m\u001b[1;33m]\u001b[0m \u001b[1;33m==\u001b[0m \u001b[1;36m0\u001b[0m\u001b[1;33m:\u001b[0m\u001b[1;33m\u001b[0m\u001b[1;33m\u001b[0m\u001b[0m\n",
      "\u001b[1;32m~\\AppData\\Local\\Programs\\Python\\Python38\\lib\\site-packages\\patsy\\highlevel.py\u001b[0m in \u001b[0;36m_do_highlevel_design\u001b[1;34m(formula_like, data, eval_env, NA_action, return_type)\u001b[0m\n\u001b[0;32m    162\u001b[0m     \u001b[1;32mdef\u001b[0m \u001b[0mdata_iter_maker\u001b[0m\u001b[1;33m(\u001b[0m\u001b[1;33m)\u001b[0m\u001b[1;33m:\u001b[0m\u001b[1;33m\u001b[0m\u001b[1;33m\u001b[0m\u001b[0m\n\u001b[0;32m    163\u001b[0m         \u001b[1;32mreturn\u001b[0m \u001b[0miter\u001b[0m\u001b[1;33m(\u001b[0m\u001b[1;33m[\u001b[0m\u001b[0mdata\u001b[0m\u001b[1;33m]\u001b[0m\u001b[1;33m)\u001b[0m\u001b[1;33m\u001b[0m\u001b[1;33m\u001b[0m\u001b[0m\n\u001b[1;32m--> 164\u001b[1;33m     design_infos = _try_incr_builders(formula_like, data_iter_maker, eval_env,\n\u001b[0m\u001b[0;32m    165\u001b[0m                                       NA_action)\n\u001b[0;32m    166\u001b[0m     \u001b[1;32mif\u001b[0m \u001b[0mdesign_infos\u001b[0m \u001b[1;32mis\u001b[0m \u001b[1;32mnot\u001b[0m \u001b[1;32mNone\u001b[0m\u001b[1;33m:\u001b[0m\u001b[1;33m\u001b[0m\u001b[1;33m\u001b[0m\u001b[0m\n",
      "\u001b[1;32m~\\AppData\\Local\\Programs\\Python\\Python38\\lib\\site-packages\\patsy\\highlevel.py\u001b[0m in \u001b[0;36m_try_incr_builders\u001b[1;34m(formula_like, data_iter_maker, eval_env, NA_action)\u001b[0m\n\u001b[0;32m     60\u001b[0m                 \"ascii-only, or else upgrade to Python 3.\")\n\u001b[0;32m     61\u001b[0m     \u001b[1;32mif\u001b[0m \u001b[0misinstance\u001b[0m\u001b[1;33m(\u001b[0m\u001b[0mformula_like\u001b[0m\u001b[1;33m,\u001b[0m \u001b[0mstr\u001b[0m\u001b[1;33m)\u001b[0m\u001b[1;33m:\u001b[0m\u001b[1;33m\u001b[0m\u001b[1;33m\u001b[0m\u001b[0m\n\u001b[1;32m---> 62\u001b[1;33m         \u001b[0mformula_like\u001b[0m \u001b[1;33m=\u001b[0m \u001b[0mModelDesc\u001b[0m\u001b[1;33m.\u001b[0m\u001b[0mfrom_formula\u001b[0m\u001b[1;33m(\u001b[0m\u001b[0mformula_like\u001b[0m\u001b[1;33m)\u001b[0m\u001b[1;33m\u001b[0m\u001b[1;33m\u001b[0m\u001b[0m\n\u001b[0m\u001b[0;32m     63\u001b[0m         \u001b[1;31m# fallthrough\u001b[0m\u001b[1;33m\u001b[0m\u001b[1;33m\u001b[0m\u001b[1;33m\u001b[0m\u001b[0m\n\u001b[0;32m     64\u001b[0m     \u001b[1;32mif\u001b[0m \u001b[0misinstance\u001b[0m\u001b[1;33m(\u001b[0m\u001b[0mformula_like\u001b[0m\u001b[1;33m,\u001b[0m \u001b[0mModelDesc\u001b[0m\u001b[1;33m)\u001b[0m\u001b[1;33m:\u001b[0m\u001b[1;33m\u001b[0m\u001b[1;33m\u001b[0m\u001b[0m\n",
      "\u001b[1;32m~\\AppData\\Local\\Programs\\Python\\Python38\\lib\\site-packages\\patsy\\desc.py\u001b[0m in \u001b[0;36mfrom_formula\u001b[1;34m(cls, tree_or_string)\u001b[0m\n\u001b[0;32m    163\u001b[0m         \u001b[1;32melse\u001b[0m\u001b[1;33m:\u001b[0m\u001b[1;33m\u001b[0m\u001b[1;33m\u001b[0m\u001b[0m\n\u001b[0;32m    164\u001b[0m             \u001b[0mtree\u001b[0m \u001b[1;33m=\u001b[0m \u001b[0mparse_formula\u001b[0m\u001b[1;33m(\u001b[0m\u001b[0mtree_or_string\u001b[0m\u001b[1;33m)\u001b[0m\u001b[1;33m\u001b[0m\u001b[1;33m\u001b[0m\u001b[0m\n\u001b[1;32m--> 165\u001b[1;33m         \u001b[0mvalue\u001b[0m \u001b[1;33m=\u001b[0m \u001b[0mEvaluator\u001b[0m\u001b[1;33m(\u001b[0m\u001b[1;33m)\u001b[0m\u001b[1;33m.\u001b[0m\u001b[0meval\u001b[0m\u001b[1;33m(\u001b[0m\u001b[0mtree\u001b[0m\u001b[1;33m,\u001b[0m \u001b[0mrequire_evalexpr\u001b[0m\u001b[1;33m=\u001b[0m\u001b[1;32mFalse\u001b[0m\u001b[1;33m)\u001b[0m\u001b[1;33m\u001b[0m\u001b[1;33m\u001b[0m\u001b[0m\n\u001b[0m\u001b[0;32m    166\u001b[0m         \u001b[1;32massert\u001b[0m \u001b[0misinstance\u001b[0m\u001b[1;33m(\u001b[0m\u001b[0mvalue\u001b[0m\u001b[1;33m,\u001b[0m \u001b[0mcls\u001b[0m\u001b[1;33m)\u001b[0m\u001b[1;33m\u001b[0m\u001b[1;33m\u001b[0m\u001b[0m\n\u001b[0;32m    167\u001b[0m         \u001b[1;32mreturn\u001b[0m \u001b[0mvalue\u001b[0m\u001b[1;33m\u001b[0m\u001b[1;33m\u001b[0m\u001b[0m\n",
      "\u001b[1;32m~\\AppData\\Local\\Programs\\Python\\Python38\\lib\\site-packages\\patsy\\desc.py\u001b[0m in \u001b[0;36meval\u001b[1;34m(self, tree, require_evalexpr)\u001b[0m\n\u001b[0;32m    398\u001b[0m                                 \u001b[1;34m\"'%s' operator\"\u001b[0m \u001b[1;33m%\u001b[0m \u001b[1;33m(\u001b[0m\u001b[0mtree\u001b[0m\u001b[1;33m.\u001b[0m\u001b[0mtype\u001b[0m\u001b[1;33m,\u001b[0m\u001b[1;33m)\u001b[0m\u001b[1;33m,\u001b[0m\u001b[1;33m\u001b[0m\u001b[1;33m\u001b[0m\u001b[0m\n\u001b[0;32m    399\u001b[0m                                 tree.token)\n\u001b[1;32m--> 400\u001b[1;33m         \u001b[0mresult\u001b[0m \u001b[1;33m=\u001b[0m \u001b[0mself\u001b[0m\u001b[1;33m.\u001b[0m\u001b[0m_evaluators\u001b[0m\u001b[1;33m[\u001b[0m\u001b[0mkey\u001b[0m\u001b[1;33m]\u001b[0m\u001b[1;33m(\u001b[0m\u001b[0mself\u001b[0m\u001b[1;33m,\u001b[0m \u001b[0mtree\u001b[0m\u001b[1;33m)\u001b[0m\u001b[1;33m\u001b[0m\u001b[1;33m\u001b[0m\u001b[0m\n\u001b[0m\u001b[0;32m    401\u001b[0m         \u001b[1;32mif\u001b[0m \u001b[0mrequire_evalexpr\u001b[0m \u001b[1;32mand\u001b[0m \u001b[1;32mnot\u001b[0m \u001b[0misinstance\u001b[0m\u001b[1;33m(\u001b[0m\u001b[0mresult\u001b[0m\u001b[1;33m,\u001b[0m \u001b[0mIntermediateExpr\u001b[0m\u001b[1;33m)\u001b[0m\u001b[1;33m:\u001b[0m\u001b[1;33m\u001b[0m\u001b[1;33m\u001b[0m\u001b[0m\n\u001b[0;32m    402\u001b[0m             \u001b[1;32mif\u001b[0m \u001b[0misinstance\u001b[0m\u001b[1;33m(\u001b[0m\u001b[0mresult\u001b[0m\u001b[1;33m,\u001b[0m \u001b[0mModelDesc\u001b[0m\u001b[1;33m)\u001b[0m\u001b[1;33m:\u001b[0m\u001b[1;33m\u001b[0m\u001b[1;33m\u001b[0m\u001b[0m\n",
      "\u001b[1;32m~\\AppData\\Local\\Programs\\Python\\Python38\\lib\\site-packages\\patsy\\desc.py\u001b[0m in \u001b[0;36m_eval_any_tilde\u001b[1;34m(evaluator, tree)\u001b[0m\n\u001b[0;32m    219\u001b[0m \u001b[1;33m\u001b[0m\u001b[0m\n\u001b[0;32m    220\u001b[0m \u001b[1;32mdef\u001b[0m \u001b[0m_eval_any_tilde\u001b[0m\u001b[1;33m(\u001b[0m\u001b[0mevaluator\u001b[0m\u001b[1;33m,\u001b[0m \u001b[0mtree\u001b[0m\u001b[1;33m)\u001b[0m\u001b[1;33m:\u001b[0m\u001b[1;33m\u001b[0m\u001b[1;33m\u001b[0m\u001b[0m\n\u001b[1;32m--> 221\u001b[1;33m     \u001b[0mexprs\u001b[0m \u001b[1;33m=\u001b[0m \u001b[1;33m[\u001b[0m\u001b[0mevaluator\u001b[0m\u001b[1;33m.\u001b[0m\u001b[0meval\u001b[0m\u001b[1;33m(\u001b[0m\u001b[0marg\u001b[0m\u001b[1;33m)\u001b[0m \u001b[1;32mfor\u001b[0m \u001b[0marg\u001b[0m \u001b[1;32min\u001b[0m \u001b[0mtree\u001b[0m\u001b[1;33m.\u001b[0m\u001b[0margs\u001b[0m\u001b[1;33m]\u001b[0m\u001b[1;33m\u001b[0m\u001b[1;33m\u001b[0m\u001b[0m\n\u001b[0m\u001b[0;32m    222\u001b[0m     \u001b[1;32mif\u001b[0m \u001b[0mlen\u001b[0m\u001b[1;33m(\u001b[0m\u001b[0mexprs\u001b[0m\u001b[1;33m)\u001b[0m \u001b[1;33m==\u001b[0m \u001b[1;36m1\u001b[0m\u001b[1;33m:\u001b[0m\u001b[1;33m\u001b[0m\u001b[1;33m\u001b[0m\u001b[0m\n\u001b[0;32m    223\u001b[0m         \u001b[1;31m# Formula was like: \"~ foo\"\u001b[0m\u001b[1;33m\u001b[0m\u001b[1;33m\u001b[0m\u001b[1;33m\u001b[0m\u001b[0m\n",
      "\u001b[1;32m~\\AppData\\Local\\Programs\\Python\\Python38\\lib\\site-packages\\patsy\\desc.py\u001b[0m in \u001b[0;36m<listcomp>\u001b[1;34m(.0)\u001b[0m\n\u001b[0;32m    219\u001b[0m \u001b[1;33m\u001b[0m\u001b[0m\n\u001b[0;32m    220\u001b[0m \u001b[1;32mdef\u001b[0m \u001b[0m_eval_any_tilde\u001b[0m\u001b[1;33m(\u001b[0m\u001b[0mevaluator\u001b[0m\u001b[1;33m,\u001b[0m \u001b[0mtree\u001b[0m\u001b[1;33m)\u001b[0m\u001b[1;33m:\u001b[0m\u001b[1;33m\u001b[0m\u001b[1;33m\u001b[0m\u001b[0m\n\u001b[1;32m--> 221\u001b[1;33m     \u001b[0mexprs\u001b[0m \u001b[1;33m=\u001b[0m \u001b[1;33m[\u001b[0m\u001b[0mevaluator\u001b[0m\u001b[1;33m.\u001b[0m\u001b[0meval\u001b[0m\u001b[1;33m(\u001b[0m\u001b[0marg\u001b[0m\u001b[1;33m)\u001b[0m \u001b[1;32mfor\u001b[0m \u001b[0marg\u001b[0m \u001b[1;32min\u001b[0m \u001b[0mtree\u001b[0m\u001b[1;33m.\u001b[0m\u001b[0margs\u001b[0m\u001b[1;33m]\u001b[0m\u001b[1;33m\u001b[0m\u001b[1;33m\u001b[0m\u001b[0m\n\u001b[0m\u001b[0;32m    222\u001b[0m     \u001b[1;32mif\u001b[0m \u001b[0mlen\u001b[0m\u001b[1;33m(\u001b[0m\u001b[0mexprs\u001b[0m\u001b[1;33m)\u001b[0m \u001b[1;33m==\u001b[0m \u001b[1;36m1\u001b[0m\u001b[1;33m:\u001b[0m\u001b[1;33m\u001b[0m\u001b[1;33m\u001b[0m\u001b[0m\n\u001b[0;32m    223\u001b[0m         \u001b[1;31m# Formula was like: \"~ foo\"\u001b[0m\u001b[1;33m\u001b[0m\u001b[1;33m\u001b[0m\u001b[1;33m\u001b[0m\u001b[0m\n",
      "\u001b[1;32m~\\AppData\\Local\\Programs\\Python\\Python38\\lib\\site-packages\\patsy\\desc.py\u001b[0m in \u001b[0;36meval\u001b[1;34m(self, tree, require_evalexpr)\u001b[0m\n\u001b[0;32m    398\u001b[0m                                 \u001b[1;34m\"'%s' operator\"\u001b[0m \u001b[1;33m%\u001b[0m \u001b[1;33m(\u001b[0m\u001b[0mtree\u001b[0m\u001b[1;33m.\u001b[0m\u001b[0mtype\u001b[0m\u001b[1;33m,\u001b[0m\u001b[1;33m)\u001b[0m\u001b[1;33m,\u001b[0m\u001b[1;33m\u001b[0m\u001b[1;33m\u001b[0m\u001b[0m\n\u001b[0;32m    399\u001b[0m                                 tree.token)\n\u001b[1;32m--> 400\u001b[1;33m         \u001b[0mresult\u001b[0m \u001b[1;33m=\u001b[0m \u001b[0mself\u001b[0m\u001b[1;33m.\u001b[0m\u001b[0m_evaluators\u001b[0m\u001b[1;33m[\u001b[0m\u001b[0mkey\u001b[0m\u001b[1;33m]\u001b[0m\u001b[1;33m(\u001b[0m\u001b[0mself\u001b[0m\u001b[1;33m,\u001b[0m \u001b[0mtree\u001b[0m\u001b[1;33m)\u001b[0m\u001b[1;33m\u001b[0m\u001b[1;33m\u001b[0m\u001b[0m\n\u001b[0m\u001b[0;32m    401\u001b[0m         \u001b[1;32mif\u001b[0m \u001b[0mrequire_evalexpr\u001b[0m \u001b[1;32mand\u001b[0m \u001b[1;32mnot\u001b[0m \u001b[0misinstance\u001b[0m\u001b[1;33m(\u001b[0m\u001b[0mresult\u001b[0m\u001b[1;33m,\u001b[0m \u001b[0mIntermediateExpr\u001b[0m\u001b[1;33m)\u001b[0m\u001b[1;33m:\u001b[0m\u001b[1;33m\u001b[0m\u001b[1;33m\u001b[0m\u001b[0m\n\u001b[0;32m    402\u001b[0m             \u001b[1;32mif\u001b[0m \u001b[0misinstance\u001b[0m\u001b[1;33m(\u001b[0m\u001b[0mresult\u001b[0m\u001b[1;33m,\u001b[0m \u001b[0mModelDesc\u001b[0m\u001b[1;33m)\u001b[0m\u001b[1;33m:\u001b[0m\u001b[1;33m\u001b[0m\u001b[1;33m\u001b[0m\u001b[0m\n",
      "\u001b[1;32m~\\AppData\\Local\\Programs\\Python\\Python38\\lib\\site-packages\\patsy\\desc.py\u001b[0m in \u001b[0;36m_eval_binary_div\u001b[1;34m(evaluator, tree)\u001b[0m\n\u001b[0;32m    295\u001b[0m \u001b[1;31m# will do better.)\u001b[0m\u001b[1;33m\u001b[0m\u001b[1;33m\u001b[0m\u001b[1;33m\u001b[0m\u001b[0m\n\u001b[0;32m    296\u001b[0m \u001b[1;32mdef\u001b[0m \u001b[0m_eval_binary_div\u001b[0m\u001b[1;33m(\u001b[0m\u001b[0mevaluator\u001b[0m\u001b[1;33m,\u001b[0m \u001b[0mtree\u001b[0m\u001b[1;33m)\u001b[0m\u001b[1;33m:\u001b[0m\u001b[1;33m\u001b[0m\u001b[1;33m\u001b[0m\u001b[0m\n\u001b[1;32m--> 297\u001b[1;33m     \u001b[0mleft_expr\u001b[0m \u001b[1;33m=\u001b[0m \u001b[0mevaluator\u001b[0m\u001b[1;33m.\u001b[0m\u001b[0meval\u001b[0m\u001b[1;33m(\u001b[0m\u001b[0mtree\u001b[0m\u001b[1;33m.\u001b[0m\u001b[0margs\u001b[0m\u001b[1;33m[\u001b[0m\u001b[1;36m0\u001b[0m\u001b[1;33m]\u001b[0m\u001b[1;33m)\u001b[0m\u001b[1;33m\u001b[0m\u001b[1;33m\u001b[0m\u001b[0m\n\u001b[0m\u001b[0;32m    298\u001b[0m     \u001b[0mright_expr\u001b[0m \u001b[1;33m=\u001b[0m \u001b[0mevaluator\u001b[0m\u001b[1;33m.\u001b[0m\u001b[0meval\u001b[0m\u001b[1;33m(\u001b[0m\u001b[0mtree\u001b[0m\u001b[1;33m.\u001b[0m\u001b[0margs\u001b[0m\u001b[1;33m[\u001b[0m\u001b[1;36m1\u001b[0m\u001b[1;33m]\u001b[0m\u001b[1;33m)\u001b[0m\u001b[1;33m\u001b[0m\u001b[1;33m\u001b[0m\u001b[0m\n\u001b[0;32m    299\u001b[0m     \u001b[0mterms\u001b[0m \u001b[1;33m=\u001b[0m \u001b[0mlist\u001b[0m\u001b[1;33m(\u001b[0m\u001b[0mleft_expr\u001b[0m\u001b[1;33m.\u001b[0m\u001b[0mterms\u001b[0m\u001b[1;33m)\u001b[0m\u001b[1;33m\u001b[0m\u001b[1;33m\u001b[0m\u001b[0m\n",
      "\u001b[1;32m~\\AppData\\Local\\Programs\\Python\\Python38\\lib\\site-packages\\patsy\\desc.py\u001b[0m in \u001b[0;36meval\u001b[1;34m(self, tree, require_evalexpr)\u001b[0m\n\u001b[0;32m    398\u001b[0m                                 \u001b[1;34m\"'%s' operator\"\u001b[0m \u001b[1;33m%\u001b[0m \u001b[1;33m(\u001b[0m\u001b[0mtree\u001b[0m\u001b[1;33m.\u001b[0m\u001b[0mtype\u001b[0m\u001b[1;33m,\u001b[0m\u001b[1;33m)\u001b[0m\u001b[1;33m,\u001b[0m\u001b[1;33m\u001b[0m\u001b[1;33m\u001b[0m\u001b[0m\n\u001b[0;32m    399\u001b[0m                                 tree.token)\n\u001b[1;32m--> 400\u001b[1;33m         \u001b[0mresult\u001b[0m \u001b[1;33m=\u001b[0m \u001b[0mself\u001b[0m\u001b[1;33m.\u001b[0m\u001b[0m_evaluators\u001b[0m\u001b[1;33m[\u001b[0m\u001b[0mkey\u001b[0m\u001b[1;33m]\u001b[0m\u001b[1;33m(\u001b[0m\u001b[0mself\u001b[0m\u001b[1;33m,\u001b[0m \u001b[0mtree\u001b[0m\u001b[1;33m)\u001b[0m\u001b[1;33m\u001b[0m\u001b[1;33m\u001b[0m\u001b[0m\n\u001b[0m\u001b[0;32m    401\u001b[0m         \u001b[1;32mif\u001b[0m \u001b[0mrequire_evalexpr\u001b[0m \u001b[1;32mand\u001b[0m \u001b[1;32mnot\u001b[0m \u001b[0misinstance\u001b[0m\u001b[1;33m(\u001b[0m\u001b[0mresult\u001b[0m\u001b[1;33m,\u001b[0m \u001b[0mIntermediateExpr\u001b[0m\u001b[1;33m)\u001b[0m\u001b[1;33m:\u001b[0m\u001b[1;33m\u001b[0m\u001b[1;33m\u001b[0m\u001b[0m\n\u001b[0;32m    402\u001b[0m             \u001b[1;32mif\u001b[0m \u001b[0misinstance\u001b[0m\u001b[1;33m(\u001b[0m\u001b[0mresult\u001b[0m\u001b[1;33m,\u001b[0m \u001b[0mModelDesc\u001b[0m\u001b[1;33m)\u001b[0m\u001b[1;33m:\u001b[0m\u001b[1;33m\u001b[0m\u001b[1;33m\u001b[0m\u001b[0m\n",
      "\u001b[1;32m~\\AppData\\Local\\Programs\\Python\\Python38\\lib\\site-packages\\patsy\\desc.py\u001b[0m in \u001b[0;36m_eval_binary_plus\u001b[1;34m(evaluator, tree)\u001b[0m\n\u001b[0;32m    235\u001b[0m         \u001b[1;32mreturn\u001b[0m \u001b[0mIntermediateExpr\u001b[0m\u001b[1;33m(\u001b[0m\u001b[1;32mFalse\u001b[0m\u001b[1;33m,\u001b[0m \u001b[1;32mNone\u001b[0m\u001b[1;33m,\u001b[0m \u001b[1;32mTrue\u001b[0m\u001b[1;33m,\u001b[0m \u001b[0mleft_expr\u001b[0m\u001b[1;33m.\u001b[0m\u001b[0mterms\u001b[0m\u001b[1;33m)\u001b[0m\u001b[1;33m\u001b[0m\u001b[1;33m\u001b[0m\u001b[0m\n\u001b[0;32m    236\u001b[0m     \u001b[1;32melse\u001b[0m\u001b[1;33m:\u001b[0m\u001b[1;33m\u001b[0m\u001b[1;33m\u001b[0m\u001b[0m\n\u001b[1;32m--> 237\u001b[1;33m         \u001b[0mright_expr\u001b[0m \u001b[1;33m=\u001b[0m \u001b[0mevaluator\u001b[0m\u001b[1;33m.\u001b[0m\u001b[0meval\u001b[0m\u001b[1;33m(\u001b[0m\u001b[0mtree\u001b[0m\u001b[1;33m.\u001b[0m\u001b[0margs\u001b[0m\u001b[1;33m[\u001b[0m\u001b[1;36m1\u001b[0m\u001b[1;33m]\u001b[0m\u001b[1;33m)\u001b[0m\u001b[1;33m\u001b[0m\u001b[1;33m\u001b[0m\u001b[0m\n\u001b[0m\u001b[0;32m    238\u001b[0m         \u001b[1;32mif\u001b[0m \u001b[0mright_expr\u001b[0m\u001b[1;33m.\u001b[0m\u001b[0mintercept\u001b[0m\u001b[1;33m:\u001b[0m\u001b[1;33m\u001b[0m\u001b[1;33m\u001b[0m\u001b[0m\n\u001b[0;32m    239\u001b[0m             return IntermediateExpr(True, right_expr.intercept_origin, False,\n",
      "\u001b[1;32m~\\AppData\\Local\\Programs\\Python\\Python38\\lib\\site-packages\\patsy\\desc.py\u001b[0m in \u001b[0;36meval\u001b[1;34m(self, tree, require_evalexpr)\u001b[0m\n\u001b[0;32m    398\u001b[0m                                 \u001b[1;34m\"'%s' operator\"\u001b[0m \u001b[1;33m%\u001b[0m \u001b[1;33m(\u001b[0m\u001b[0mtree\u001b[0m\u001b[1;33m.\u001b[0m\u001b[0mtype\u001b[0m\u001b[1;33m,\u001b[0m\u001b[1;33m)\u001b[0m\u001b[1;33m,\u001b[0m\u001b[1;33m\u001b[0m\u001b[1;33m\u001b[0m\u001b[0m\n\u001b[0;32m    399\u001b[0m                                 tree.token)\n\u001b[1;32m--> 400\u001b[1;33m         \u001b[0mresult\u001b[0m \u001b[1;33m=\u001b[0m \u001b[0mself\u001b[0m\u001b[1;33m.\u001b[0m\u001b[0m_evaluators\u001b[0m\u001b[1;33m[\u001b[0m\u001b[0mkey\u001b[0m\u001b[1;33m]\u001b[0m\u001b[1;33m(\u001b[0m\u001b[0mself\u001b[0m\u001b[1;33m,\u001b[0m \u001b[0mtree\u001b[0m\u001b[1;33m)\u001b[0m\u001b[1;33m\u001b[0m\u001b[1;33m\u001b[0m\u001b[0m\n\u001b[0m\u001b[0;32m    401\u001b[0m         \u001b[1;32mif\u001b[0m \u001b[0mrequire_evalexpr\u001b[0m \u001b[1;32mand\u001b[0m \u001b[1;32mnot\u001b[0m \u001b[0misinstance\u001b[0m\u001b[1;33m(\u001b[0m\u001b[0mresult\u001b[0m\u001b[1;33m,\u001b[0m \u001b[0mIntermediateExpr\u001b[0m\u001b[1;33m)\u001b[0m\u001b[1;33m:\u001b[0m\u001b[1;33m\u001b[0m\u001b[1;33m\u001b[0m\u001b[0m\n\u001b[0;32m    402\u001b[0m             \u001b[1;32mif\u001b[0m \u001b[0misinstance\u001b[0m\u001b[1;33m(\u001b[0m\u001b[0mresult\u001b[0m\u001b[1;33m,\u001b[0m \u001b[0mModelDesc\u001b[0m\u001b[1;33m)\u001b[0m\u001b[1;33m:\u001b[0m\u001b[1;33m\u001b[0m\u001b[1;33m\u001b[0m\u001b[0m\n",
      "\u001b[1;32m~\\AppData\\Local\\Programs\\Python\\Python38\\lib\\site-packages\\patsy\\desc.py\u001b[0m in \u001b[0;36m_eval_number\u001b[1;34m(evaluator, tree)\u001b[0m\n\u001b[0;32m    352\u001b[0m \u001b[1;33m\u001b[0m\u001b[0m\n\u001b[0;32m    353\u001b[0m \u001b[1;32mdef\u001b[0m \u001b[0m_eval_number\u001b[0m\u001b[1;33m(\u001b[0m\u001b[0mevaluator\u001b[0m\u001b[1;33m,\u001b[0m \u001b[0mtree\u001b[0m\u001b[1;33m)\u001b[0m\u001b[1;33m:\u001b[0m\u001b[1;33m\u001b[0m\u001b[1;33m\u001b[0m\u001b[0m\n\u001b[1;32m--> 354\u001b[1;33m     raise PatsyError(\"numbers besides '0' and '1' are \"\n\u001b[0m\u001b[0;32m    355\u001b[0m                         \"only allowed with **\", tree)\n\u001b[0;32m    356\u001b[0m \u001b[1;33m\u001b[0m\u001b[0m\n",
      "\u001b[1;31mPatsyError\u001b[0m: numbers besides '0' and '1' are only allowed with **\n    y ~ (a*x1 + a*b*x2 + 20) / (a*b + 1)\n                         ^^"
     ]
    }
   ],
   "source": [
    "res = ols(\"y ~ (a*x1 + a*b*x2 + 20) / (a*b + 1)\", data=data).fit()"
   ]
  },
  {
   "cell_type": "code",
   "execution_count": null,
   "id": "naked-sunglasses",
   "metadata": {},
   "outputs": [],
   "source": []
  },
  {
   "cell_type": "code",
   "execution_count": null,
   "id": "whole-fairy",
   "metadata": {},
   "outputs": [],
   "source": []
  },
  {
   "cell_type": "code",
   "execution_count": null,
   "id": "light-ethnic",
   "metadata": {},
   "outputs": [],
   "source": []
  },
  {
   "cell_type": "code",
   "execution_count": null,
   "id": "random-marine",
   "metadata": {},
   "outputs": [],
   "source": []
  },
  {
   "cell_type": "code",
   "execution_count": null,
   "id": "extensive-parts",
   "metadata": {},
   "outputs": [],
   "source": []
  },
  {
   "cell_type": "code",
   "execution_count": 205,
   "id": "suffering-seattle",
   "metadata": {},
   "outputs": [],
   "source": [
    "def my_func(r_term, c_term):\n",
    "    q = df['Dissipated Heat [W]'][1]\n",
    "    dt = 1\n",
    "    temp_ = df['Temperature [C]'][0]\n",
    "    env_temp = 20\n",
    "\n",
    "    term_1 = q * r_term * dt\n",
    "    term_2 = temp_ * r_term * c_term\n",
    "    term_3 = env_temp * dt\n",
    "    esitmated_temp = (term_1 + term_2 + term_3) / (r_term * c_term + dt)\n",
    "    return esitmated_temp"
   ]
  },
  {
   "cell_type": "code",
   "execution_count": 214,
   "id": "floppy-south",
   "metadata": {},
   "outputs": [
    {
     "name": "stderr",
     "output_type": "stream",
     "text": [
      "100%|███████████████████████████████████████████████████████████████████████████████| 100/100 [00:00<00:00, 211.85it/s]"
     ]
    },
    {
     "name": "stdout",
     "output_type": "stream",
     "text": [
      "R_term:  0.71678126\n",
      "C_term:  1700.0\n",
      "Cost:  0.08443496\n"
     ]
    },
    {
     "name": "stderr",
     "output_type": "stream",
     "text": [
      "\n"
     ]
    }
   ],
   "source": [
    "import tensorflow as tf\n",
    "from tqdm import tqdm\n",
    "\n",
    "# Create needed objects\n",
    "sgd = tf.keras.optimizers.SGD(learning_rate=0.1, momentum=0.9)\n",
    "r_term = tf.Variable(0.37)\n",
    "c_term = tf.Variable(1700.0)\n",
    "cost = lambda: (my_func(r_term, c_term) - df_ground_dropped['Temperature [C]'][0]) ** 2\n",
    "\n",
    "# Perform optimization\n",
    "for _ in tqdm(range(100)):\n",
    "     sgd.minimize(cost, var_list=[r_term, c_term])\n",
    "\n",
    "# Extract results\n",
    "print(\"R_term: \", r_term.numpy())\n",
    "print(\"C_term: \", c_term.numpy())\n",
    "print(\"Cost: \", cost().numpy())"
   ]
  },
  {
   "cell_type": "code",
   "execution_count": null,
   "id": "temporal-insert",
   "metadata": {},
   "outputs": [],
   "source": []
  },
  {
   "cell_type": "code",
   "execution_count": null,
   "id": "tamil-netherlands",
   "metadata": {},
   "outputs": [],
   "source": []
  },
  {
   "cell_type": "code",
   "execution_count": null,
   "id": "needed-gender",
   "metadata": {},
   "outputs": [],
   "source": []
  },
  {
   "cell_type": "code",
   "execution_count": null,
   "id": "finite-stretch",
   "metadata": {},
   "outputs": [],
   "source": []
  },
  {
   "cell_type": "code",
   "execution_count": null,
   "id": "seasonal-contact",
   "metadata": {},
   "outputs": [],
   "source": []
  },
  {
   "cell_type": "code",
   "execution_count": null,
   "id": "colonial-change",
   "metadata": {},
   "outputs": [],
   "source": []
  },
  {
   "cell_type": "code",
   "execution_count": null,
   "id": "worse-uganda",
   "metadata": {},
   "outputs": [],
   "source": []
  },
  {
   "cell_type": "code",
   "execution_count": 293,
   "id": "elder-testimony",
   "metadata": {},
   "outputs": [
    {
     "name": "stdout",
     "output_type": "stream",
     "text": [
      "r_term = 4889494.926 +- 237581632321.809\n",
      "c_term =      0.314 +-      0.019\n"
     ]
    }
   ],
   "source": [
    "def myfunc(X, a, b):\n",
    "    x1, x2 = X\n",
    "    return (a*x1 + a*b*x2 + 20) / (a*b + 1)\n",
    "\n",
    "x1 = list(df['Dissipated Heat [W]'])\n",
    "x2 = list(df['Temperature [C]'])\n",
    "y = list(df_ground_dropped['Temperature [C]'][:-1])\n",
    "\n",
    "p0 = 0.37, 1700.\n",
    "popt, pcov = curve_fit(myfunc, (x1,x2), y, p0)\n",
    "perr = np.sqrt(np.diag(pcov))\n",
    "print(\"r_term = {0:10.3f} +- {1:10.3f}\".format(popt[0], perr[0]))\n",
    "print(\"c_term = {0:10.3f} +- {1:10.3f}\".format(popt[1], perr[1]))"
   ]
  },
  {
   "cell_type": "code",
   "execution_count": null,
   "id": "joint-holocaust",
   "metadata": {},
   "outputs": [],
   "source": [
    "\n",
    "popt, pcov = curve_fit(my_func, [x_, t_], y, p0, y_err, absolute_sigma=True)\n",
    "perr = np.sqrt(np.diag(pcov))\n",
    "print(\"r_term = {0:10.3f} +- {1:10.3f}\".format(popt[0], perr[0]))\n",
    "print(\"c_term = {0:10.3f} +- {1:10.3f}\".format(popt[1], perr[1]))"
   ]
  }
 ],
 "metadata": {
  "kernelspec": {
   "display_name": "Python 3 (ipykernel)",
   "language": "python",
   "name": "python3"
  },
  "language_info": {
   "codemirror_mode": {
    "name": "ipython",
    "version": 3
   },
   "file_extension": ".py",
   "mimetype": "text/x-python",
   "name": "python",
   "nbconvert_exporter": "python",
   "pygments_lexer": "ipython3",
   "version": "3.8.10"
  }
 },
 "nbformat": 4,
 "nbformat_minor": 5
}
