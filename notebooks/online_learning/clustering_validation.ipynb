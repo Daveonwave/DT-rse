{
 "cells": [
  {
   "cell_type": "code",
   "execution_count": 21,
   "id": "initial_id",
   "metadata": {
    "collapsed": true,
    "ExecuteTime": {
     "end_time": "2024-06-15T14:49:44.152907500Z",
     "start_time": "2024-06-15T14:49:44.077835200Z"
    }
   },
   "outputs": [],
   "source": [
    "import numpy as np\n",
    "import pandas as pd\n",
    "from sklearn.datasets import make_blobs\n",
    "from sklearn.cluster import KMeans\n",
    "from sklearn.metrics import silhouette_score, calinski_harabasz_score\n",
    "from scipy.spatial.distance import pdist, squareform\n",
    "import matplotlib.pyplot as plt\n",
    "from mpl_toolkits.mplot3d import Axes3D"
   ]
  },
  {
   "cell_type": "code",
   "execution_count": 9,
   "outputs": [],
   "source": [
    "def dunn_index(X, labels):\n",
    "    distances = squareform(pdist(X))\n",
    "    unique_cluster_labels = np.unique(labels)\n",
    "    num_clusters = len(unique_cluster_labels)\n",
    "\n",
    "    inter_cluster_distances = []\n",
    "    for i in range(num_clusters):\n",
    "        for j in range(i + 1, num_clusters):\n",
    "            cluster_i = np.where(labels == unique_cluster_labels[i])[0]\n",
    "            cluster_j = np.where(labels == unique_cluster_labels[j])[0]\n",
    "            distances_ij = distances[np.ix_(cluster_i, cluster_j)]\n",
    "            inter_cluster_distances.append(distances_ij.min())\n",
    "    min_inter_cluster_distance = min(inter_cluster_distances)\n",
    "\n",
    "    intra_cluster_distances = []\n",
    "    for k in range(num_clusters):\n",
    "        cluster_k = np.where(labels == unique_cluster_labels[k])[0]\n",
    "        if len(cluster_k) > 1:\n",
    "            distances_k = distances[np.ix_(cluster_k, cluster_k)]\n",
    "            intra_cluster_distances.append(distances_k.max())\n",
    "    max_intra_cluster_distance = max(intra_cluster_distances)\n",
    "\n",
    "    dunn_index_value = min_inter_cluster_distance / max_intra_cluster_distance\n",
    "    return dunn_index_value"
   ],
   "metadata": {
    "collapsed": false,
    "ExecuteTime": {
     "end_time": "2024-06-15T14:22:22.821163200Z",
     "start_time": "2024-06-15T14:22:22.764510400Z"
    }
   },
   "id": "ecfee8e283044f05"
  },
  {
   "cell_type": "code",
   "execution_count": 10,
   "outputs": [],
   "source": [
    "def evaluate_clustering(X, labels):\n",
    "    silhouette_avg = silhouette_score(X, labels)\n",
    "    calinski_harabasz = calinski_harabasz_score(X, labels)\n",
    "    dunn = dunn_index(X, labels)\n",
    "    \n",
    "    return {\n",
    "        'Silhouette Score': silhouette_avg,\n",
    "        'Calinski-Harabasz Index': calinski_harabasz,\n",
    "        'Dunn Index': dunn\n",
    "    }"
   ],
   "metadata": {
    "collapsed": false,
    "ExecuteTime": {
     "end_time": "2024-06-15T14:22:24.419862600Z",
     "start_time": "2024-06-15T14:22:24.402950300Z"
    }
   },
   "id": "d5a2c177425ebc7a"
  },
  {
   "cell_type": "code",
   "execution_count": 4,
   "outputs": [
    {
     "name": "stderr",
     "output_type": "stream",
     "text": [
      "/home/nicola_petkovic/miniconda3/envs/dt-rse/lib/python3.8/site-packages/sklearn/cluster/_kmeans.py:1416: FutureWarning: The default value of `n_init` will change from 10 to 'auto' in 1.4. Set the value of `n_init` explicitly to suppress the warning\n",
      "  super()._check_params_vs_input(X, default_n_init=10)\n"
     ]
    },
    {
     "name": "stdout",
     "output_type": "stream",
     "text": [
      "Silhouette Score: 0.6820\n",
      "Calinski-Harabasz Index: 1210.0899\n",
      "Dunn Index: 0.2023\n"
     ]
    }
   ],
   "source": [
    "# Generate synthetic data\n",
    "X, labels_true = make_blobs(n_samples=300, centers=4, cluster_std=0.60, random_state=0)\n",
    "# X: shape (300, 2)\n",
    "# labels_true: shape (300,)\n",
    "\n",
    "# Apply KMeans clustering\n",
    "kmeans = KMeans(n_clusters=4, random_state=0)\n",
    "labels_pred = kmeans.fit_predict(X)\n",
    "# labels_pred: shape (300,)\n",
    "\n",
    "# Evaluate the clustering\n",
    "metrics = evaluate_clustering(X, labels_pred)\n",
    "for metric, value in metrics.items():\n",
    "    print(f'{metric}: {value:.4f}')"
   ],
   "metadata": {
    "collapsed": false,
    "ExecuteTime": {
     "end_time": "2024-06-14T13:49:43.776118Z",
     "start_time": "2024-06-14T13:49:43.118582500Z"
    }
   },
   "id": "d24e7fe2356e7eee"
  },
  {
   "cell_type": "code",
   "execution_count": 5,
   "outputs": [
    {
     "data": {
      "text/plain": "(300, 2)"
     },
     "execution_count": 5,
     "metadata": {},
     "output_type": "execute_result"
    }
   ],
   "source": [
    "np.shape(X)"
   ],
   "metadata": {
    "collapsed": false,
    "ExecuteTime": {
     "end_time": "2024-06-14T13:50:20.554422400Z",
     "start_time": "2024-06-14T13:50:20.440079200Z"
    }
   },
   "id": "399ce3babfb5bb6a"
  },
  {
   "cell_type": "code",
   "execution_count": 6,
   "outputs": [
    {
     "data": {
      "text/plain": "(300,)"
     },
     "execution_count": 6,
     "metadata": {},
     "output_type": "execute_result"
    }
   ],
   "source": [
    "np.shape(labels_pred)"
   ],
   "metadata": {
    "collapsed": false,
    "ExecuteTime": {
     "end_time": "2024-06-14T13:50:32.641911800Z",
     "start_time": "2024-06-14T13:50:32.560573300Z"
    }
   },
   "id": "41556027cb1fb829"
  },
  {
   "cell_type": "markdown",
   "source": [
    "## CLUSTERING POST PROCESSING"
   ],
   "metadata": {
    "collapsed": false
   },
   "id": "a4d422ca083ce69e"
  },
  {
   "cell_type": "code",
   "execution_count": 17,
   "outputs": [],
   "source": [
    "df_2 = pd.read_csv(\"run1/2.csv\")\n",
    "outliers_2 = pd.read_csv(\"run1/outliers/2.csv\")"
   ],
   "metadata": {
    "collapsed": false,
    "ExecuteTime": {
     "end_time": "2024-06-15T14:41:30.192632900Z",
     "start_time": "2024-06-15T14:41:30.093614300Z"
    }
   },
   "id": "3fe68b084d62a2d6"
  },
  {
   "cell_type": "code",
   "execution_count": 14,
   "outputs": [
    {
     "data": {
      "text/plain": "                                                2\n0  [9.95109321e-03 1.06348378e-02 1.36709653e+04]\n1  [1.03788855e-02 1.27749121e-02 1.27341877e+04]\n2  [1.04487033e-02 1.49994626e-02 1.58932338e+04]\n3  [1.06573846e-02 1.31959059e-02 1.51513243e+04]\n4  [1.09326054e-02 1.43242784e-02 1.57785814e+04]",
      "text/html": "<div>\n<style scoped>\n    .dataframe tbody tr th:only-of-type {\n        vertical-align: middle;\n    }\n\n    .dataframe tbody tr th {\n        vertical-align: top;\n    }\n\n    .dataframe thead th {\n        text-align: right;\n    }\n</style>\n<table border=\"1\" class=\"dataframe\">\n  <thead>\n    <tr style=\"text-align: right;\">\n      <th></th>\n      <th>2</th>\n    </tr>\n  </thead>\n  <tbody>\n    <tr>\n      <th>0</th>\n      <td>[9.95109321e-03 1.06348378e-02 1.36709653e+04]</td>\n    </tr>\n    <tr>\n      <th>1</th>\n      <td>[1.03788855e-02 1.27749121e-02 1.27341877e+04]</td>\n    </tr>\n    <tr>\n      <th>2</th>\n      <td>[1.04487033e-02 1.49994626e-02 1.58932338e+04]</td>\n    </tr>\n    <tr>\n      <th>3</th>\n      <td>[1.06573846e-02 1.31959059e-02 1.51513243e+04]</td>\n    </tr>\n    <tr>\n      <th>4</th>\n      <td>[1.09326054e-02 1.43242784e-02 1.57785814e+04]</td>\n    </tr>\n  </tbody>\n</table>\n</div>"
     },
     "execution_count": 14,
     "metadata": {},
     "output_type": "execute_result"
    }
   ],
   "source": [
    "df_2.head()"
   ],
   "metadata": {
    "collapsed": false,
    "ExecuteTime": {
     "end_time": "2024-06-15T14:25:31.540913100Z",
     "start_time": "2024-06-15T14:25:31.489688600Z"
    }
   },
   "id": "a7a83a2eb8c2110"
  },
  {
   "cell_type": "code",
   "execution_count": 18,
   "outputs": [
    {
     "data": {
      "text/plain": "                                                   2\n0  {'r0': 0.3989002260753505, 'rc': 0.001, 'c': 1...\n1  {'r0': 0.9021197851236678, 'rc': 0.001, 'c': 1...\n2              {'r0': 0.001, 'rc': 0.001, 'c': 10.0}\n3              {'r0': 0.001, 'rc': 0.001, 'c': 10.0}\n4              {'r0': 0.001, 'rc': 0.001, 'c': 10.0}",
      "text/html": "<div>\n<style scoped>\n    .dataframe tbody tr th:only-of-type {\n        vertical-align: middle;\n    }\n\n    .dataframe tbody tr th {\n        vertical-align: top;\n    }\n\n    .dataframe thead th {\n        text-align: right;\n    }\n</style>\n<table border=\"1\" class=\"dataframe\">\n  <thead>\n    <tr style=\"text-align: right;\">\n      <th></th>\n      <th>2</th>\n    </tr>\n  </thead>\n  <tbody>\n    <tr>\n      <th>0</th>\n      <td>{'r0': 0.3989002260753505, 'rc': 0.001, 'c': 1...</td>\n    </tr>\n    <tr>\n      <th>1</th>\n      <td>{'r0': 0.9021197851236678, 'rc': 0.001, 'c': 1...</td>\n    </tr>\n    <tr>\n      <th>2</th>\n      <td>{'r0': 0.001, 'rc': 0.001, 'c': 10.0}</td>\n    </tr>\n    <tr>\n      <th>3</th>\n      <td>{'r0': 0.001, 'rc': 0.001, 'c': 10.0}</td>\n    </tr>\n    <tr>\n      <th>4</th>\n      <td>{'r0': 0.001, 'rc': 0.001, 'c': 10.0}</td>\n    </tr>\n  </tbody>\n</table>\n</div>"
     },
     "execution_count": 18,
     "metadata": {},
     "output_type": "execute_result"
    }
   ],
   "source": [
    "outliers_2.head()"
   ],
   "metadata": {
    "collapsed": false,
    "ExecuteTime": {
     "end_time": "2024-06-15T14:42:03.962723500Z",
     "start_time": "2024-06-15T14:42:03.852179400Z"
    }
   },
   "id": "d4415e4b0156cae1"
  },
  {
   "cell_type": "code",
   "execution_count": null,
   "outputs": [],
   "source": [
    "df_2 "
   ],
   "metadata": {
    "collapsed": false
   },
   "id": "f726de4e8991ee9a"
  }
 ],
 "metadata": {
  "kernelspec": {
   "display_name": "Python 3",
   "language": "python",
   "name": "python3"
  },
  "language_info": {
   "codemirror_mode": {
    "name": "ipython",
    "version": 2
   },
   "file_extension": ".py",
   "mimetype": "text/x-python",
   "name": "python",
   "nbconvert_exporter": "python",
   "pygments_lexer": "ipython2",
   "version": "2.7.6"
  }
 },
 "nbformat": 4,
 "nbformat_minor": 5
}
