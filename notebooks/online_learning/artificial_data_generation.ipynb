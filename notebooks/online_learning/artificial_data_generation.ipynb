{
 "cells": [
  {
   "cell_type": "code",
   "execution_count": 2,
   "id": "initial_id",
   "metadata": {
    "collapsed": true,
    "ExecuteTime": {
     "end_time": "2024-06-21T09:27:10.138039300Z",
     "start_time": "2024-06-21T09:27:09.817637500Z"
    }
   },
   "outputs": [],
   "source": [
    "import notebooks.online_learning.utils.data_generation_utils as gnt\n",
    "import pandas as pd"
   ]
  },
  {
   "cell_type": "code",
   "execution_count": 4,
   "outputs": [],
   "source": [
    "n = 100  \n",
    "bounds = {\n",
    "    'r0': (0.01, 1),  \n",
    "    'rc': (0.01, 1),   \n",
    "    'c': (1, 10000)     \n",
    "}\n",
    "\n",
    "samples = gnt.generate_multivariate_3D_gaussian_samples(n, bounds)\n",
    "df = pd.DataFrame(samples, columns=['r0','rc','c'])\n",
    "df.to_csv('data/artificial/nominal_cluster.csv',index=False)"
   ],
   "metadata": {
    "collapsed": false,
    "ExecuteTime": {
     "end_time": "2024-06-21T09:29:22.914718800Z",
     "start_time": "2024-06-21T09:29:22.894209600Z"
    }
   },
   "id": "ebc32844b63a2258"
  },
  {
   "cell_type": "code",
   "execution_count": 5,
   "outputs": [],
   "source": [
    "n_outliers = 200\n",
    "outliers = gnt.generate_outliers(samples, n_outliers)\n",
    "df_outliers = pd.DataFrame(outliers, columns=['r0','rc','c'])\n",
    "df_outliers.to_csv('data/artificial/outliers.csv',index=False)"
   ],
   "metadata": {
    "collapsed": false,
    "ExecuteTime": {
     "end_time": "2024-06-21T09:31:38.700584700Z",
     "start_time": "2024-06-21T09:31:37.995392200Z"
    }
   },
   "id": "65c3048921547f6a"
  },
  {
   "cell_type": "code",
   "execution_count": null,
   "outputs": [],
   "source": [],
   "metadata": {
    "collapsed": false
   },
   "id": "8dd8975cd9cd36c6"
  }
 ],
 "metadata": {
  "kernelspec": {
   "display_name": "Python 3",
   "language": "python",
   "name": "python3"
  },
  "language_info": {
   "codemirror_mode": {
    "name": "ipython",
    "version": 2
   },
   "file_extension": ".py",
   "mimetype": "text/x-python",
   "name": "python",
   "nbconvert_exporter": "python",
   "pygments_lexer": "ipython2",
   "version": "2.7.6"
  }
 },
 "nbformat": 4,
 "nbformat_minor": 5
}
