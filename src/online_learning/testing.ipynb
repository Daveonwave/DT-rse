{
 "cells": [
  {
   "cell_type": "code",
   "execution_count": 6,
   "id": "initial_id",
   "metadata": {
    "collapsed": true,
    "ExecuteTime": {
     "end_time": "2024-06-05T22:07:46.909416Z",
     "start_time": "2024-06-05T22:07:46.823252700Z"
    }
   },
   "outputs": [
    {
     "name": "stdout",
     "output_type": "stream",
     "text": [
      "159\n",
      "159\n"
     ]
    }
   ],
   "source": [
    "import numpy as np\n",
    "\n",
    "from src.online_learning.adaptation import induced_cdf\n",
    "\n",
    "cluster_parameters = [\n",
    "    np.array([1.00000000e-03, 3.72732184e-01, 1.00000000e+05]), \n",
    "    np.array([3.56719718e-01, 4.97565397e-01, 7.07462070e+02]), \n",
    "    np.array([0.45009808, 4.65156923, 137.83017859]), \n",
    "    np.array([1e-03, 1e-03, 1e+01]), \n",
    "    np.array([1e-03, 1e-03, 1e+01]), \n",
    "    np.array([1e-03, 1e-03, 1e+01]), \n",
    "    np.array([1e-03, 1e-03, 1e+01]), \n",
    "    np.array([1e-03, 1e-03, 1e+01]), \n",
    "    np.array([1e-03, 1e+01, 1e+05]), \n",
    "    np.array([1e-03, 1e-03, 1e+05]), \n",
    "    np.array([1e-03, 1e-03, 1e+01]), \n",
    "    np.array([1e-03, 1e-03, 1e+01]), \n",
    "    np.array([1e-03, 1e-03, 1e+01]), \n",
    "    np.array([1e-03, 1e-03, 1e+01]), \n",
    "    np.array([1e-03, 1e-03, 1e+01]), \n",
    "    np.array([1e-03, 1e-03, 1e+01]), \n",
    "    np.array([1e-03, 1e-03, 1e+01]), \n",
    "    np.array([1e-03, 1e-03, 1e+01]), \n",
    "    np.array([1e-03, 1e-03, 1e+01]), \n",
    "    np.array([1e-03, 1e-03, 1e+01]), \n",
    "    np.array([1e-03, 1e-03, 1e+01]), \n",
    "    np.array([1e-03, 1e-03, 1e+01]), \n",
    "    np.array([1e-03, 1e-03, 1e+01]), \n",
    "    np.array([1e-03, 1e-03, 1e+01]), \n",
    "    np.array([1e-03, 1e+01, 1e+05]), \n",
    "    np.array([1e-03, 1e-03, 1e+01]), \n",
    "    np.array([1e-03, 1e-03, 1e+01]), \n",
    "    np.array([1e-03, 1e-03, 1e+01]), \n",
    "    np.array([1e-03, 1e-03, 1e+05]), \n",
    "    np.array([1e-03, 1e-03, 1e+01]), \n",
    "    np.array([1e-03, 1e-03, 1e+01]), \n",
    "    np.array([1e-03, 1e-03, 1e+01]), \n",
    "    np.array([1e-03, 1e-03, 1e+01]), \n",
    "    np.array([1e-03, 1e-03, 1e+01]), \n",
    "    np.array([1e-03, 1e-03, 1e+01]), \n",
    "    np.array([1e-03, 1e-03, 1e+01]), \n",
    "    np.array([1e-03, 1e-03, 1e+01]), \n",
    "    np.array([1e-03, 1e-03, 1e+01]), \n",
    "    np.array([1e-03, 1e-03, 1e+01]), \n",
    "    np.array([1e-03, 1e-03, 1e+01]), \n",
    "    np.array([1e-03, 1e-03, 1e+01]), \n",
    "    np.array([1e-03, 1e-03, 1e+01]), \n",
    "    np.array([1e-03, 1e-03, 1e+01]), \n",
    "    np.array([1e-03, 1e-03, 1e+01]), \n",
    "    np.array([1e-03, 1e-03, 1e+01]), \n",
    "    np.array([1e-03, 1e-03, 1e+01]), \n",
    "    np.array([1e-03, 1e+01, 2.97397335e+03]), \n",
    "    np.array([1e-03, 1e-03, 1e+01]), \n",
    "    np.array([1e-03, 1e-03, 1e+01]), \n",
    "    np.array([1e-03, 1e-03, 1e+01]), \n",
    "    np.array([1e-03, 1e-03, 1e+01]), \n",
    "    np.array([1e-03, 1e-03, 1e+01]), \n",
    "    np.array([1e-03, 1e-03, 1e+01])\n",
    "]\n",
    "\n",
    "# Calling the function\n",
    "sorted_data, cdf_values = induced_cdf(cluster_parameters)\n",
    "\n",
    "print(len(sorted_data))\n",
    "print(len(cdf_values))"
   ]
  },
  {
   "cell_type": "code",
   "execution_count": null,
   "outputs": [],
   "source": [],
   "metadata": {
    "collapsed": false
   },
   "id": "5635fe041900d8b0"
  }
 ],
 "metadata": {
  "kernelspec": {
   "display_name": "Python 3",
   "language": "python",
   "name": "python3"
  },
  "language_info": {
   "codemirror_mode": {
    "name": "ipython",
    "version": 2
   },
   "file_extension": ".py",
   "mimetype": "text/x-python",
   "name": "python",
   "nbconvert_exporter": "python",
   "pygments_lexer": "ipython2",
   "version": "2.7.6"
  }
 },
 "nbformat": 4,
 "nbformat_minor": 5
}
