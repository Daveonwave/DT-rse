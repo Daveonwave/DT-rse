{
 "cells": [
  {
   "cell_type": "code",
   "execution_count": 8,
   "outputs": [],
   "source": [
    "import pandas as pd\n",
    "import numpy as np\n",
    "from scipy import interpolate\n",
    "from src.online_learning.cluster import Cluster"
   ],
   "metadata": {
    "collapsed": false,
    "ExecuteTime": {
     "end_time": "2024-06-07T15:50:30.434698300Z",
     "start_time": "2024-06-07T15:50:30.258486300Z"
    }
   },
   "id": "53eec781bc20976e"
  },
  {
   "cell_type": "code",
   "execution_count": 9,
   "outputs": [
    {
     "name": "stdout",
     "output_type": "stream",
     "text": [
      "dict_keys(['T = 25', 'T = 10', 'T = 40'])\n"
     ]
    }
   ],
   "source": [
    "# Load the Excel file with all sheets\n",
    "file_path1 = 'initialization/DT_CU1_parameters_1_exp.xlsx'  \n",
    "all_sheets = pd.read_excel(file_path1, sheet_name=None)\n",
    "\n",
    "# Check the sheet names\n",
    "print(all_sheets.keys())"
   ],
   "metadata": {
    "collapsed": false,
    "ExecuteTime": {
     "end_time": "2024-06-07T15:50:31.547065700Z",
     "start_time": "2024-06-07T15:50:31.330523100Z"
    }
   },
   "id": "1a47b460ffa9cf11"
  },
  {
   "cell_type": "code",
   "execution_count": 10,
   "outputs": [
    {
     "name": "stdout",
     "output_type": "stream",
     "text": [
      "Sheet name: T = 25\n",
      "Sheet name: T = 10\n",
      "Sheet name: T = 40\n"
     ]
    }
   ],
   "source": [
    "df_list = []\n",
    "for sheet_name, df in all_sheets.items():\n",
    "    print(f\"Sheet name: {sheet_name}\")\n",
    "    df_list.append(df)"
   ],
   "metadata": {
    "collapsed": false,
    "ExecuteTime": {
     "end_time": "2024-06-07T15:50:32.338152800Z",
     "start_time": "2024-06-07T15:50:32.315103400Z"
    }
   },
   "id": "1d6cf7076dbeea87"
  },
  {
   "cell_type": "code",
   "execution_count": 11,
   "outputs": [],
   "source": [
    "df_T_25 = df_list[0]\n",
    "df_T_10 = df_list[1]\n",
    "df_T_40 = df_list[2]"
   ],
   "metadata": {
    "collapsed": false,
    "ExecuteTime": {
     "end_time": "2024-06-07T15:50:33.233586400Z",
     "start_time": "2024-06-07T15:50:33.222427200Z"
    }
   },
   "id": "45ccb22e4f34eeb"
  },
  {
   "cell_type": "code",
   "execution_count": 14,
   "outputs": [],
   "source": [
    "columns_to_drop = ['filename', 'data', 'start interval', 'end interval',\n",
    "                   'tau_guess','num value extrap',\n",
    "                   'R squared', 'OCV', 'tau_opt']"
   ],
   "metadata": {
    "collapsed": false,
    "ExecuteTime": {
     "end_time": "2024-06-07T15:50:36.700018100Z",
     "start_time": "2024-06-07T15:50:36.667483900Z"
    }
   },
   "id": "6f327b702decc393"
  },
  {
   "cell_type": "code",
   "execution_count": 15,
   "outputs": [],
   "source": [
    "df_T_25 = df_T_25.drop(columns_to_drop, axis=1)\n",
    "df_T_10 = df_T_10.drop(columns_to_drop, axis=1)\n",
    "df_T_40 = df_T_40.drop(columns_to_drop, axis=1)"
   ],
   "metadata": {
    "collapsed": false,
    "ExecuteTime": {
     "end_time": "2024-06-07T15:50:39.771737300Z",
     "start_time": "2024-06-07T15:50:39.740698400Z"
    }
   },
   "id": "4c8bb2940afb41a5"
  },
  {
   "cell_type": "code",
   "execution_count": 16,
   "outputs": [],
   "source": [
    "df_T_25 = df_T_25.dropna()\n",
    "df_T_10 = df_T_10.dropna()\n",
    "df_T_40 = df_T_40.dropna()"
   ],
   "metadata": {
    "collapsed": false,
    "ExecuteTime": {
     "end_time": "2024-06-07T15:50:40.962856800Z",
     "start_time": "2024-06-07T15:50:40.938256300Z"
    }
   },
   "id": "c20a01cf4e166aa2"
  },
  {
   "cell_type": "code",
   "execution_count": 17,
   "outputs": [],
   "source": [
    "df_T_25['Temp'] = 25\n",
    "df_T_10['Temp'] = 10\n",
    "df_T_40['Temp'] = 40"
   ],
   "metadata": {
    "collapsed": false,
    "ExecuteTime": {
     "end_time": "2024-06-07T15:50:41.823448600Z",
     "start_time": "2024-06-07T15:50:41.797101400Z"
    }
   },
   "id": "cd842fd326ed5ce9"
  },
  {
   "cell_type": "code",
   "execution_count": 18,
   "outputs": [
    {
     "data": {
      "text/plain": "              Soc        R_0        R_1           C_1  Temp\ncount   55.000000  55.000000  55.000000     55.000000  55.0\nmean    50.000000   0.011520   0.015499  11965.948149  25.0\nstd     31.914237   0.002412   0.006471   3143.296922   0.0\nmin      0.000000   0.009210   0.009238   4919.388300  25.0\n25%     20.000000   0.010363   0.011560  10500.078051  25.0\n50%     50.000000   0.010981   0.013876  11751.825878  25.0\n75%     80.000000   0.011748   0.016568  13995.291319  25.0\nmax    100.000000   0.022375   0.041071  19489.447086  25.0",
      "text/html": "<div>\n<style scoped>\n    .dataframe tbody tr th:only-of-type {\n        vertical-align: middle;\n    }\n\n    .dataframe tbody tr th {\n        vertical-align: top;\n    }\n\n    .dataframe thead th {\n        text-align: right;\n    }\n</style>\n<table border=\"1\" class=\"dataframe\">\n  <thead>\n    <tr style=\"text-align: right;\">\n      <th></th>\n      <th>Soc</th>\n      <th>R_0</th>\n      <th>R_1</th>\n      <th>C_1</th>\n      <th>Temp</th>\n    </tr>\n  </thead>\n  <tbody>\n    <tr>\n      <th>count</th>\n      <td>55.000000</td>\n      <td>55.000000</td>\n      <td>55.000000</td>\n      <td>55.000000</td>\n      <td>55.0</td>\n    </tr>\n    <tr>\n      <th>mean</th>\n      <td>50.000000</td>\n      <td>0.011520</td>\n      <td>0.015499</td>\n      <td>11965.948149</td>\n      <td>25.0</td>\n    </tr>\n    <tr>\n      <th>std</th>\n      <td>31.914237</td>\n      <td>0.002412</td>\n      <td>0.006471</td>\n      <td>3143.296922</td>\n      <td>0.0</td>\n    </tr>\n    <tr>\n      <th>min</th>\n      <td>0.000000</td>\n      <td>0.009210</td>\n      <td>0.009238</td>\n      <td>4919.388300</td>\n      <td>25.0</td>\n    </tr>\n    <tr>\n      <th>25%</th>\n      <td>20.000000</td>\n      <td>0.010363</td>\n      <td>0.011560</td>\n      <td>10500.078051</td>\n      <td>25.0</td>\n    </tr>\n    <tr>\n      <th>50%</th>\n      <td>50.000000</td>\n      <td>0.010981</td>\n      <td>0.013876</td>\n      <td>11751.825878</td>\n      <td>25.0</td>\n    </tr>\n    <tr>\n      <th>75%</th>\n      <td>80.000000</td>\n      <td>0.011748</td>\n      <td>0.016568</td>\n      <td>13995.291319</td>\n      <td>25.0</td>\n    </tr>\n    <tr>\n      <th>max</th>\n      <td>100.000000</td>\n      <td>0.022375</td>\n      <td>0.041071</td>\n      <td>19489.447086</td>\n      <td>25.0</td>\n    </tr>\n  </tbody>\n</table>\n</div>"
     },
     "execution_count": 18,
     "metadata": {},
     "output_type": "execute_result"
    }
   ],
   "source": [
    "df_T_25.describe()"
   ],
   "metadata": {
    "collapsed": false,
    "ExecuteTime": {
     "end_time": "2024-06-07T15:50:42.692487600Z",
     "start_time": "2024-06-07T15:50:42.651637300Z"
    }
   },
   "id": "bf1008e7c3cf64e4"
  },
  {
   "cell_type": "code",
   "execution_count": 19,
   "outputs": [
    {
     "data": {
      "text/plain": "              Soc        R_0        R_1           C_1  Temp\ncount   55.000000  55.000000  55.000000     55.000000  55.0\nmean    50.000000   0.011520   0.015499  11965.948149  25.0\nstd     31.914237   0.002412   0.006471   3143.296922   0.0\nmin      0.000000   0.009210   0.009238   4919.388300  25.0\n25%     20.000000   0.010363   0.011560  10500.078051  25.0\n50%     50.000000   0.010981   0.013876  11751.825878  25.0\n75%     80.000000   0.011748   0.016568  13995.291319  25.0\nmax    100.000000   0.022375   0.041071  19489.447086  25.0",
      "text/html": "<div>\n<style scoped>\n    .dataframe tbody tr th:only-of-type {\n        vertical-align: middle;\n    }\n\n    .dataframe tbody tr th {\n        vertical-align: top;\n    }\n\n    .dataframe thead th {\n        text-align: right;\n    }\n</style>\n<table border=\"1\" class=\"dataframe\">\n  <thead>\n    <tr style=\"text-align: right;\">\n      <th></th>\n      <th>Soc</th>\n      <th>R_0</th>\n      <th>R_1</th>\n      <th>C_1</th>\n      <th>Temp</th>\n    </tr>\n  </thead>\n  <tbody>\n    <tr>\n      <th>count</th>\n      <td>55.000000</td>\n      <td>55.000000</td>\n      <td>55.000000</td>\n      <td>55.000000</td>\n      <td>55.0</td>\n    </tr>\n    <tr>\n      <th>mean</th>\n      <td>50.000000</td>\n      <td>0.011520</td>\n      <td>0.015499</td>\n      <td>11965.948149</td>\n      <td>25.0</td>\n    </tr>\n    <tr>\n      <th>std</th>\n      <td>31.914237</td>\n      <td>0.002412</td>\n      <td>0.006471</td>\n      <td>3143.296922</td>\n      <td>0.0</td>\n    </tr>\n    <tr>\n      <th>min</th>\n      <td>0.000000</td>\n      <td>0.009210</td>\n      <td>0.009238</td>\n      <td>4919.388300</td>\n      <td>25.0</td>\n    </tr>\n    <tr>\n      <th>25%</th>\n      <td>20.000000</td>\n      <td>0.010363</td>\n      <td>0.011560</td>\n      <td>10500.078051</td>\n      <td>25.0</td>\n    </tr>\n    <tr>\n      <th>50%</th>\n      <td>50.000000</td>\n      <td>0.010981</td>\n      <td>0.013876</td>\n      <td>11751.825878</td>\n      <td>25.0</td>\n    </tr>\n    <tr>\n      <th>75%</th>\n      <td>80.000000</td>\n      <td>0.011748</td>\n      <td>0.016568</td>\n      <td>13995.291319</td>\n      <td>25.0</td>\n    </tr>\n    <tr>\n      <th>max</th>\n      <td>100.000000</td>\n      <td>0.022375</td>\n      <td>0.041071</td>\n      <td>19489.447086</td>\n      <td>25.0</td>\n    </tr>\n  </tbody>\n</table>\n</div>"
     },
     "execution_count": 19,
     "metadata": {},
     "output_type": "execute_result"
    }
   ],
   "source": [
    "df_T_25.describe()"
   ],
   "metadata": {
    "collapsed": false,
    "ExecuteTime": {
     "end_time": "2024-06-07T15:50:43.721371500Z",
     "start_time": "2024-06-07T15:50:43.679338Z"
    }
   },
   "id": "9d2a497e7d42bd23"
  },
  {
   "cell_type": "code",
   "execution_count": 24,
   "outputs": [
    {
     "name": "stdout",
     "output_type": "stream",
     "text": [
      "param  temp  soc           C_1       R_0       R_1\n",
      "0        15    0   9362.838793  0.016177  0.016432\n",
      "1        15   10   9691.182929  0.016623  0.019499\n",
      "2        15   20  12052.351794  0.017420  0.023310\n",
      "3        15   30   9306.629723  0.018662  0.024055\n",
      "4        15   40   5139.236488  0.024588  0.035098\n",
      "5        15   50   2142.033750  0.025116  0.108859\n",
      "6        20    0  11140.809709  0.013595  0.014089\n",
      "7        20   10  11096.331372  0.014090  0.016753\n",
      "8        20   20  13364.479790  0.014450  0.019963\n",
      "9        20   30  11500.390560  0.015292  0.019551\n",
      "10       20   40   8387.385488  0.018321  0.025878\n",
      "11       20   50   4165.597126  0.020244  0.070274\n"
     ]
    },
    {
     "name": "stderr",
     "output_type": "stream",
     "text": [
      "/tmp/ipykernel_7047/4264066699.py:36: DeprecationWarning: `interp2d` is deprecated!\n",
      "`interp2d` is deprecated in SciPy 1.10 and will be removed in SciPy 1.12.0.\n",
      "\n",
      "For legacy code, nearly bug-for-bug compatible replacements are\n",
      "`RectBivariateSpline` on regular grids, and `bisplrep`/`bisplev` for\n",
      "scattered 2D data.\n",
      "\n",
      "In new code, for regular grids use `RegularGridInterpolator` instead.\n",
      "For scattered data, prefer `LinearNDInterpolator` or\n",
      "`CloughTocher2DInterpolator`.\n",
      "\n",
      "For more details see\n",
      "`https://gist.github.com/ev-br/8544371b40f414b7eaf3fe6217209bff`\n",
      "\n",
      "  f = interpolate.interp2d(temp, soc, z, kind='linear')\n",
      "/tmp/ipykernel_7047/4264066699.py:37: DeprecationWarning:         `interp2d` is deprecated!\n",
      "        `interp2d` is deprecated in SciPy 1.10 and will be removed in SciPy 1.12.0.\n",
      "\n",
      "        For legacy code, nearly bug-for-bug compatible replacements are\n",
      "        `RectBivariateSpline` on regular grids, and `bisplrep`/`bisplev` for\n",
      "        scattered 2D data.\n",
      "\n",
      "        In new code, for regular grids use `RegularGridInterpolator` instead.\n",
      "        For scattered data, prefer `LinearNDInterpolator` or\n",
      "        `CloughTocher2DInterpolator`.\n",
      "\n",
      "        For more details see\n",
      "        `https://gist.github.com/ev-br/8544371b40f414b7eaf3fe6217209bff`\n",
      "\n",
      "  z_new = f(temp_new, soc)\n"
     ]
    }
   ],
   "source": [
    "df_T_10_soc_one = df_T_10[( df_T_10['Soc'] >= 0) & (df_T_10['Soc'] <= 50) ]\n",
    "df_T_25_soc_one = df_T_25[ ( df_T_25['Soc'] >= 0) & (df_T_25['Soc'] <= 50) ]\n",
    "df_T_40_soc_one = df_T_40[ ( df_T_40['Soc'] >= 0) & (df_T_40['Soc'] <= 50) ]\n",
    "\n",
    "chunk_size = 6\n",
    "temp = np.array([10, 25])\n",
    "soc = np.array([0, 10, 20, 30, 40, 50])\n",
    "parameters = ['R_0', 'R_1', 'C_1']\n",
    "temp_new = [15, 20]\n",
    "\n",
    "# List to store results for each parameter\n",
    "interpolated_results = []\n",
    "\n",
    "for start in range(0, len(df_T_10_soc_one), chunk_size):\n",
    "    chunk_10 = df_T_10_soc_one.iloc[start:start + chunk_size]\n",
    "    chunk_25 = df_T_25_soc_one.iloc[start:start + chunk_size]\n",
    "    \n",
    "    for param in parameters:\n",
    "        # Extracting the parameter values for the chunks\n",
    "        values_10 = chunk_10[param].values\n",
    "        values_25 = chunk_25[param].values\n",
    "        \n",
    "        # Check the shape of values_10 and values_25 to make sure they match soc.size\n",
    "        if len(values_10) != len(soc) or len(values_25) != len(soc):\n",
    "            print(f\"Chunk size mismatch for parameter {param} at index {start}\")\n",
    "            continue\n",
    "        \n",
    "        # Creating the array for interpolation with the correct shape (n, m)\n",
    "        z = np.vstack((values_10, values_25)).T  # Transpose to get shape (n, m)\n",
    "        \n",
    "        # Performing the interpolation\n",
    "        f = interpolate.interp2d(temp, soc, z, kind='linear')\n",
    "        z_new = f(temp_new, soc)\n",
    "        \n",
    "        # Store the interpolated results\n",
    "        for i, temp_val in enumerate(temp_new):\n",
    "            for j, soc_val in enumerate(soc):\n",
    "                interpolated_results.append({\n",
    "                    'temp': temp_val,\n",
    "                    'soc': soc_val,\n",
    "                    'param': param,\n",
    "                    'value': z_new[j, i]\n",
    "                })\n",
    "\n",
    "# Convert the interpolated results to a DataFrame\n",
    "df_interpolated = pd.DataFrame(interpolated_results)\n",
    "\n",
    "# Pivot the DataFrame to get the desired structure\n",
    "df_interpolated_pivot = df_interpolated.pivot_table(index=['temp', 'soc'], columns='param', values='value').reset_index()\n",
    "\n",
    "print(df_interpolated_pivot)"
   ],
   "metadata": {
    "collapsed": false,
    "ExecuteTime": {
     "end_time": "2024-06-07T15:57:01.081195100Z",
     "start_time": "2024-06-07T15:57:01.032393100Z"
    }
   },
   "id": "199fb0ac5d5d4875"
  },
  {
   "cell_type": "code",
   "execution_count": 27,
   "outputs": [],
   "source": [
    "df_one = pd.concat([df_interpolated_pivot,df_T_10_soc_one,df_T_25_soc_one])"
   ],
   "metadata": {
    "collapsed": false,
    "ExecuteTime": {
     "end_time": "2024-06-07T17:39:55.211213800Z",
     "start_time": "2024-06-07T17:39:55.134839700Z"
    }
   },
   "id": "7efef07b3b31bccb"
  },
  {
   "cell_type": "code",
   "execution_count": 41,
   "outputs": [
    {
     "data": {
      "text/plain": "60"
     },
     "execution_count": 41,
     "metadata": {},
     "output_type": "execute_result"
    }
   ],
   "source": [
    "cluster_one = [np.array(row) for row in df_one.to_numpy()]\n",
    "len(cluster_one)"
   ],
   "metadata": {
    "collapsed": false,
    "ExecuteTime": {
     "end_time": "2024-06-07T21:52:07.246182400Z",
     "start_time": "2024-06-07T21:52:07.112707300Z"
    }
   },
   "id": "42099931dcd1e21c"
  },
  {
   "cell_type": "markdown",
   "source": [
    "## cell2"
   ],
   "metadata": {
    "collapsed": false
   },
   "id": "db428d57428d81cd"
  },
  {
   "cell_type": "code",
   "execution_count": 29,
   "outputs": [
    {
     "name": "stdout",
     "output_type": "stream",
     "text": [
      "param  temp  soc           C_1       R_0       R_1\n",
      "0        15    0   9655.887330  0.013612  0.014383\n",
      "1        15   10   8960.577385  0.014149  0.014264\n",
      "2        15   20   9455.065286  0.014868  0.018994\n",
      "3        15   30  14273.722858  0.015673  0.021401\n",
      "4        15   40   8889.953426  0.015858  0.017680\n",
      "5        15   50   7119.632085  0.017630  0.023079\n",
      "6        20    0  11287.333977  0.012312  0.013065\n",
      "7        20   10  10731.028600  0.012853  0.014136\n",
      "8        20   20  12065.836535  0.013174  0.017804\n",
      "9        20   30  13983.937127  0.013798  0.018224\n",
      "10       20   40  10262.743957  0.013956  0.017169\n",
      "11       20   50   6654.396293  0.016500  0.027384\n"
     ]
    },
    {
     "name": "stderr",
     "output_type": "stream",
     "text": [
      "/tmp/ipykernel_7047/2706429875.py:32: DeprecationWarning: `interp2d` is deprecated!\n",
      "`interp2d` is deprecated in SciPy 1.10 and will be removed in SciPy 1.12.0.\n",
      "\n",
      "For legacy code, nearly bug-for-bug compatible replacements are\n",
      "`RectBivariateSpline` on regular grids, and `bisplrep`/`bisplev` for\n",
      "scattered 2D data.\n",
      "\n",
      "In new code, for regular grids use `RegularGridInterpolator` instead.\n",
      "For scattered data, prefer `LinearNDInterpolator` or\n",
      "`CloughTocher2DInterpolator`.\n",
      "\n",
      "For more details see\n",
      "`https://gist.github.com/ev-br/8544371b40f414b7eaf3fe6217209bff`\n",
      "\n",
      "  f = interpolate.interp2d(temp, soc, z, kind='linear')\n",
      "/tmp/ipykernel_7047/2706429875.py:33: DeprecationWarning:         `interp2d` is deprecated!\n",
      "        `interp2d` is deprecated in SciPy 1.10 and will be removed in SciPy 1.12.0.\n",
      "\n",
      "        For legacy code, nearly bug-for-bug compatible replacements are\n",
      "        `RectBivariateSpline` on regular grids, and `bisplrep`/`bisplev` for\n",
      "        scattered 2D data.\n",
      "\n",
      "        In new code, for regular grids use `RegularGridInterpolator` instead.\n",
      "        For scattered data, prefer `LinearNDInterpolator` or\n",
      "        `CloughTocher2DInterpolator`.\n",
      "\n",
      "        For more details see\n",
      "        `https://gist.github.com/ev-br/8544371b40f414b7eaf3fe6217209bff`\n",
      "\n",
      "  z_new = f(temp_new, soc)\n"
     ]
    }
   ],
   "source": [
    "df_T_10_soc_two = df_T_10[( df_T_10['Soc'] >= 50) & (df_T_10['Soc'] <= 100) ]\n",
    "df_T_25_soc_two = df_T_25[ ( df_T_25['Soc'] >= 50) & (df_T_25['Soc'] <= 100) ]\n",
    "#df_T_40_soc_one = df_T_40[ ( df_T_40['Soc'] >= 0) & (df_T_40['Soc'] <= 50) ]\n",
    "\n",
    "chunk_size = 6\n",
    "temp = np.array([10, 25])\n",
    "soc = np.array([0, 10, 20, 30, 40, 50])\n",
    "parameters = ['R_0', 'R_1', 'C_1']\n",
    "temp_new = [15, 20]\n",
    "\n",
    "# List to store results for each parameter\n",
    "interpolated_results = []\n",
    "\n",
    "for start in range(0, len(df_T_10_soc_two), chunk_size):\n",
    "    chunk_10 = df_T_10_soc_two.iloc[start:start + chunk_size]\n",
    "    chunk_25 = df_T_25_soc_one.iloc[start:start + chunk_size]\n",
    "    \n",
    "    for param in parameters:\n",
    "        # Extracting the parameter values for the chunks\n",
    "        values_10 = chunk_10[param].values\n",
    "        values_25 = chunk_25[param].values\n",
    "        \n",
    "        # Check the shape of values_10 and values_25 to make sure they match soc.size\n",
    "        if len(values_10) != len(soc) or len(values_25) != len(soc):\n",
    "            print(f\"Chunk size mismatch for parameter {param} at index {start}\")\n",
    "            continue\n",
    "        \n",
    "        # Creating the array for interpolation with the correct shape (n, m)\n",
    "        z = np.vstack((values_10, values_25)).T  # Transpose to get shape (n, m)\n",
    "        \n",
    "        # Performing the interpolation\n",
    "        f = interpolate.interp2d(temp, soc, z, kind='linear')\n",
    "        z_new = f(temp_new, soc)\n",
    "        \n",
    "        # Store the interpolated results\n",
    "        for i, temp_val in enumerate(temp_new):\n",
    "            for j, soc_val in enumerate(soc):\n",
    "                interpolated_results.append({\n",
    "                    'temp': temp_val,\n",
    "                    'soc': soc_val,\n",
    "                    'param': param,\n",
    "                    'value': z_new[j, i]\n",
    "                })\n",
    "\n",
    "# Convert the interpolated results to a DataFrame\n",
    "df_interpolated_two = pd.DataFrame(interpolated_results)\n",
    "\n",
    "# Pivot the DataFrame to get the desired structure\n",
    "df_interpolated_pivot_two = df_interpolated_two.pivot_table(index=['temp', 'soc'], columns='param', values='value').reset_index()\n",
    "\n",
    "print(df_interpolated_pivot_two)"
   ],
   "metadata": {
    "collapsed": false,
    "ExecuteTime": {
     "start_time": "2024-06-07T17:45:55.361864Z"
    }
   },
   "id": "69bc21f5896ed19d"
  },
  {
   "cell_type": "code",
   "execution_count": 38,
   "outputs": [],
   "source": [
    "cluster_two = pd.concat([df_interpolated_two,df_T_10_soc_two,df_T_25_soc_two])"
   ],
   "metadata": {
    "collapsed": false,
    "ExecuteTime": {
     "end_time": "2024-06-07T17:58:06.260015Z",
     "start_time": "2024-06-07T17:58:06.229004500Z"
    }
   },
   "id": "5470b24f48ef240b"
  },
  {
   "cell_type": "code",
   "execution_count": 31,
   "outputs": [
    {
     "data": {
      "text/plain": "156"
     },
     "execution_count": 31,
     "metadata": {},
     "output_type": "execute_result"
    }
   ],
   "source": [
    "len(cluster_two)"
   ],
   "metadata": {
    "collapsed": false,
    "ExecuteTime": {
     "end_time": "2024-06-07T17:46:35.518890200Z",
     "start_time": "2024-06-07T17:46:35.424440400Z"
    }
   },
   "id": "b57d708bc175e342"
  },
  {
   "cell_type": "markdown",
   "source": [
    "## cell3"
   ],
   "metadata": {
    "collapsed": false
   },
   "id": "bee43f1ccad73016"
  },
  {
   "cell_type": "code",
   "execution_count": 47,
   "outputs": [
    {
     "name": "stdout",
     "output_type": "stream",
     "text": [
      "param  temp  soc           C_1       R_0       R_1\n",
      "0        30    0  13670.965302  0.009951  0.010635\n",
      "1        30   10  12734.187684  0.010379  0.012775\n",
      "2        30   20  15893.233768  0.010449  0.014999\n",
      "3        30   30  15151.324276  0.010657  0.013196\n",
      "4        30   40  15778.581428  0.010933  0.014324\n",
      "5        30   50  14611.322527  0.013400  0.026787\n",
      "6        35    0  14423.149979  0.008890  0.009523\n",
      "7        35   10  12966.895552  0.009201  0.011542\n",
      "8        35   20  17109.859752  0.009417  0.013384\n",
      "9        35   30  16608.497155  0.009392  0.011345\n",
      "10       35   40  19921.628368  0.009812  0.011990\n",
      "11       35   50  23033.484553  0.011429  0.021886\n"
     ]
    },
    {
     "name": "stderr",
     "output_type": "stream",
     "text": [
      "/tmp/ipykernel_7047/1940777348.py:32: DeprecationWarning: `interp2d` is deprecated!\n",
      "`interp2d` is deprecated in SciPy 1.10 and will be removed in SciPy 1.12.0.\n",
      "\n",
      "For legacy code, nearly bug-for-bug compatible replacements are\n",
      "`RectBivariateSpline` on regular grids, and `bisplrep`/`bisplev` for\n",
      "scattered 2D data.\n",
      "\n",
      "In new code, for regular grids use `RegularGridInterpolator` instead.\n",
      "For scattered data, prefer `LinearNDInterpolator` or\n",
      "`CloughTocher2DInterpolator`.\n",
      "\n",
      "For more details see\n",
      "`https://gist.github.com/ev-br/8544371b40f414b7eaf3fe6217209bff`\n",
      "\n",
      "  f = interpolate.interp2d(temp, soc, z, kind='linear')\n",
      "/tmp/ipykernel_7047/1940777348.py:33: DeprecationWarning:         `interp2d` is deprecated!\n",
      "        `interp2d` is deprecated in SciPy 1.10 and will be removed in SciPy 1.12.0.\n",
      "\n",
      "        For legacy code, nearly bug-for-bug compatible replacements are\n",
      "        `RectBivariateSpline` on regular grids, and `bisplrep`/`bisplev` for\n",
      "        scattered 2D data.\n",
      "\n",
      "        In new code, for regular grids use `RegularGridInterpolator` instead.\n",
      "        For scattered data, prefer `LinearNDInterpolator` or\n",
      "        `CloughTocher2DInterpolator`.\n",
      "\n",
      "        For more details see\n",
      "        `https://gist.github.com/ev-br/8544371b40f414b7eaf3fe6217209bff`\n",
      "\n",
      "  z_new = f(temp_new, soc)\n"
     ]
    }
   ],
   "source": [
    "#df_T_10_soc_one = df_T_10[( df_T_10['Soc'] >= 0) & (df_T_10['Soc'] <= 50) ]\n",
    "df_T_25_soc_three = df_T_25[ ( df_T_25['Soc'] >= 0) & (df_T_25['Soc'] <= 50) ]\n",
    "df_T_40_soc_three = df_T_40[ ( df_T_40['Soc'] >= 0) & (df_T_40['Soc'] <= 50) ]\n",
    "\n",
    "chunk_size = 6\n",
    "temp = np.array([25, 40])\n",
    "soc = np.array([0, 10, 20, 30, 40, 50])\n",
    "parameters = ['R_0', 'R_1', 'C_1']\n",
    "temp_new = [30, 35]\n",
    "\n",
    "# List to store results for each parameter\n",
    "interpolated_results = []\n",
    "\n",
    "for start in range(0, len(df_T_10_soc_one), chunk_size):\n",
    "    chunk_25 = df_T_25_soc_one.iloc[start:start + chunk_size]\n",
    "    chunk_40 = df_T_40_soc_one.iloc[start:start + chunk_size]\n",
    "    \n",
    "    for param in parameters:\n",
    "        # Extracting the parameter values for the chunks\n",
    "        values_25 = chunk_25[param].values\n",
    "        values_40 = chunk_40[param].values\n",
    "        \n",
    "        # Check the shape of values_10 and values_25 to make sure they match soc.size\n",
    "        if len(values_25) != len(soc) or len(values_40) != len(soc):\n",
    "            print(f\"Chunk size mismatch for parameter {param} at index {start}\")\n",
    "            continue\n",
    "        \n",
    "        # Creating the array for interpolation with the correct shape (n, m)\n",
    "        z = np.vstack((values_25, values_40)).T  # Transpose to get shape (n, m)\n",
    "        \n",
    "        # Performing the interpolation\n",
    "        f = interpolate.interp2d(temp, soc, z, kind='linear')\n",
    "        z_new = f(temp_new, soc)\n",
    "        \n",
    "        # Store the interpolated results\n",
    "        for i, temp_val in enumerate(temp_new):\n",
    "            for j, soc_val in enumerate(soc):\n",
    "                interpolated_results.append({\n",
    "                    'temp': temp_val,\n",
    "                    'soc': soc_val,\n",
    "                    'param': param,\n",
    "                    'value': z_new[j, i]\n",
    "                })\n",
    "\n",
    "# Convert the interpolated results to a DataFrame\n",
    "df_interpolated_three = pd.DataFrame(interpolated_results)\n",
    "\n",
    "# Pivot the DataFrame to get the desired structure\n",
    "df_interpolated_pivot_three = df_interpolated.pivot_table(index=['temp', 'soc'], columns='param', values='value').reset_index()\n",
    "\n",
    "print(df_interpolated_pivot_three)"
   ],
   "metadata": {
    "collapsed": false,
    "ExecuteTime": {
     "end_time": "2024-06-07T21:57:52.538368100Z",
     "start_time": "2024-06-07T21:57:52.465040Z"
    }
   },
   "id": "83e3ec10439202ba"
  },
  {
   "cell_type": "code",
   "execution_count": 48,
   "outputs": [],
   "source": [
    "cluster_three = pd.concat([df_interpolated_pivot_three, df_T_40_soc_three ])"
   ],
   "metadata": {
    "collapsed": false,
    "ExecuteTime": {
     "end_time": "2024-06-07T21:57:53.559896400Z",
     "start_time": "2024-06-07T21:57:53.493381700Z"
    }
   },
   "id": "788a729ae5f42c43"
  },
  {
   "cell_type": "code",
   "execution_count": 49,
   "outputs": [
    {
     "data": {
      "text/plain": "30"
     },
     "execution_count": 49,
     "metadata": {},
     "output_type": "execute_result"
    }
   ],
   "source": [
    "len(cluster_three)"
   ],
   "metadata": {
    "collapsed": false,
    "ExecuteTime": {
     "end_time": "2024-06-07T21:57:54.972940900Z",
     "start_time": "2024-06-07T21:57:54.850143200Z"
    }
   },
   "id": "8754ab0d63ab8934"
  },
  {
   "cell_type": "markdown",
   "source": [
    "## cell4"
   ],
   "metadata": {
    "collapsed": false
   },
   "id": "67351e5ecd047879"
  },
  {
   "cell_type": "code",
   "execution_count": 50,
   "outputs": [
    {
     "name": "stdout",
     "output_type": "stream",
     "text": [
      "param  temp  soc           C_1       R_0       R_1\n",
      "0        15    0   9655.887330  0.013612  0.014383\n",
      "1        15   10   8960.577385  0.014149  0.014264\n",
      "2        15   20   9455.065286  0.014868  0.018994\n",
      "3        15   30  14273.722858  0.015673  0.021401\n",
      "4        15   40   8889.953426  0.015858  0.017680\n",
      "5        15   50   7119.632085  0.017630  0.023079\n",
      "6        20    0  11287.333977  0.012312  0.013065\n",
      "7        20   10  10731.028600  0.012853  0.014136\n",
      "8        20   20  12065.836535  0.013174  0.017804\n",
      "9        20   30  13983.937127  0.013798  0.018224\n",
      "10       20   40  10262.743957  0.013956  0.017169\n",
      "11       20   50   6654.396293  0.016500  0.027384\n"
     ]
    },
    {
     "name": "stderr",
     "output_type": "stream",
     "text": [
      "/tmp/ipykernel_7047/3997654561.py:32: DeprecationWarning: `interp2d` is deprecated!\n",
      "`interp2d` is deprecated in SciPy 1.10 and will be removed in SciPy 1.12.0.\n",
      "\n",
      "For legacy code, nearly bug-for-bug compatible replacements are\n",
      "`RectBivariateSpline` on regular grids, and `bisplrep`/`bisplev` for\n",
      "scattered 2D data.\n",
      "\n",
      "In new code, for regular grids use `RegularGridInterpolator` instead.\n",
      "For scattered data, prefer `LinearNDInterpolator` or\n",
      "`CloughTocher2DInterpolator`.\n",
      "\n",
      "For more details see\n",
      "`https://gist.github.com/ev-br/8544371b40f414b7eaf3fe6217209bff`\n",
      "\n",
      "  f = interpolate.interp2d(temp, soc, z, kind='linear')\n",
      "/tmp/ipykernel_7047/3997654561.py:33: DeprecationWarning:         `interp2d` is deprecated!\n",
      "        `interp2d` is deprecated in SciPy 1.10 and will be removed in SciPy 1.12.0.\n",
      "\n",
      "        For legacy code, nearly bug-for-bug compatible replacements are\n",
      "        `RectBivariateSpline` on regular grids, and `bisplrep`/`bisplev` for\n",
      "        scattered 2D data.\n",
      "\n",
      "        In new code, for regular grids use `RegularGridInterpolator` instead.\n",
      "        For scattered data, prefer `LinearNDInterpolator` or\n",
      "        `CloughTocher2DInterpolator`.\n",
      "\n",
      "        For more details see\n",
      "        `https://gist.github.com/ev-br/8544371b40f414b7eaf3fe6217209bff`\n",
      "\n",
      "  z_new = f(temp_new, soc)\n"
     ]
    }
   ],
   "source": [
    "#df_T_10_soc_two = df_T_10[( df_T_10['Soc'] >= 50) & (df_T_10['Soc'] <= 100) ]\n",
    "df_T_25_soc_four = df_T_25[ ( df_T_25['Soc'] >= 50) & (df_T_25['Soc'] <= 100) ]\n",
    "df_T_40_soc_four = df_T_40[ ( df_T_40['Soc'] >= 50) & (df_T_40['Soc'] <= 100) ]\n",
    "\n",
    "chunk_size = 6\n",
    "temp = np.array([25, 40])\n",
    "soc = np.array([0, 10, 20, 30, 40, 50])\n",
    "parameters = ['R_0', 'R_1', 'C_1']\n",
    "temp_new = [30, 35]\n",
    "\n",
    "# List to store results for each parameter\n",
    "interpolated_results = []\n",
    "\n",
    "for start in range(0, len(df_T_10_soc_two), chunk_size):\n",
    "    chunk_25 = df_T_25_soc_four.iloc[start:start + chunk_size]\n",
    "    chunk_40 = df_T_40_soc_four.iloc[start:start + chunk_size]\n",
    "    \n",
    "    for param in parameters:\n",
    "        # Extracting the parameter values for the chunks\n",
    "        values_25 = chunk_25[param].values\n",
    "        values_40 = chunk_40[param].values\n",
    "        \n",
    "        # Check the shape of values_10 and values_25 to make sure they match soc.size\n",
    "        if len(values_25) != len(soc) or len(values_40) != len(soc):\n",
    "            print(f\"Chunk size mismatch for parameter {param} at index {start}\")\n",
    "            continue\n",
    "        \n",
    "        # Creating the array for interpolation with the correct shape (n, m)\n",
    "        z = np.vstack((values_25, values_40)).T  # Transpose to get shape (n, m)\n",
    "        \n",
    "        # Performing the interpolation\n",
    "        f = interpolate.interp2d(temp, soc, z, kind='linear')\n",
    "        z_new = f(temp_new, soc)\n",
    "        \n",
    "        # Store the interpolated results\n",
    "        for i, temp_val in enumerate(temp_new):\n",
    "            for j, soc_val in enumerate(soc):\n",
    "                interpolated_results.append({\n",
    "                    'temp': temp_val,\n",
    "                    'soc': soc_val,\n",
    "                    'param': param,\n",
    "                    'value': z_new[j, i]\n",
    "                })\n",
    "\n",
    "# Convert the interpolated results to a DataFrame\n",
    "df_interpolated_four = pd.DataFrame(interpolated_results)\n",
    "\n",
    "# Pivot the DataFrame to get the desired structure\n",
    "df_interpolated_pivot_four = df_interpolated_two.pivot_table(index=['temp', 'soc'], columns='param', values='value').reset_index()\n",
    "\n",
    "print(df_interpolated_pivot_four)"
   ],
   "metadata": {
    "collapsed": false,
    "ExecuteTime": {
     "end_time": "2024-06-07T21:57:56.798249900Z",
     "start_time": "2024-06-07T21:57:56.667056100Z"
    }
   },
   "id": "379d54aad3c27104"
  },
  {
   "cell_type": "code",
   "execution_count": 51,
   "outputs": [],
   "source": [
    "cluster_four = pd.concat([df_interpolated_pivot_four, df_T_40_soc_four])"
   ],
   "metadata": {
    "collapsed": false,
    "ExecuteTime": {
     "end_time": "2024-06-07T21:57:57.984365500Z",
     "start_time": "2024-06-07T21:57:57.785761400Z"
    }
   },
   "id": "2797c507ff7d0ca2"
  },
  {
   "cell_type": "code",
   "execution_count": 52,
   "outputs": [
    {
     "data": {
      "text/plain": "30"
     },
     "execution_count": 52,
     "metadata": {},
     "output_type": "execute_result"
    }
   ],
   "source": [
    "len(cluster_four)"
   ],
   "metadata": {
    "collapsed": false,
    "ExecuteTime": {
     "end_time": "2024-06-07T21:58:05.606734600Z",
     "start_time": "2024-06-07T21:58:05.581854700Z"
    }
   },
   "id": "e8c4fa4eaa6eb257"
  },
  {
   "cell_type": "code",
   "execution_count": null,
   "outputs": [],
   "source": [],
   "metadata": {
    "collapsed": false
   },
   "id": "12b72f32bacc0000"
  }
 ],
 "metadata": {
  "kernelspec": {
   "display_name": "Python 3",
   "language": "python",
   "name": "python3"
  },
  "language_info": {
   "codemirror_mode": {
    "name": "ipython",
    "version": 2
   },
   "file_extension": ".py",
   "mimetype": "text/x-python",
   "name": "python",
   "nbconvert_exporter": "python",
   "pygments_lexer": "ipython2",
   "version": "2.7.6"
  }
 },
 "nbformat": 4,
 "nbformat_minor": 5
}
