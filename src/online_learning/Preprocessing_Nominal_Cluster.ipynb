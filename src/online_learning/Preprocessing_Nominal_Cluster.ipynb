{
 "cells": [
  {
   "cell_type": "code",
   "execution_count": 1,
   "outputs": [],
   "source": [
    "import pandas as pd\n",
    "import numpy as np\n",
    "from scipy import interpolate\n",
    "from src.online_learning.cluster import Cluster"
   ],
   "metadata": {
    "collapsed": false,
    "ExecuteTime": {
     "end_time": "2024-06-08T08:23:56.465501400Z",
     "start_time": "2024-06-08T08:23:55.141740Z"
    }
   },
   "id": "53eec781bc20976e"
  },
  {
   "cell_type": "code",
   "execution_count": 2,
   "outputs": [
    {
     "name": "stdout",
     "output_type": "stream",
     "text": [
      "dict_keys(['T = 25', 'T = 10', 'T = 40'])\n"
     ]
    }
   ],
   "source": [
    "# Load the Excel file with all sheets\n",
    "file_path1 = 'initialization/DT_CU1_parameters_1_exp.xlsx'  \n",
    "all_sheets = pd.read_excel(file_path1, sheet_name=None)\n",
    "\n",
    "# Check the sheet names\n",
    "print(all_sheets.keys())"
   ],
   "metadata": {
    "collapsed": false,
    "ExecuteTime": {
     "end_time": "2024-06-08T08:23:57.142122200Z",
     "start_time": "2024-06-08T08:23:56.464504500Z"
    }
   },
   "id": "1a47b460ffa9cf11"
  },
  {
   "cell_type": "code",
   "execution_count": 3,
   "outputs": [
    {
     "name": "stdout",
     "output_type": "stream",
     "text": [
      "Sheet name: T = 25\n",
      "Sheet name: T = 10\n",
      "Sheet name: T = 40\n"
     ]
    }
   ],
   "source": [
    "df_list = []\n",
    "for sheet_name, df in all_sheets.items():\n",
    "    print(f\"Sheet name: {sheet_name}\")\n",
    "    df_list.append(df)"
   ],
   "metadata": {
    "collapsed": false,
    "ExecuteTime": {
     "end_time": "2024-06-08T08:23:57.468538200Z",
     "start_time": "2024-06-08T08:23:57.463965900Z"
    }
   },
   "id": "1d6cf7076dbeea87"
  },
  {
   "cell_type": "code",
   "execution_count": 4,
   "outputs": [],
   "source": [
    "df_T_25 = df_list[0]\n",
    "df_T_10 = df_list[1]\n",
    "df_T_40 = df_list[2]"
   ],
   "metadata": {
    "collapsed": false,
    "ExecuteTime": {
     "end_time": "2024-06-08T08:23:58.324564700Z",
     "start_time": "2024-06-08T08:23:58.316486200Z"
    }
   },
   "id": "45ccb22e4f34eeb"
  },
  {
   "cell_type": "code",
   "execution_count": 5,
   "outputs": [],
   "source": [
    "columns_to_drop = ['filename', 'data', 'start interval', 'end interval',\n",
    "                   'tau_guess','num value extrap',\n",
    "                   'R squared', 'OCV', 'tau_opt']"
   ],
   "metadata": {
    "collapsed": false,
    "ExecuteTime": {
     "end_time": "2024-06-08T08:23:59.388175300Z",
     "start_time": "2024-06-08T08:23:59.265736Z"
    }
   },
   "id": "6f327b702decc393"
  },
  {
   "cell_type": "code",
   "execution_count": 6,
   "outputs": [],
   "source": [
    "df_T_25 = df_T_25.drop(columns_to_drop, axis=1)\n",
    "df_T_10 = df_T_10.drop(columns_to_drop, axis=1)\n",
    "df_T_40 = df_T_40.drop(columns_to_drop, axis=1)"
   ],
   "metadata": {
    "collapsed": false,
    "ExecuteTime": {
     "end_time": "2024-06-08T08:24:00.180006200Z",
     "start_time": "2024-06-08T08:24:00.151776200Z"
    }
   },
   "id": "4c8bb2940afb41a5"
  },
  {
   "cell_type": "code",
   "execution_count": 7,
   "outputs": [],
   "source": [
    "df_T_25 = df_T_25.dropna()\n",
    "df_T_10 = df_T_10.dropna()\n",
    "df_T_40 = df_T_40.dropna()"
   ],
   "metadata": {
    "collapsed": false,
    "ExecuteTime": {
     "end_time": "2024-06-08T08:24:01.031424700Z",
     "start_time": "2024-06-08T08:24:00.986652500Z"
    }
   },
   "id": "c20a01cf4e166aa2"
  },
  {
   "cell_type": "code",
   "execution_count": 8,
   "outputs": [],
   "source": [
    "df_T_25['Temp'] = 25\n",
    "df_T_10['Temp'] = 10\n",
    "df_T_40['Temp'] = 40"
   ],
   "metadata": {
    "collapsed": false,
    "ExecuteTime": {
     "end_time": "2024-06-08T08:24:03.376872Z",
     "start_time": "2024-06-08T08:24:03.368573600Z"
    }
   },
   "id": "cd842fd326ed5ce9"
  },
  {
   "cell_type": "code",
   "execution_count": 9,
   "outputs": [
    {
     "data": {
      "text/plain": "              Soc        R_0        R_1           C_1  Temp\ncount   55.000000  55.000000  55.000000     55.000000  55.0\nmean    50.000000   0.011520   0.015499  11965.948149  25.0\nstd     31.914237   0.002412   0.006471   3143.296922   0.0\nmin      0.000000   0.009210   0.009238   4919.388300  25.0\n25%     20.000000   0.010363   0.011560  10500.078051  25.0\n50%     50.000000   0.010981   0.013876  11751.825878  25.0\n75%     80.000000   0.011748   0.016568  13995.291319  25.0\nmax    100.000000   0.022375   0.041071  19489.447086  25.0",
      "text/html": "<div>\n<style scoped>\n    .dataframe tbody tr th:only-of-type {\n        vertical-align: middle;\n    }\n\n    .dataframe tbody tr th {\n        vertical-align: top;\n    }\n\n    .dataframe thead th {\n        text-align: right;\n    }\n</style>\n<table border=\"1\" class=\"dataframe\">\n  <thead>\n    <tr style=\"text-align: right;\">\n      <th></th>\n      <th>Soc</th>\n      <th>R_0</th>\n      <th>R_1</th>\n      <th>C_1</th>\n      <th>Temp</th>\n    </tr>\n  </thead>\n  <tbody>\n    <tr>\n      <th>count</th>\n      <td>55.000000</td>\n      <td>55.000000</td>\n      <td>55.000000</td>\n      <td>55.000000</td>\n      <td>55.0</td>\n    </tr>\n    <tr>\n      <th>mean</th>\n      <td>50.000000</td>\n      <td>0.011520</td>\n      <td>0.015499</td>\n      <td>11965.948149</td>\n      <td>25.0</td>\n    </tr>\n    <tr>\n      <th>std</th>\n      <td>31.914237</td>\n      <td>0.002412</td>\n      <td>0.006471</td>\n      <td>3143.296922</td>\n      <td>0.0</td>\n    </tr>\n    <tr>\n      <th>min</th>\n      <td>0.000000</td>\n      <td>0.009210</td>\n      <td>0.009238</td>\n      <td>4919.388300</td>\n      <td>25.0</td>\n    </tr>\n    <tr>\n      <th>25%</th>\n      <td>20.000000</td>\n      <td>0.010363</td>\n      <td>0.011560</td>\n      <td>10500.078051</td>\n      <td>25.0</td>\n    </tr>\n    <tr>\n      <th>50%</th>\n      <td>50.000000</td>\n      <td>0.010981</td>\n      <td>0.013876</td>\n      <td>11751.825878</td>\n      <td>25.0</td>\n    </tr>\n    <tr>\n      <th>75%</th>\n      <td>80.000000</td>\n      <td>0.011748</td>\n      <td>0.016568</td>\n      <td>13995.291319</td>\n      <td>25.0</td>\n    </tr>\n    <tr>\n      <th>max</th>\n      <td>100.000000</td>\n      <td>0.022375</td>\n      <td>0.041071</td>\n      <td>19489.447086</td>\n      <td>25.0</td>\n    </tr>\n  </tbody>\n</table>\n</div>"
     },
     "execution_count": 9,
     "metadata": {},
     "output_type": "execute_result"
    }
   ],
   "source": [
    "df_T_25.describe()"
   ],
   "metadata": {
    "collapsed": false,
    "ExecuteTime": {
     "end_time": "2024-06-08T08:24:04.646639700Z",
     "start_time": "2024-06-08T08:24:04.570030200Z"
    }
   },
   "id": "bf1008e7c3cf64e4"
  },
  {
   "cell_type": "code",
   "execution_count": 10,
   "outputs": [
    {
     "data": {
      "text/plain": "              Soc        R_0        R_1           C_1  Temp\ncount   55.000000  55.000000  55.000000     55.000000  55.0\nmean    50.000000   0.011520   0.015499  11965.948149  25.0\nstd     31.914237   0.002412   0.006471   3143.296922   0.0\nmin      0.000000   0.009210   0.009238   4919.388300  25.0\n25%     20.000000   0.010363   0.011560  10500.078051  25.0\n50%     50.000000   0.010981   0.013876  11751.825878  25.0\n75%     80.000000   0.011748   0.016568  13995.291319  25.0\nmax    100.000000   0.022375   0.041071  19489.447086  25.0",
      "text/html": "<div>\n<style scoped>\n    .dataframe tbody tr th:only-of-type {\n        vertical-align: middle;\n    }\n\n    .dataframe tbody tr th {\n        vertical-align: top;\n    }\n\n    .dataframe thead th {\n        text-align: right;\n    }\n</style>\n<table border=\"1\" class=\"dataframe\">\n  <thead>\n    <tr style=\"text-align: right;\">\n      <th></th>\n      <th>Soc</th>\n      <th>R_0</th>\n      <th>R_1</th>\n      <th>C_1</th>\n      <th>Temp</th>\n    </tr>\n  </thead>\n  <tbody>\n    <tr>\n      <th>count</th>\n      <td>55.000000</td>\n      <td>55.000000</td>\n      <td>55.000000</td>\n      <td>55.000000</td>\n      <td>55.0</td>\n    </tr>\n    <tr>\n      <th>mean</th>\n      <td>50.000000</td>\n      <td>0.011520</td>\n      <td>0.015499</td>\n      <td>11965.948149</td>\n      <td>25.0</td>\n    </tr>\n    <tr>\n      <th>std</th>\n      <td>31.914237</td>\n      <td>0.002412</td>\n      <td>0.006471</td>\n      <td>3143.296922</td>\n      <td>0.0</td>\n    </tr>\n    <tr>\n      <th>min</th>\n      <td>0.000000</td>\n      <td>0.009210</td>\n      <td>0.009238</td>\n      <td>4919.388300</td>\n      <td>25.0</td>\n    </tr>\n    <tr>\n      <th>25%</th>\n      <td>20.000000</td>\n      <td>0.010363</td>\n      <td>0.011560</td>\n      <td>10500.078051</td>\n      <td>25.0</td>\n    </tr>\n    <tr>\n      <th>50%</th>\n      <td>50.000000</td>\n      <td>0.010981</td>\n      <td>0.013876</td>\n      <td>11751.825878</td>\n      <td>25.0</td>\n    </tr>\n    <tr>\n      <th>75%</th>\n      <td>80.000000</td>\n      <td>0.011748</td>\n      <td>0.016568</td>\n      <td>13995.291319</td>\n      <td>25.0</td>\n    </tr>\n    <tr>\n      <th>max</th>\n      <td>100.000000</td>\n      <td>0.022375</td>\n      <td>0.041071</td>\n      <td>19489.447086</td>\n      <td>25.0</td>\n    </tr>\n  </tbody>\n</table>\n</div>"
     },
     "execution_count": 10,
     "metadata": {},
     "output_type": "execute_result"
    }
   ],
   "source": [
    "df_T_25.describe()"
   ],
   "metadata": {
    "collapsed": false,
    "ExecuteTime": {
     "end_time": "2024-06-08T08:24:08.168879400Z",
     "start_time": "2024-06-08T08:24:08.109880Z"
    }
   },
   "id": "9d2a497e7d42bd23"
  },
  {
   "cell_type": "code",
   "execution_count": 13,
   "outputs": [
    {
     "name": "stdout",
     "output_type": "stream",
     "text": [
      "param  Temp  Soc           C_1       R_0       R_1\n",
      "0        15    0   9362.838793  0.016177  0.016432\n",
      "1        15   10   9691.182929  0.016623  0.019499\n",
      "2        15   20  12052.351794  0.017420  0.023310\n",
      "3        15   30   9306.629723  0.018662  0.024055\n",
      "4        15   40   5139.236488  0.024588  0.035098\n",
      "5        15   50   2142.033750  0.025116  0.108859\n",
      "6        20    0  11140.809709  0.013595  0.014089\n",
      "7        20   10  11096.331372  0.014090  0.016753\n",
      "8        20   20  13364.479790  0.014450  0.019963\n",
      "9        20   30  11500.390560  0.015292  0.019551\n",
      "10       20   40   8387.385488  0.018321  0.025878\n",
      "11       20   50   4165.597126  0.020244  0.070274\n"
     ]
    },
    {
     "name": "stderr",
     "output_type": "stream",
     "text": [
      "/tmp/ipykernel_9666/1338578928.py:32: DeprecationWarning: `interp2d` is deprecated!\n",
      "`interp2d` is deprecated in SciPy 1.10 and will be removed in SciPy 1.12.0.\n",
      "\n",
      "For legacy code, nearly bug-for-bug compatible replacements are\n",
      "`RectBivariateSpline` on regular grids, and `bisplrep`/`bisplev` for\n",
      "scattered 2D data.\n",
      "\n",
      "In new code, for regular grids use `RegularGridInterpolator` instead.\n",
      "For scattered data, prefer `LinearNDInterpolator` or\n",
      "`CloughTocher2DInterpolator`.\n",
      "\n",
      "For more details see\n",
      "`https://gist.github.com/ev-br/8544371b40f414b7eaf3fe6217209bff`\n",
      "\n",
      "  f = interpolate.interp2d(temp, soc, z, kind='linear')\n",
      "/tmp/ipykernel_9666/1338578928.py:33: DeprecationWarning:         `interp2d` is deprecated!\n",
      "        `interp2d` is deprecated in SciPy 1.10 and will be removed in SciPy 1.12.0.\n",
      "\n",
      "        For legacy code, nearly bug-for-bug compatible replacements are\n",
      "        `RectBivariateSpline` on regular grids, and `bisplrep`/`bisplev` for\n",
      "        scattered 2D data.\n",
      "\n",
      "        In new code, for regular grids use `RegularGridInterpolator` instead.\n",
      "        For scattered data, prefer `LinearNDInterpolator` or\n",
      "        `CloughTocher2DInterpolator`.\n",
      "\n",
      "        For more details see\n",
      "        `https://gist.github.com/ev-br/8544371b40f414b7eaf3fe6217209bff`\n",
      "\n",
      "  z_new = f(temp_new, soc)\n"
     ]
    }
   ],
   "source": [
    "df_T_10_soc_one = df_T_10[( df_T_10['Soc'] >= 0) & (df_T_10['Soc'] <= 50) ]\n",
    "df_T_25_soc_one = df_T_25[ ( df_T_25['Soc'] >= 0) & (df_T_25['Soc'] <= 50) ]\n",
    "df_T_40_soc_one = df_T_40[ ( df_T_40['Soc'] >= 0) & (df_T_40['Soc'] <= 50) ]\n",
    "\n",
    "chunk_size = 6\n",
    "temp = np.array([10, 25])\n",
    "soc = np.array([0, 10, 20, 30, 40, 50])\n",
    "parameters = ['R_0', 'R_1', 'C_1']\n",
    "temp_new = [15, 20]\n",
    "\n",
    "# List to store results for each parameter\n",
    "interpolated_results = []\n",
    "\n",
    "for start in range(0, len(df_T_10_soc_one), chunk_size):\n",
    "    chunk_10 = df_T_10_soc_one.iloc[start:start + chunk_size]\n",
    "    chunk_25 = df_T_25_soc_one.iloc[start:start + chunk_size]\n",
    "    \n",
    "    for param in parameters:\n",
    "        # Extracting the parameter values for the chunks\n",
    "        values_10 = chunk_10[param].values\n",
    "        values_25 = chunk_25[param].values\n",
    "        \n",
    "        # Check the shape of values_10 and values_25 to make sure they match soc.size\n",
    "        if len(values_10) != len(soc) or len(values_25) != len(soc):\n",
    "            print(f\"Chunk size mismatch for parameter {param} at index {start}\")\n",
    "            continue\n",
    "        \n",
    "        # Creating the array for interpolation with the correct shape (n, m)\n",
    "        z = np.vstack((values_10, values_25)).T  # Transpose to get shape (n, m)\n",
    "        \n",
    "        # Performing the interpolation\n",
    "        f = interpolate.interp2d(temp, soc, z, kind='linear')\n",
    "        z_new = f(temp_new, soc)\n",
    "        \n",
    "        # Store the interpolated results\n",
    "        for i, temp_val in enumerate(temp_new):\n",
    "            for j, soc_val in enumerate(soc):\n",
    "                interpolated_results.append({\n",
    "                    'Temp': temp_val,\n",
    "                    'Soc': soc_val,\n",
    "                    'param': param,\n",
    "                    'value': z_new[j, i]\n",
    "                })\n",
    "\n",
    "# Convert the interpolated results to a DataFrame\n",
    "df_interpolated = pd.DataFrame(interpolated_results)\n",
    "\n",
    "# Pivot the DataFrame to get the desired structure\n",
    "df_interpolated_pivot = df_interpolated.pivot_table(index=['Temp', 'Soc'], columns='param', values='value').reset_index()\n",
    "\n",
    "print(df_interpolated_pivot)"
   ],
   "metadata": {
    "collapsed": false,
    "ExecuteTime": {
     "end_time": "2024-06-08T08:24:45.440939200Z",
     "start_time": "2024-06-08T08:24:45.384835300Z"
    }
   },
   "id": "199fb0ac5d5d4875"
  },
  {
   "cell_type": "code",
   "execution_count": 14,
   "outputs": [
    {
     "data": {
      "text/plain": "param       Temp        Soc           C_1        R_0        R_1\ncount  12.000000  12.000000     12.000000  12.000000  12.000000\nmean   17.500000  25.000000   8945.772293   0.017882   0.032814\nstd     2.611165  17.837652   3437.060362   0.003809   0.028287\nmin    15.000000   0.000000   2142.033750   0.013595   0.014089\n25%    15.000000  10.000000   7575.348238   0.015082   0.018813\n50%    17.500000  25.000000   9527.010861   0.017022   0.021636\n75%    20.000000  40.000000  11230.704922   0.019057   0.028183\nmax    20.000000  50.000000  13364.479790   0.025116   0.108859",
      "text/html": "<div>\n<style scoped>\n    .dataframe tbody tr th:only-of-type {\n        vertical-align: middle;\n    }\n\n    .dataframe tbody tr th {\n        vertical-align: top;\n    }\n\n    .dataframe thead th {\n        text-align: right;\n    }\n</style>\n<table border=\"1\" class=\"dataframe\">\n  <thead>\n    <tr style=\"text-align: right;\">\n      <th>param</th>\n      <th>Temp</th>\n      <th>Soc</th>\n      <th>C_1</th>\n      <th>R_0</th>\n      <th>R_1</th>\n    </tr>\n  </thead>\n  <tbody>\n    <tr>\n      <th>count</th>\n      <td>12.000000</td>\n      <td>12.000000</td>\n      <td>12.000000</td>\n      <td>12.000000</td>\n      <td>12.000000</td>\n    </tr>\n    <tr>\n      <th>mean</th>\n      <td>17.500000</td>\n      <td>25.000000</td>\n      <td>8945.772293</td>\n      <td>0.017882</td>\n      <td>0.032814</td>\n    </tr>\n    <tr>\n      <th>std</th>\n      <td>2.611165</td>\n      <td>17.837652</td>\n      <td>3437.060362</td>\n      <td>0.003809</td>\n      <td>0.028287</td>\n    </tr>\n    <tr>\n      <th>min</th>\n      <td>15.000000</td>\n      <td>0.000000</td>\n      <td>2142.033750</td>\n      <td>0.013595</td>\n      <td>0.014089</td>\n    </tr>\n    <tr>\n      <th>25%</th>\n      <td>15.000000</td>\n      <td>10.000000</td>\n      <td>7575.348238</td>\n      <td>0.015082</td>\n      <td>0.018813</td>\n    </tr>\n    <tr>\n      <th>50%</th>\n      <td>17.500000</td>\n      <td>25.000000</td>\n      <td>9527.010861</td>\n      <td>0.017022</td>\n      <td>0.021636</td>\n    </tr>\n    <tr>\n      <th>75%</th>\n      <td>20.000000</td>\n      <td>40.000000</td>\n      <td>11230.704922</td>\n      <td>0.019057</td>\n      <td>0.028183</td>\n    </tr>\n    <tr>\n      <th>max</th>\n      <td>20.000000</td>\n      <td>50.000000</td>\n      <td>13364.479790</td>\n      <td>0.025116</td>\n      <td>0.108859</td>\n    </tr>\n  </tbody>\n</table>\n</div>"
     },
     "execution_count": 14,
     "metadata": {},
     "output_type": "execute_result"
    }
   ],
   "source": [
    "df_interpolated_pivot.describe()"
   ],
   "metadata": {
    "collapsed": false,
    "ExecuteTime": {
     "end_time": "2024-06-08T08:25:17.008671700Z",
     "start_time": "2024-06-08T08:25:16.928573200Z"
    }
   },
   "id": "c1c3655d3c434f39"
  },
  {
   "cell_type": "code",
   "execution_count": 60,
   "outputs": [],
   "source": [
    "cluster_one = pd.concat([df_interpolated_pivot,df_T_10_soc_one,df_T_25_soc_one])"
   ],
   "metadata": {
    "collapsed": false,
    "ExecuteTime": {
     "end_time": "2024-06-08T08:44:33.721454600Z",
     "start_time": "2024-06-08T08:44:33.651836100Z"
    }
   },
   "id": "7efef07b3b31bccb"
  },
  {
   "cell_type": "code",
   "execution_count": 61,
   "outputs": [],
   "source": [
    "cluster_one = cluster_one.drop('skip', axis=1)"
   ],
   "metadata": {
    "collapsed": false,
    "ExecuteTime": {
     "end_time": "2024-06-08T08:44:34.715518900Z",
     "start_time": "2024-06-08T08:44:34.649246600Z"
    }
   },
   "id": "de1456f4ae09220f"
  },
  {
   "cell_type": "code",
   "execution_count": 63,
   "outputs": [],
   "source": [
    "cluster_one.to_csv(\"phi_one.csv\", index=False, na_rep='NaN')"
   ],
   "metadata": {
    "collapsed": false,
    "ExecuteTime": {
     "end_time": "2024-06-08T08:44:51.487110Z",
     "start_time": "2024-06-08T08:44:51.436153300Z"
    }
   },
   "id": "f1ff43cbebb5a35b"
  },
  {
   "cell_type": "markdown",
   "source": [
    "## cell2"
   ],
   "metadata": {
    "collapsed": false
   },
   "id": "db428d57428d81cd"
  },
  {
   "cell_type": "code",
   "execution_count": 34,
   "outputs": [
    {
     "name": "stdout",
     "output_type": "stream",
     "text": [
      "param  Temp  Soc           C_1       R_0       R_1\n",
      "0        15    0   9655.887330  0.013612  0.014383\n",
      "1        15   10   8960.577385  0.014149  0.014264\n",
      "2        15   20   9455.065286  0.014868  0.018994\n",
      "3        15   30  14273.722858  0.015673  0.021401\n",
      "4        15   40   8889.953426  0.015858  0.017680\n",
      "5        15   50   7119.632085  0.017630  0.023079\n",
      "6        20    0  11287.333977  0.012312  0.013065\n",
      "7        20   10  10731.028600  0.012853  0.014136\n",
      "8        20   20  12065.836535  0.013174  0.017804\n",
      "9        20   30  13983.937127  0.013798  0.018224\n",
      "10       20   40  10262.743957  0.013956  0.017169\n",
      "11       20   50   6654.396293  0.016500  0.027384\n"
     ]
    },
    {
     "name": "stderr",
     "output_type": "stream",
     "text": [
      "/tmp/ipykernel_9666/1730702352.py:32: DeprecationWarning: `interp2d` is deprecated!\n",
      "`interp2d` is deprecated in SciPy 1.10 and will be removed in SciPy 1.12.0.\n",
      "\n",
      "For legacy code, nearly bug-for-bug compatible replacements are\n",
      "`RectBivariateSpline` on regular grids, and `bisplrep`/`bisplev` for\n",
      "scattered 2D data.\n",
      "\n",
      "In new code, for regular grids use `RegularGridInterpolator` instead.\n",
      "For scattered data, prefer `LinearNDInterpolator` or\n",
      "`CloughTocher2DInterpolator`.\n",
      "\n",
      "For more details see\n",
      "`https://gist.github.com/ev-br/8544371b40f414b7eaf3fe6217209bff`\n",
      "\n",
      "  f = interpolate.interp2d(temp, soc, z, kind='linear')\n",
      "/tmp/ipykernel_9666/1730702352.py:33: DeprecationWarning:         `interp2d` is deprecated!\n",
      "        `interp2d` is deprecated in SciPy 1.10 and will be removed in SciPy 1.12.0.\n",
      "\n",
      "        For legacy code, nearly bug-for-bug compatible replacements are\n",
      "        `RectBivariateSpline` on regular grids, and `bisplrep`/`bisplev` for\n",
      "        scattered 2D data.\n",
      "\n",
      "        In new code, for regular grids use `RegularGridInterpolator` instead.\n",
      "        For scattered data, prefer `LinearNDInterpolator` or\n",
      "        `CloughTocher2DInterpolator`.\n",
      "\n",
      "        For more details see\n",
      "        `https://gist.github.com/ev-br/8544371b40f414b7eaf3fe6217209bff`\n",
      "\n",
      "  z_new = f(temp_new, soc)\n"
     ]
    }
   ],
   "source": [
    "df_T_10_soc_two = df_T_10[( df_T_10['Soc'] >= 50) & (df_T_10['Soc'] <= 100) ]\n",
    "df_T_25_soc_two = df_T_25[ ( df_T_25['Soc'] >= 50) & (df_T_25['Soc'] <= 100) ]\n",
    "#df_T_40_soc_one = df_T_40[ ( df_T_40['Soc'] >= 0) & (df_T_40['Soc'] <= 50) ]\n",
    "\n",
    "chunk_size = 6\n",
    "temp = np.array([10, 25])\n",
    "soc = np.array([0, 10, 20, 30, 40, 50])\n",
    "parameters = ['R_0', 'R_1', 'C_1']\n",
    "temp_new = [15, 20]\n",
    "\n",
    "# List to store results for each parameter\n",
    "interpolated_results = []\n",
    "\n",
    "for start in range(0, len(df_T_10_soc_two), chunk_size):\n",
    "    chunk_10 = df_T_10_soc_two.iloc[start:start + chunk_size]\n",
    "    chunk_25 = df_T_25_soc_one.iloc[start:start + chunk_size]\n",
    "    \n",
    "    for param in parameters:\n",
    "        # Extracting the parameter values for the chunks\n",
    "        values_10 = chunk_10[param].values\n",
    "        values_25 = chunk_25[param].values\n",
    "        \n",
    "        # Check the shape of values_10 and values_25 to make sure they match soc.size\n",
    "        if len(values_10) != len(soc) or len(values_25) != len(soc):\n",
    "            print(f\"Chunk size mismatch for parameter {param} at index {start}\")\n",
    "            continue\n",
    "        \n",
    "        # Creating the array for interpolation with the correct shape (n, m)\n",
    "        z = np.vstack((values_10, values_25)).T  # Transpose to get shape (n, m)\n",
    "        \n",
    "        # Performing the interpolation\n",
    "        f = interpolate.interp2d(temp, soc, z, kind='linear')\n",
    "        z_new = f(temp_new, soc)\n",
    "        \n",
    "        # Store the interpolated results\n",
    "        for i, temp_val in enumerate(temp_new):\n",
    "            for j, soc_val in enumerate(soc):\n",
    "                interpolated_results.append({\n",
    "                    'Temp': temp_val,\n",
    "                    'Soc': soc_val,\n",
    "                    'param': param,\n",
    "                    'value': z_new[j, i]\n",
    "                })\n",
    "\n",
    "# Convert the interpolated results to a DataFrame\n",
    "df_interpolated_two = pd.DataFrame(interpolated_results)\n",
    "\n",
    "# Pivot the DataFrame to get the desired structure\n",
    "df_interpolated_pivot_two = df_interpolated_two.pivot_table(index=['Temp', 'Soc'], columns='param', values='value').reset_index()\n",
    "\n",
    "print(df_interpolated_pivot_two)"
   ],
   "metadata": {
    "collapsed": false,
    "ExecuteTime": {
     "end_time": "2024-06-08T08:34:54.031144Z",
     "start_time": "2024-06-08T08:34:53.961936100Z"
    }
   },
   "id": "69bc21f5896ed19d"
  },
  {
   "cell_type": "code",
   "execution_count": 37,
   "outputs": [],
   "source": [
    "cluster_two = pd.concat([df_interpolated_pivot_two,df_T_10_soc_two,df_T_25_soc_two])"
   ],
   "metadata": {
    "collapsed": false,
    "ExecuteTime": {
     "end_time": "2024-06-08T08:35:19.772220500Z",
     "start_time": "2024-06-08T08:35:19.634192400Z"
    }
   },
   "id": "5470b24f48ef240b"
  },
  {
   "cell_type": "code",
   "execution_count": 38,
   "outputs": [
    {
     "data": {
      "text/plain": "60"
     },
     "execution_count": 38,
     "metadata": {},
     "output_type": "execute_result"
    }
   ],
   "source": [
    "len(cluster_two)"
   ],
   "metadata": {
    "collapsed": false,
    "ExecuteTime": {
     "end_time": "2024-06-08T08:35:20.790285100Z",
     "start_time": "2024-06-08T08:35:20.639328200Z"
    }
   },
   "id": "b57d708bc175e342"
  },
  {
   "cell_type": "code",
   "execution_count": 42,
   "outputs": [],
   "source": [
    "cluster_two = cluster_two.drop('skip', axis=1)"
   ],
   "metadata": {
    "collapsed": false,
    "ExecuteTime": {
     "end_time": "2024-06-08T08:37:43.424135400Z",
     "start_time": "2024-06-08T08:37:43.006350800Z"
    }
   },
   "id": "89fa0ac41d13b8c"
  },
  {
   "cell_type": "code",
   "execution_count": 43,
   "outputs": [
    {
     "data": {
      "text/plain": "            Temp         Soc           C_1        R_0        R_1\ncount  60.000000   60.000000     60.000000  60.000000  60.000000\nmean   19.000000   65.000000  10898.610389   0.013090   0.015514\nstd     6.689227   26.521498   3296.695650   0.003160   0.004286\nmin    10.000000    0.000000   6329.622654   0.009210   0.009238\n25%    10.000000   50.000000   8070.132353   0.010474   0.011761\n50%    22.500000   70.000000  10351.731264   0.011748   0.014324\n75%    25.000000   90.000000  13357.329312   0.015858   0.018259\nmax    25.000000  100.000000  19489.447086   0.019599   0.027384",
      "text/html": "<div>\n<style scoped>\n    .dataframe tbody tr th:only-of-type {\n        vertical-align: middle;\n    }\n\n    .dataframe tbody tr th {\n        vertical-align: top;\n    }\n\n    .dataframe thead th {\n        text-align: right;\n    }\n</style>\n<table border=\"1\" class=\"dataframe\">\n  <thead>\n    <tr style=\"text-align: right;\">\n      <th></th>\n      <th>Temp</th>\n      <th>Soc</th>\n      <th>C_1</th>\n      <th>R_0</th>\n      <th>R_1</th>\n    </tr>\n  </thead>\n  <tbody>\n    <tr>\n      <th>count</th>\n      <td>60.000000</td>\n      <td>60.000000</td>\n      <td>60.000000</td>\n      <td>60.000000</td>\n      <td>60.000000</td>\n    </tr>\n    <tr>\n      <th>mean</th>\n      <td>19.000000</td>\n      <td>65.000000</td>\n      <td>10898.610389</td>\n      <td>0.013090</td>\n      <td>0.015514</td>\n    </tr>\n    <tr>\n      <th>std</th>\n      <td>6.689227</td>\n      <td>26.521498</td>\n      <td>3296.695650</td>\n      <td>0.003160</td>\n      <td>0.004286</td>\n    </tr>\n    <tr>\n      <th>min</th>\n      <td>10.000000</td>\n      <td>0.000000</td>\n      <td>6329.622654</td>\n      <td>0.009210</td>\n      <td>0.009238</td>\n    </tr>\n    <tr>\n      <th>25%</th>\n      <td>10.000000</td>\n      <td>50.000000</td>\n      <td>8070.132353</td>\n      <td>0.010474</td>\n      <td>0.011761</td>\n    </tr>\n    <tr>\n      <th>50%</th>\n      <td>22.500000</td>\n      <td>70.000000</td>\n      <td>10351.731264</td>\n      <td>0.011748</td>\n      <td>0.014324</td>\n    </tr>\n    <tr>\n      <th>75%</th>\n      <td>25.000000</td>\n      <td>90.000000</td>\n      <td>13357.329312</td>\n      <td>0.015858</td>\n      <td>0.018259</td>\n    </tr>\n    <tr>\n      <th>max</th>\n      <td>25.000000</td>\n      <td>100.000000</td>\n      <td>19489.447086</td>\n      <td>0.019599</td>\n      <td>0.027384</td>\n    </tr>\n  </tbody>\n</table>\n</div>"
     },
     "execution_count": 43,
     "metadata": {},
     "output_type": "execute_result"
    }
   ],
   "source": [
    "cluster_two.describe()"
   ],
   "metadata": {
    "collapsed": false,
    "ExecuteTime": {
     "end_time": "2024-06-08T08:37:45.468684700Z",
     "start_time": "2024-06-08T08:37:45.370191600Z"
    }
   },
   "id": "25f90dc8c44384c0"
  },
  {
   "cell_type": "code",
   "execution_count": 44,
   "outputs": [],
   "source": [
    "cluster_two.to_csv(\"phi_two.csv\", index=False, na_rep='NaN')"
   ],
   "metadata": {
    "collapsed": false,
    "ExecuteTime": {
     "end_time": "2024-06-08T08:38:30.945187700Z",
     "start_time": "2024-06-08T08:38:30.793942900Z"
    }
   },
   "id": "72bacb0a8175a298"
  },
  {
   "cell_type": "markdown",
   "source": [
    "## cell3"
   ],
   "metadata": {
    "collapsed": false
   },
   "id": "bee43f1ccad73016"
  },
  {
   "cell_type": "code",
   "execution_count": 46,
   "outputs": [
    {
     "name": "stdout",
     "output_type": "stream",
     "text": [
      "param  Temp  Soc           C_1       R_0       R_1\n",
      "0        15    0   9362.838793  0.016177  0.016432\n",
      "1        15   10   9691.182929  0.016623  0.019499\n",
      "2        15   20  12052.351794  0.017420  0.023310\n",
      "3        15   30   9306.629723  0.018662  0.024055\n",
      "4        15   40   5139.236488  0.024588  0.035098\n",
      "5        15   50   2142.033750  0.025116  0.108859\n",
      "6        20    0  11140.809709  0.013595  0.014089\n",
      "7        20   10  11096.331372  0.014090  0.016753\n",
      "8        20   20  13364.479790  0.014450  0.019963\n",
      "9        20   30  11500.390560  0.015292  0.019551\n",
      "10       20   40   8387.385488  0.018321  0.025878\n",
      "11       20   50   4165.597126  0.020244  0.070274\n"
     ]
    },
    {
     "name": "stderr",
     "output_type": "stream",
     "text": [
      "/tmp/ipykernel_9666/2542729913.py:32: DeprecationWarning: `interp2d` is deprecated!\n",
      "`interp2d` is deprecated in SciPy 1.10 and will be removed in SciPy 1.12.0.\n",
      "\n",
      "For legacy code, nearly bug-for-bug compatible replacements are\n",
      "`RectBivariateSpline` on regular grids, and `bisplrep`/`bisplev` for\n",
      "scattered 2D data.\n",
      "\n",
      "In new code, for regular grids use `RegularGridInterpolator` instead.\n",
      "For scattered data, prefer `LinearNDInterpolator` or\n",
      "`CloughTocher2DInterpolator`.\n",
      "\n",
      "For more details see\n",
      "`https://gist.github.com/ev-br/8544371b40f414b7eaf3fe6217209bff`\n",
      "\n",
      "  f = interpolate.interp2d(temp, soc, z, kind='linear')\n",
      "/tmp/ipykernel_9666/2542729913.py:33: DeprecationWarning:         `interp2d` is deprecated!\n",
      "        `interp2d` is deprecated in SciPy 1.10 and will be removed in SciPy 1.12.0.\n",
      "\n",
      "        For legacy code, nearly bug-for-bug compatible replacements are\n",
      "        `RectBivariateSpline` on regular grids, and `bisplrep`/`bisplev` for\n",
      "        scattered 2D data.\n",
      "\n",
      "        In new code, for regular grids use `RegularGridInterpolator` instead.\n",
      "        For scattered data, prefer `LinearNDInterpolator` or\n",
      "        `CloughTocher2DInterpolator`.\n",
      "\n",
      "        For more details see\n",
      "        `https://gist.github.com/ev-br/8544371b40f414b7eaf3fe6217209bff`\n",
      "\n",
      "  z_new = f(temp_new, soc)\n"
     ]
    }
   ],
   "source": [
    "#df_T_10_soc_one = df_T_10[( df_T_10['Soc'] >= 0) & (df_T_10['Soc'] <= 50) ]\n",
    "df_T_25_soc_three = df_T_25[ ( df_T_25['Soc'] >= 0) & (df_T_25['Soc'] <= 50) ]\n",
    "df_T_40_soc_three = df_T_40[ ( df_T_40['Soc'] >= 0) & (df_T_40['Soc'] <= 50) ]\n",
    "\n",
    "chunk_size = 6\n",
    "temp = np.array([25, 40])\n",
    "soc = np.array([0, 10, 20, 30, 40, 50])\n",
    "parameters = ['R_0', 'R_1', 'C_1']\n",
    "temp_new = [30, 35]\n",
    "\n",
    "# List to store results for each parameter\n",
    "interpolated_results = []\n",
    "\n",
    "for start in range(0, len(df_T_10_soc_one), chunk_size):\n",
    "    chunk_25 = df_T_25_soc_one.iloc[start:start + chunk_size]\n",
    "    chunk_40 = df_T_40_soc_one.iloc[start:start + chunk_size]\n",
    "    \n",
    "    for param in parameters:\n",
    "        # Extracting the parameter values for the chunks\n",
    "        values_25 = chunk_25[param].values\n",
    "        values_40 = chunk_40[param].values\n",
    "        \n",
    "        # Check the shape of values_10 and values_25 to make sure they match soc.size\n",
    "        if len(values_25) != len(soc) or len(values_40) != len(soc):\n",
    "            print(f\"Chunk size mismatch for parameter {param} at index {start}\")\n",
    "            continue\n",
    "        \n",
    "        # Creating the array for interpolation with the correct shape (n, m)\n",
    "        z = np.vstack((values_25, values_40)).T  # Transpose to get shape (n, m)\n",
    "        \n",
    "        # Performing the interpolation\n",
    "        f = interpolate.interp2d(temp, soc, z, kind='linear')\n",
    "        z_new = f(temp_new, soc)\n",
    "        \n",
    "        # Store the interpolated results\n",
    "        for i, temp_val in enumerate(temp_new):\n",
    "            for j, soc_val in enumerate(soc):\n",
    "                interpolated_results.append({\n",
    "                    'Temp': temp_val,\n",
    "                    'Soc': soc_val,\n",
    "                    'param': param,\n",
    "                    'value': z_new[j, i]\n",
    "                })\n",
    "\n",
    "# Convert the interpolated results to a DataFrame\n",
    "df_interpolated_three = pd.DataFrame(interpolated_results)\n",
    "\n",
    "# Pivot the DataFrame to get the desired structure\n",
    "df_interpolated_pivot_three = df_interpolated.pivot_table(index=['Temp', 'Soc'], columns='param', values='value').reset_index()\n",
    "\n",
    "print(df_interpolated_pivot_three)"
   ],
   "metadata": {
    "collapsed": false,
    "ExecuteTime": {
     "end_time": "2024-06-08T08:39:13.293000600Z",
     "start_time": "2024-06-08T08:39:13.062655600Z"
    }
   },
   "id": "83e3ec10439202ba"
  },
  {
   "cell_type": "code",
   "execution_count": 47,
   "outputs": [],
   "source": [
    "cluster_three = pd.concat([df_interpolated_pivot_three, df_T_40_soc_three])"
   ],
   "metadata": {
    "collapsed": false,
    "ExecuteTime": {
     "end_time": "2024-06-08T08:39:30.961252600Z",
     "start_time": "2024-06-08T08:39:30.862444300Z"
    }
   },
   "id": "788a729ae5f42c43"
  },
  {
   "cell_type": "code",
   "execution_count": 48,
   "outputs": [
    {
     "data": {
      "text/plain": "30"
     },
     "execution_count": 48,
     "metadata": {},
     "output_type": "execute_result"
    }
   ],
   "source": [
    "len(cluster_three)"
   ],
   "metadata": {
    "collapsed": false,
    "ExecuteTime": {
     "end_time": "2024-06-08T08:39:32.359169500Z",
     "start_time": "2024-06-08T08:39:32.302000700Z"
    }
   },
   "id": "8754ab0d63ab8934"
  },
  {
   "cell_type": "code",
   "execution_count": 50,
   "outputs": [],
   "source": [
    "cluster_three = cluster_three.drop('skip', axis=1)"
   ],
   "metadata": {
    "collapsed": false,
    "ExecuteTime": {
     "end_time": "2024-06-08T08:40:16.929087800Z",
     "start_time": "2024-06-08T08:40:16.627726300Z"
    }
   },
   "id": "eadb480ed42fdfb5"
  },
  {
   "cell_type": "code",
   "execution_count": 51,
   "outputs": [],
   "source": [
    "cluster_three.to_csv(\"phi_three.csv\", index=False, na_rep='NaN')"
   ],
   "metadata": {
    "collapsed": false,
    "ExecuteTime": {
     "end_time": "2024-06-08T08:40:50.207485600Z",
     "start_time": "2024-06-08T08:40:49.989746300Z"
    }
   },
   "id": "8520e8627e6a770c"
  },
  {
   "cell_type": "markdown",
   "source": [
    "## cell4"
   ],
   "metadata": {
    "collapsed": false
   },
   "id": "67351e5ecd047879"
  },
  {
   "cell_type": "code",
   "execution_count": 52,
   "outputs": [
    {
     "name": "stdout",
     "output_type": "stream",
     "text": [
      "param  Temp  Soc           C_1       R_0       R_1\n",
      "0        15    0   9655.887330  0.013612  0.014383\n",
      "1        15   10   8960.577385  0.014149  0.014264\n",
      "2        15   20   9455.065286  0.014868  0.018994\n",
      "3        15   30  14273.722858  0.015673  0.021401\n",
      "4        15   40   8889.953426  0.015858  0.017680\n",
      "5        15   50   7119.632085  0.017630  0.023079\n",
      "6        20    0  11287.333977  0.012312  0.013065\n",
      "7        20   10  10731.028600  0.012853  0.014136\n",
      "8        20   20  12065.836535  0.013174  0.017804\n",
      "9        20   30  13983.937127  0.013798  0.018224\n",
      "10       20   40  10262.743957  0.013956  0.017169\n",
      "11       20   50   6654.396293  0.016500  0.027384\n"
     ]
    },
    {
     "name": "stderr",
     "output_type": "stream",
     "text": [
      "/tmp/ipykernel_9666/528985934.py:32: DeprecationWarning: `interp2d` is deprecated!\n",
      "`interp2d` is deprecated in SciPy 1.10 and will be removed in SciPy 1.12.0.\n",
      "\n",
      "For legacy code, nearly bug-for-bug compatible replacements are\n",
      "`RectBivariateSpline` on regular grids, and `bisplrep`/`bisplev` for\n",
      "scattered 2D data.\n",
      "\n",
      "In new code, for regular grids use `RegularGridInterpolator` instead.\n",
      "For scattered data, prefer `LinearNDInterpolator` or\n",
      "`CloughTocher2DInterpolator`.\n",
      "\n",
      "For more details see\n",
      "`https://gist.github.com/ev-br/8544371b40f414b7eaf3fe6217209bff`\n",
      "\n",
      "  f = interpolate.interp2d(temp, soc, z, kind='linear')\n",
      "/tmp/ipykernel_9666/528985934.py:33: DeprecationWarning:         `interp2d` is deprecated!\n",
      "        `interp2d` is deprecated in SciPy 1.10 and will be removed in SciPy 1.12.0.\n",
      "\n",
      "        For legacy code, nearly bug-for-bug compatible replacements are\n",
      "        `RectBivariateSpline` on regular grids, and `bisplrep`/`bisplev` for\n",
      "        scattered 2D data.\n",
      "\n",
      "        In new code, for regular grids use `RegularGridInterpolator` instead.\n",
      "        For scattered data, prefer `LinearNDInterpolator` or\n",
      "        `CloughTocher2DInterpolator`.\n",
      "\n",
      "        For more details see\n",
      "        `https://gist.github.com/ev-br/8544371b40f414b7eaf3fe6217209bff`\n",
      "\n",
      "  z_new = f(temp_new, soc)\n"
     ]
    }
   ],
   "source": [
    "#df_T_10_soc_two = df_T_10[( df_T_10['Soc'] >= 50) & (df_T_10['Soc'] <= 100) ]\n",
    "df_T_25_soc_four = df_T_25[ ( df_T_25['Soc'] >= 50) & (df_T_25['Soc'] <= 100) ]\n",
    "df_T_40_soc_four = df_T_40[ ( df_T_40['Soc'] >= 50) & (df_T_40['Soc'] <= 100) ]\n",
    "\n",
    "chunk_size = 6\n",
    "temp = np.array([25, 40])\n",
    "soc = np.array([0, 10, 20, 30, 40, 50])\n",
    "parameters = ['R_0', 'R_1', 'C_1']\n",
    "temp_new = [30, 35]\n",
    "\n",
    "# List to store results for each parameter\n",
    "interpolated_results = []\n",
    "\n",
    "for start in range(0, len(df_T_10_soc_two), chunk_size):\n",
    "    chunk_25 = df_T_25_soc_four.iloc[start:start + chunk_size]\n",
    "    chunk_40 = df_T_40_soc_four.iloc[start:start + chunk_size]\n",
    "    \n",
    "    for param in parameters:\n",
    "        # Extracting the parameter values for the chunks\n",
    "        values_25 = chunk_25[param].values\n",
    "        values_40 = chunk_40[param].values\n",
    "        \n",
    "        # Check the shape of values_10 and values_25 to make sure they match soc.size\n",
    "        if len(values_25) != len(soc) or len(values_40) != len(soc):\n",
    "            print(f\"Chunk size mismatch for parameter {param} at index {start}\")\n",
    "            continue\n",
    "        \n",
    "        # Creating the array for interpolation with the correct shape (n, m)\n",
    "        z = np.vstack((values_25, values_40)).T  # Transpose to get shape (n, m)\n",
    "        \n",
    "        # Performing the interpolation\n",
    "        f = interpolate.interp2d(temp, soc, z, kind='linear')\n",
    "        z_new = f(temp_new, soc)\n",
    "        \n",
    "        # Store the interpolated results\n",
    "        for i, temp_val in enumerate(temp_new):\n",
    "            for j, soc_val in enumerate(soc):\n",
    "                interpolated_results.append({\n",
    "                    'Temp': temp_val,\n",
    "                    'Soc': soc_val,\n",
    "                    'param': param,\n",
    "                    'value': z_new[j, i]\n",
    "                })\n",
    "\n",
    "# Convert the interpolated results to a DataFrame\n",
    "df_interpolated_four = pd.DataFrame(interpolated_results)\n",
    "\n",
    "# Pivot the DataFrame to get the desired structure\n",
    "df_interpolated_pivot_four = df_interpolated_two.pivot_table(index=['Temp', 'Soc'], columns='param', values='value').reset_index()\n",
    "\n",
    "print(df_interpolated_pivot_four)"
   ],
   "metadata": {
    "collapsed": false,
    "ExecuteTime": {
     "end_time": "2024-06-08T08:41:08.475594100Z",
     "start_time": "2024-06-08T08:41:08.388511100Z"
    }
   },
   "id": "379d54aad3c27104"
  },
  {
   "cell_type": "code",
   "execution_count": 53,
   "outputs": [],
   "source": [
    "cluster_four = pd.concat([df_interpolated_pivot_four, df_T_40_soc_four])"
   ],
   "metadata": {
    "collapsed": false,
    "ExecuteTime": {
     "end_time": "2024-06-08T08:41:14.738235600Z",
     "start_time": "2024-06-08T08:41:14.708831Z"
    }
   },
   "id": "2797c507ff7d0ca2"
  },
  {
   "cell_type": "code",
   "execution_count": 54,
   "outputs": [
    {
     "data": {
      "text/plain": "30"
     },
     "execution_count": 54,
     "metadata": {},
     "output_type": "execute_result"
    }
   ],
   "source": [
    "len(cluster_four)"
   ],
   "metadata": {
    "collapsed": false,
    "ExecuteTime": {
     "end_time": "2024-06-08T08:41:15.390843400Z",
     "start_time": "2024-06-08T08:41:15.342742300Z"
    }
   },
   "id": "e8c4fa4eaa6eb257"
  },
  {
   "cell_type": "code",
   "execution_count": 55,
   "outputs": [],
   "source": [
    "cluster_four = cluster_four.drop('skip', axis =1)"
   ],
   "metadata": {
    "collapsed": false,
    "ExecuteTime": {
     "end_time": "2024-06-08T08:41:37.763470400Z",
     "start_time": "2024-06-08T08:41:37.645572100Z"
    }
   },
   "id": "12b72f32bacc0000"
  },
  {
   "cell_type": "code",
   "execution_count": 56,
   "outputs": [
    {
     "data": {
      "text/plain": "            Temp         Soc           C_1        R_0        R_1\ncount  30.000000   30.000000     30.000000  30.000000  30.000000\nmean   31.000000   55.000000  13702.497715   0.010468   0.012837\nstd    11.325893   30.371266   4368.180041   0.003522   0.005340\nmin    15.000000    0.000000   6654.396293   0.007287   0.006666\n25%    20.000000   32.500000  10460.604633   0.007684   0.008535\n50%    40.000000   55.000000  13865.795274   0.008014   0.011618\n75%    40.000000   80.000000  16267.990572   0.013751   0.016473\nmax    40.000000  100.000000  27306.615043   0.017630   0.027384",
      "text/html": "<div>\n<style scoped>\n    .dataframe tbody tr th:only-of-type {\n        vertical-align: middle;\n    }\n\n    .dataframe tbody tr th {\n        vertical-align: top;\n    }\n\n    .dataframe thead th {\n        text-align: right;\n    }\n</style>\n<table border=\"1\" class=\"dataframe\">\n  <thead>\n    <tr style=\"text-align: right;\">\n      <th></th>\n      <th>Temp</th>\n      <th>Soc</th>\n      <th>C_1</th>\n      <th>R_0</th>\n      <th>R_1</th>\n    </tr>\n  </thead>\n  <tbody>\n    <tr>\n      <th>count</th>\n      <td>30.000000</td>\n      <td>30.000000</td>\n      <td>30.000000</td>\n      <td>30.000000</td>\n      <td>30.000000</td>\n    </tr>\n    <tr>\n      <th>mean</th>\n      <td>31.000000</td>\n      <td>55.000000</td>\n      <td>13702.497715</td>\n      <td>0.010468</td>\n      <td>0.012837</td>\n    </tr>\n    <tr>\n      <th>std</th>\n      <td>11.325893</td>\n      <td>30.371266</td>\n      <td>4368.180041</td>\n      <td>0.003522</td>\n      <td>0.005340</td>\n    </tr>\n    <tr>\n      <th>min</th>\n      <td>15.000000</td>\n      <td>0.000000</td>\n      <td>6654.396293</td>\n      <td>0.007287</td>\n      <td>0.006666</td>\n    </tr>\n    <tr>\n      <th>25%</th>\n      <td>20.000000</td>\n      <td>32.500000</td>\n      <td>10460.604633</td>\n      <td>0.007684</td>\n      <td>0.008535</td>\n    </tr>\n    <tr>\n      <th>50%</th>\n      <td>40.000000</td>\n      <td>55.000000</td>\n      <td>13865.795274</td>\n      <td>0.008014</td>\n      <td>0.011618</td>\n    </tr>\n    <tr>\n      <th>75%</th>\n      <td>40.000000</td>\n      <td>80.000000</td>\n      <td>16267.990572</td>\n      <td>0.013751</td>\n      <td>0.016473</td>\n    </tr>\n    <tr>\n      <th>max</th>\n      <td>40.000000</td>\n      <td>100.000000</td>\n      <td>27306.615043</td>\n      <td>0.017630</td>\n      <td>0.027384</td>\n    </tr>\n  </tbody>\n</table>\n</div>"
     },
     "execution_count": 56,
     "metadata": {},
     "output_type": "execute_result"
    }
   ],
   "source": [
    "cluster_four.describe()"
   ],
   "metadata": {
    "collapsed": false,
    "ExecuteTime": {
     "end_time": "2024-06-08T08:42:02.273751100Z",
     "start_time": "2024-06-08T08:42:02.134627400Z"
    }
   },
   "id": "b179874106bd81a1"
  },
  {
   "cell_type": "code",
   "execution_count": 58,
   "outputs": [],
   "source": [
    "cluster_four.to_csv(\"phi_four.csv\", index=False, na_rep='NaN')"
   ],
   "metadata": {
    "collapsed": false,
    "ExecuteTime": {
     "end_time": "2024-06-08T08:43:11.788103200Z",
     "start_time": "2024-06-08T08:43:11.595139400Z"
    }
   },
   "id": "d6112730bfcb7250"
  },
  {
   "cell_type": "code",
   "execution_count": null,
   "outputs": [],
   "source": [],
   "metadata": {
    "collapsed": false
   },
   "id": "33e1d169c864faac"
  }
 ],
 "metadata": {
  "kernelspec": {
   "display_name": "Python 3",
   "language": "python",
   "name": "python3"
  },
  "language_info": {
   "codemirror_mode": {
    "name": "ipython",
    "version": 2
   },
   "file_extension": ".py",
   "mimetype": "text/x-python",
   "name": "python",
   "nbconvert_exporter": "python",
   "pygments_lexer": "ipython2",
   "version": "2.7.6"
  }
 },
 "nbformat": 4,
 "nbformat_minor": 5
}
